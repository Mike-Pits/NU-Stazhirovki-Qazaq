{
  "nbformat": 4,
  "nbformat_minor": 0,
  "metadata": {
    "colab": {
      "provenance": [],
      "collapsed_sections": [
        "LU40Y-VtEOXn",
        "ceLPSS0LPMwL",
        "pYi212X5oUKo",
        "JrblLEftbcbA",
        "MwVQRVm8u2ZX",
        "BmpetEXvOd4W",
        "ClXYQW6lOh7w",
        "yO65gy8eOjZT",
        "hPf252fEOl8_",
        "_QcuLbWQOnMH",
        "byurtBbznNMN",
        "lrr1Ez67qCps",
        "WPl_A3aEqEhu",
        "rHtciUNdrI4V"
      ]
    },
    "kernelspec": {
      "name": "python3",
      "display_name": "Python 3"
    },
    "language_info": {
      "name": "python"
    }
  },
  "cells": [
    {
      "cell_type": "markdown",
      "metadata": {
        "id": "LU40Y-VtEOXn"
      },
      "source": [
        "# *Импорт библиотек*"
      ]
    },
    {
      "cell_type": "code",
      "source": [
        "%%capture\n",
        "!pip install autokeras"
      ],
      "metadata": {
        "id": "7xuuixTICbzk"
      },
      "execution_count": null,
      "outputs": []
    },
    {
      "cell_type": "code",
      "execution_count": null,
      "metadata": {
        "id": "oJH2x6w8EQ2R"
      },
      "outputs": [],
      "source": [
        "from google.colab import files # Импортируем Модуль files для работы с файлами\n",
        "import matplotlib.pyplot as plt # Импортируем модуль pyplot библиотеки matplotlib для построения графиков\n",
        "%matplotlib inline\n",
        "import seaborn as sns\n",
        "\n",
        "plt.style.use('seaborn-white')\n",
        "sns.set_context('notebook', rc={'figure.figsize': (10, 8)}, font_scale=1.5)\n",
        "\n",
        "import numpy as np # Импортируем библиотеку numpy\n",
        "import pandas as pd\n",
        "\n",
        "import time\n",
        "import random\n",
        "import math\n",
        "import re\n",
        "import os # Импортируем библиотеку os для раоты с фаловой системой\n",
        "import shutil\n",
        "import json\n",
        "import cv2\n",
        "\n",
        "from copy import deepcopy\n",
        "from IPython.display import clear_output\n",
        "\n",
        "# from tensorflow.keras.applications import MobileNetV3Small\n",
        "# from tensorflow.keras.models import Model\n",
        "# from tensorflow.keras.layers import Dense, GlobalAveragePooling2D\n",
        "# from tensorflow.keras.optimizers import Adam\n",
        "from tensorflow.keras.callbacks import ModelCheckpoint\n",
        "from tensorflow import one_hot\n",
        "# from tensorflow.keras.preprocessing import image # Импортируем модуль image для работы с изображениями\n",
        "\n",
        "from sklearn.model_selection import train_test_split"
      ]
    },
    {
      "cell_type": "code",
      "source": [
        "from PIL import Image, ImageFile, ImageOps # импортируем модель Image для работы с изображениями\n",
        "ImageFile.LOAD_TRUNCATED_IMAGES = True"
      ],
      "metadata": {
        "id": "Su9AtGTjXb8u"
      },
      "execution_count": null,
      "outputs": []
    },
    {
      "cell_type": "code",
      "execution_count": null,
      "metadata": {
        "id": "vpahpmBOEIaE"
      },
      "outputs": [],
      "source": [
        "from google.colab import drive # Подключаем гугл-диск\n",
        "drive.mount('/content/drive')"
      ]
    },
    {
      "cell_type": "code",
      "execution_count": null,
      "metadata": {
        "id": "veFRKBEhutK7"
      },
      "outputs": [],
      "source": [
        "# Контекстный менеджер для измерения времени операций\n",
        "# Операция обертывается менеджером с помощью оператора with\n",
        "class timex:\n",
        "    def __enter__(self):\n",
        "        # Фиксация времени старта процесса\n",
        "        self.t = time.time()\n",
        "        return self\n",
        "\n",
        "    def __exit__(self, type, value, traceback):\n",
        "        # Вывод времени работы\n",
        "        # print('Время обработки: {:.2f} с'.format(time.time() - self.t))\n",
        "        seconds_total = time.time() - self.t\n",
        "        minutes = int(seconds_total // 60)\n",
        "        seconds = (seconds_total % 60) + (seconds_total - math.floor(seconds_total))\n",
        "        print('Время обработки: {} мин {:.2f} c'.format(minutes, seconds))\n",
        "\n",
        "with timex():\n",
        "    print()"
      ]
    },
    {
      "cell_type": "code",
      "source": [
        "# Указываем путь к базе данных\n",
        "directory = '/content/drive/MyDrive/Colab/Базы/Стажировка 2023/Распознавание информации на платежных поручениях/Scans'\n",
        "directory_new = '/content/ClearedReshapedBase'"
      ],
      "metadata": {
        "id": "fhpCIaXO786A"
      },
      "execution_count": null,
      "outputs": []
    },
    {
      "cell_type": "markdown",
      "source": [
        "# **Подготовка данных**"
      ],
      "metadata": {
        "id": "ceLPSS0LPMwL"
      }
    },
    {
      "cell_type": "code",
      "source": [
        "# Загрузка датафрейма\n",
        "df = pd.read_csv('/content/drive/MyDrive/df_info_new_ru.csv')\n",
        "\n",
        "df = df[df['instant_rotation_cv2'] == 0]\n",
        "df = df[df['instant_rotation_PIL'] == 0]\n",
        "df.head()"
      ],
      "metadata": {
        "id": "LyVqu4uvdfHZ"
      },
      "execution_count": null,
      "outputs": []
    },
    {
      "cell_type": "code",
      "source": [
        "df.columns"
      ],
      "metadata": {
        "id": "6Q_eMNW9egJW"
      },
      "execution_count": null,
      "outputs": []
    },
    {
      "cell_type": "code",
      "source": [
        "# Создаём выборки\n",
        "# Добавляем выборку без ошибок\n",
        "rows_with_zeros = df[(df[df.columns[20:]] == 0).all(axis=1)]\n",
        "filtered_df = df.loc[rows_with_zeros.index]\n",
        "\n",
        "filelist = set(list(filtered_df[filtered_df['deskew_angle'].apply(abs) < 1]['filename'])[:200])\n",
        "f_sum = len(filelist)\n",
        "\n",
        "# Добавляем выборки из разных категорий\n",
        "filelist.update(set(df[df['deskew_angle'].apply(abs) > 3]['filename']))\n",
        "print('{:70} {}'.format('Файлов с большим углом поворота:', abs(f_sum - len(filelist))))\n",
        "f_sum = len(filelist)\n",
        "\n",
        "filelist.update(set(df[df['не белый фон'] == 1]['filename']))\n",
        "print('{:70} {}'.format('Не белый фон:', abs(f_sum - len(filelist))))\n",
        "f_sum = len(filelist)\n",
        "\n",
        "filelist.update(set(list(df[df['cropped'] == 1]['filename'])[:100]))\n",
        "print('{:70} {}'.format('Обрезанные:', abs(f_sum - len(filelist))))\n",
        "f_sum = len(filelist)\n",
        "\n",
        "filelist.update(set(list(df[df['выброс'] == 1]['filename'])[:150]))\n",
        "print('{:70} {}'.format('Выброс:', abs(f_sum - len(filelist))))\n",
        "f_sum = len(filelist)\n",
        "\n",
        "filelist.update(set(list(df[df['искажение документа'] == 1]['filename'])[:100]))\n",
        "print('{:70} {}'.format('Искажение документа:', abs(f_sum - len(filelist))))\n",
        "f_sum = len(filelist)\n",
        "\n",
        "filelist.update(set(list(df[df['нестандартный контраст'] == 1]['filename'])[:100]))\n",
        "print('{:70} {}'.format('Нестандартный контраст:', abs(f_sum - len(filelist))))\n",
        "f_sum = len(filelist)\n",
        "\n",
        "filelist.update(set(list(df[df['грязь'] == 1]['filename'])[:100]))\n",
        "print('{:70} {}'.format('Грязь:', abs(f_sum - len(filelist))))\n",
        "f_sum = len(filelist)\n",
        "\n",
        "filelist.update(set(list(df[df['плохая печать'] == 1]['filename'])[:100]))\n",
        "print('{:70} {}'.format('Плохая печать:', abs(f_sum - len(filelist))))\n",
        "f_sum = len(filelist)\n",
        "\n",
        "filelist = list(filelist)\n",
        "print(f'Всего файлов для обучения: {len(filelist)}')"
      ],
      "metadata": {
        "id": "Dm4nZkFvjQbb"
      },
      "execution_count": null,
      "outputs": []
    },
    {
      "cell_type": "code",
      "source": [
        "files_dirs = []\n",
        "directory = '/content/drive/MyDrive/Colab/Базы/Стажировка 2023/Распознавание информации на платежных поручениях/Scans/'\n",
        "\n",
        "for i in filelist:\n",
        "    files_dirs.append(directory + i)\n",
        "\n",
        "print(files_dirs[:3])\n",
        "print(len(files_dirs))"
      ],
      "metadata": {
        "id": "kT7RBV0BxGBE"
      },
      "execution_count": null,
      "outputs": []
    },
    {
      "cell_type": "code",
      "source": [
        "# Размер, к которому вы хотите привести изображения\n",
        "target_size = (224, 224)\n",
        "\n",
        "image_list = []\n",
        "with timex():\n",
        "    for i, filename in enumerate(files_dirs):\n",
        "        img = cv2.imread(filename)                                          # Открываем\n",
        "        img = cv2.cvtColor(img, cv2.COLOR_BGR2GRAY)                         # Переводим в чёрно-белый вид\n",
        "        img = cv2.resize(img, target_size, interpolation=cv2.INTER_AREA)    # Уменьшаем\n",
        "\n",
        "        image_list.append(img)\n",
        "\n",
        "        if i % 100 == 0:\n",
        "            clear_output()\n",
        "            print(i)\n",
        "\n",
        "# Поворот изображений и добавление их в общую выборку\n",
        "rotated_images = []\n",
        "with timex():\n",
        "    for img in image_list:\n",
        "        rotated_images.append(img)  # Оригинальное изображение\n",
        "\n",
        "        # Поворот на 90, -90 и 180 градусов\n",
        "        for angle_func in [cv2.ROTATE_90_CLOCKWISE, cv2.ROTATE_90_COUNTERCLOCKWISE, cv2.ROTATE_180]:\n",
        "            rotated_images.append(cv2.rotate(img, angle_func))\n",
        "\n",
        "del image_list"
      ],
      "metadata": {
        "id": "OzLPcuXWNDFK"
      },
      "execution_count": null,
      "outputs": []
    },
    {
      "cell_type": "code",
      "source": [
        "rotated_images = [image / 255.0 for image in rotated_images]                    # нормализация (диапазон [0, 1])\n",
        "rotated_images = [np.expand_dims(image, axis=2) for image in rotated_images]    # добавляем ещё одну размерность (224,224,1)\n",
        "rotated_images = np.array(rotated_images)                                       # перевод в numpy массив\n",
        "\n",
        "# Разметка изображений\n",
        "labels = [0, 1, 2, 3] * (len(rotated_images) // 4)\n",
        "\n",
        "# Перевод меток в формат One-Hot Encoding\n",
        "one_hot_labels = np.array(one_hot(labels, depth=4))\n",
        "\n",
        "# Создание обучающей и тестовой выборок\n",
        "xTrain, xTest, yTrain, yTest = train_test_split(rotated_images, one_hot_labels, test_size=0.2, random_state=42)\n",
        "del one_hot_labels, rotated_images"
      ],
      "metadata": {
        "id": "0_CobF5CNS7M"
      },
      "execution_count": null,
      "outputs": []
    },
    {
      "cell_type": "code",
      "source": [
        "import gc\n",
        "gc.collect()"
      ],
      "metadata": {
        "id": "ljeUJjyi8eIr"
      },
      "execution_count": null,
      "outputs": []
    },
    {
      "cell_type": "code",
      "source": [
        "print('Размер тестовой выборки: {}'.format(len(list(df[~df['filename'].isin(filelist)]['filename']))))"
      ],
      "metadata": {
        "id": "Qys8Y-7u2o_G"
      },
      "execution_count": null,
      "outputs": []
    },
    {
      "cell_type": "code",
      "source": [
        "# Тестовая выборка\n",
        "filelist_val = list(df[~df['filename'].isin(filelist)]['filename'])[0:1000]\n",
        "files_dirs_val = ['/content/drive/MyDrive/Colab/Базы/Стажировка 2023/Распознавание информации на платежных поручениях/Scans/' + i for i in filelist_val]\n",
        "\n",
        "target_size = (224, 224)\n",
        "\n",
        "image_list_val = []\n",
        "with timex():\n",
        "    for i, filename in enumerate(files_dirs_val):\n",
        "        try:\n",
        "            img = cv2.imread(filename)                                          # Открываем\n",
        "            img = cv2.cvtColor(img, cv2.COLOR_BGR2GRAY)                         # Переводим в чёрно-белый вид\n",
        "            img = cv2.resize(img, target_size, interpolation=cv2.INTER_AREA)    # Уменьшаем\n",
        "\n",
        "            image_list_val.append(img)\n",
        "        except:\n",
        "            print(f'Ошибка с файлом {filename}')\n",
        "            cont = input('Продолжить? (y/n) ')\n",
        "            if cont == 'y':\n",
        "                pass\n",
        "            else:\n",
        "                raise Exception()\n",
        "\n",
        "        if i % 100 == 0:\n",
        "            clear_output()\n",
        "            print(i)\n",
        "\n",
        "# Поворот изображений и добавление их в общую выборку\n",
        "rotated_images_val = []\n",
        "with timex():\n",
        "    for img in image_list_val:\n",
        "        rotated_images_val.append(img)  # Оригинальное изображение\n",
        "\n",
        "        # Поворот на 90, -90 и 180 градусов\n",
        "        for angle_func in [cv2.ROTATE_90_CLOCKWISE, cv2.ROTATE_90_COUNTERCLOCKWISE, cv2.ROTATE_180]:\n",
        "            rotated_images_val.append(cv2.rotate(img, angle_func))\n",
        "\n",
        "del image_list_val\n",
        "\n",
        "rotated_images_val = [image / 255.0 for image in rotated_images_val]                    # нормализация (диапазон [0, 1])\n",
        "rotated_images_val = [np.expand_dims(image, axis=2) for image in rotated_images_val]    # добавляем ещё одну размерность (224,224,1)\n",
        "rotated_images_val = np.array(rotated_images_val)                                       # перевод в numpy массив\n",
        "\n",
        "# Разметка изображений\n",
        "labels = [0, 1, 2, 3] * (len(rotated_images_val) // 4)\n",
        "\n",
        "# Перевод меток в формат One-Hot Encoding\n",
        "one_hot_labels_val = np.array(one_hot(labels, depth=4))"
      ],
      "metadata": {
        "id": "jm3kh1ghkRzv"
      },
      "execution_count": null,
      "outputs": []
    },
    {
      "cell_type": "code",
      "source": [
        "del one_hot_labels_val, rotated_images_val"
      ],
      "metadata": {
        "id": "9PcTu5vAnoj4"
      },
      "execution_count": null,
      "outputs": []
    },
    {
      "cell_type": "markdown",
      "source": [
        "# **Обучение архитектуры autokeras**\n",
        "> **Точность на валидационной выборке: 99.14%**\n"
      ],
      "metadata": {
        "id": "pYi212X5oUKo"
      }
    },
    {
      "cell_type": "code",
      "source": [
        "import autokeras as ak\n",
        "\n",
        "# Создаём ImageClassifier\n",
        "clf = ak.ImageClassifier(max_trials=1)"
      ],
      "metadata": {
        "id": "2aJxX7Z80z5r"
      },
      "execution_count": null,
      "outputs": []
    },
    {
      "cell_type": "code",
      "source": [
        "# Обучаем модель\n",
        "clf.fit(xTrain, yTrain, epochs=5)\n",
        "\n",
        "# Результаты модели\n",
        "results = clf.evaluate(xTest, yTest)\n",
        "print(results)\n",
        "\n",
        "# Экспортируем модель\n",
        "best_model = clf.export_model()\n",
        "best_model.summary()\n",
        "\n",
        "# Сохраняем модель\n",
        "best_model.save('/content/drive/MyDrive/bestmodel_autokeras_06_12_2023.h5')"
      ],
      "metadata": {
        "id": "Txg52oJhcvCt"
      },
      "execution_count": null,
      "outputs": []
    },
    {
      "cell_type": "markdown",
      "source": [
        "# **Дообучение модели**\n",
        "> **Точность на валидационной выборке после обучения: 100.00%**"
      ],
      "metadata": {
        "id": "JrblLEftbcbA"
      }
    },
    {
      "cell_type": "code",
      "source": [
        "import tensorflow as tf\n",
        "from keras.optimizers import Adam\n",
        "from keras import backend as K\n",
        "from autokeras import CUSTOM_OBJECTS"
      ],
      "metadata": {
        "id": "C8qNEqmQT4d3"
      },
      "execution_count": null,
      "outputs": []
    },
    {
      "cell_type": "code",
      "source": [
        "model = tf.keras.models.load_model('/content/drive/MyDrive/bestmodel_autokeras_06_12_2023.h5', custom_objects=CUSTOM_OBJECTS)"
      ],
      "metadata": {
        "id": "WequQM1PO_xi"
      },
      "execution_count": null,
      "outputs": []
    },
    {
      "cell_type": "code",
      "source": [
        "model.summary()"
      ],
      "metadata": {
        "id": "EohGS2eenXWq"
      },
      "execution_count": null,
      "outputs": []
    },
    {
      "cell_type": "code",
      "source": [
        "def recall_m(y_true, y_pred):\n",
        "    true_positives = K.sum(K.round(K.clip(y_true * y_pred, 0, 1)))\n",
        "    possible_positives = K.sum(K.round(K.clip(y_true, 0, 1)))\n",
        "    recall = true_positives / (possible_positives + K.epsilon())\n",
        "    return recall\n",
        "\n",
        "def precision_m(y_true, y_pred):\n",
        "    true_positives = K.sum(K.round(K.clip(y_true * y_pred, 0, 1)))\n",
        "    predicted_positives = K.sum(K.round(K.clip(y_pred, 0, 1)))\n",
        "    precision = true_positives / (predicted_positives + K.epsilon())\n",
        "    return precision\n",
        "\n",
        "def f1_m(y_true, y_pred):\n",
        "    precision = precision_m(y_true, y_pred)\n",
        "    recall = recall_m(y_true, y_pred)\n",
        "    return 2 * ((precision * recall) / (precision + recall + K.epsilon()))\n",
        "\n",
        "optimizer = Adam(learning_rate=0.0001)\n",
        "model.compile(loss='categorical_crossentropy', optimizer=optimizer, metrics=['accuracy', recall_m, precision_m, f1_m])"
      ],
      "metadata": {
        "id": "3pFlzxFcPxNJ"
      },
      "execution_count": null,
      "outputs": []
    },
    {
      "cell_type": "code",
      "source": [
        "def print_model_acc(model):\n",
        "    # Оценка модели на тестовой выборке\n",
        "    evaluation = model.evaluate(xTest, yTest)\n",
        "    accuracy = evaluation[1]\n",
        "    print(f\"Точность модели на тестовой выборке: {accuracy * 100:.2f}%\")\n",
        "\n",
        "# Для сбора мусора\n",
        "class GarbageCollectorCallback(tf.keras.callbacks.Callback):\n",
        "    def on_epoch_end(self, epoch, logs=None):\n",
        "        gc.collect()\n",
        "\n",
        "def plot_history(history):\n",
        "    # Графики для precision, recall и f1\n",
        "    plt.figure(figsize=(12, 6))\n",
        "    plt.subplot(1, 2, 1)\n",
        "    plt.plot(history.history['precision_m'], label='Precision', color='#3359FF', linestyle='-')\n",
        "    plt.plot(history.history['recall_m'], label='Recall', color='#33ECFF', linestyle='--')\n",
        "    plt.plot(history.history['f1_m'], label='F1-score', color='#33BCFF', linestyle='-.')\n",
        "\n",
        "    plt.plot(history.history['val_precision_m'], label='Val Precision', color='#FF3333', linestyle='-')\n",
        "    plt.plot(history.history['val_recall_m'], label='Val Recall', color='#FF8D33', linestyle='--')\n",
        "    plt.plot(history.history['val_f1_m'], label='Val F1-score', color='#FFE433', linestyle='-.')\n",
        "\n",
        "    plt.title('Precision, Recall, and F1-score')\n",
        "    plt.xlabel('Epoch')\n",
        "    plt.ylabel('Metrics')\n",
        "    plt.legend()\n",
        "    plt.grid(True)\n",
        "\n",
        "    # График для loss и val_loss\n",
        "    plt.subplot(1, 2, 2)\n",
        "    plt.plot(history.history['loss'], label='Training Loss', color='red', linestyle='-')\n",
        "    plt.plot(history.history['val_loss'], label='Validation Loss', color='purple', linestyle='--')\n",
        "    plt.title('Training and Validation Loss')\n",
        "    plt.xlabel('Epoch')\n",
        "    plt.ylabel('Loss')\n",
        "    plt.legend()\n",
        "    plt.grid(True)\n",
        "\n",
        "    plt.tight_layout()\n",
        "    plt.show()\n",
        "\n",
        "save_path = \"/content/drive/MyDrive/best_model_auto.h5\"\n",
        "\n",
        "# Создание объекта ModelCheckpoint для сохранения весов\n",
        "checkpoint = ModelCheckpoint(save_path, monitor='val_accuracy', save_best_only=True, mode='max')\n",
        "garbage_collector = GarbageCollectorCallback()"
      ],
      "metadata": {
        "id": "Oi236JQWPeDR"
      },
      "execution_count": null,
      "outputs": []
    },
    {
      "cell_type": "code",
      "source": [
        "# Обучение модели с использованием ModelCheckpoint\n",
        "history = model.fit(xTrain, yTrain, validation_data=(xTest, yTest), epochs=5, batch_size=64, callbacks=[checkpoint])\n",
        "\n",
        "# Загрузка лучших весов после обучения\n",
        "# model.load_weights(save_path)"
      ],
      "metadata": {
        "id": "oC6iPqJgj3jf"
      },
      "execution_count": null,
      "outputs": []
    },
    {
      "cell_type": "code",
      "source": [
        "plot_history(history)"
      ],
      "metadata": {
        "id": "CtLPzq6xiDTZ"
      },
      "execution_count": null,
      "outputs": []
    },
    {
      "cell_type": "code",
      "source": [
        "model.compile(loss='categorical_crossentropy', optimizer=optimizer, metrics=['accuracy'])"
      ],
      "metadata": {
        "id": "mI47IsUfJiNY"
      },
      "execution_count": null,
      "outputs": []
    },
    {
      "cell_type": "code",
      "source": [
        "model.save('/content/drive/MyDrive/bestmodel_autokeras_08_12_2023.h5')"
      ],
      "metadata": {
        "id": "1bZwsr9bl9EO"
      },
      "execution_count": null,
      "outputs": []
    },
    {
      "cell_type": "markdown",
      "source": [
        "# **Проверка на тестовой выборке после основного обучения**\n",
        "> Проверка на 4942 файлах, и их повёрнутых версиях (итого 19768 изображений)\n",
        "\n",
        "> **Точность: 99.77%**"
      ],
      "metadata": {
        "id": "MwVQRVm8u2ZX"
      }
    },
    {
      "cell_type": "code",
      "source": [
        "from sklearn.metrics import confusion_matrix, classification_report"
      ],
      "metadata": {
        "id": "5IzisPhLOgKY"
      },
      "execution_count": null,
      "outputs": []
    },
    {
      "cell_type": "code",
      "source": [
        "model = tf.keras.models.load_model('/content/drive/MyDrive/models/Qazaq Stroy | Распознание платёжных поручений/bestmodel_autokeras_08_12_2023_norm.h5', custom_objects=CUSTOM_OBJECTS)"
      ],
      "metadata": {
        "id": "FfCYW1K5S0iq"
      },
      "execution_count": null,
      "outputs": []
    },
    {
      "cell_type": "code",
      "source": [
        "# Списки для ошибочно распознанных файлов\n",
        "error_index_list = []\n",
        "error_img_list = []"
      ],
      "metadata": {
        "id": "tkTc1ptBW3T3"
      },
      "execution_count": null,
      "outputs": []
    },
    {
      "cell_type": "markdown",
      "source": [
        "#### 0-1000"
      ],
      "metadata": {
        "id": "BmpetEXvOd4W"
      }
    },
    {
      "cell_type": "code",
      "source": [
        "# Оценка модели на валидационной выборке (на которой не обучали) 0-1000\n",
        "evaluation = model.evaluate(rotated_images_val, one_hot_labels_val)\n",
        "\n",
        "accuracy = evaluation[1]\n",
        "print(f\"Точность модели на валидационной выборке: {accuracy * 100:.2f}%\")"
      ],
      "metadata": {
        "id": "8_m1fTR_5EZ2"
      },
      "execution_count": null,
      "outputs": []
    },
    {
      "cell_type": "code",
      "source": [
        "# Делаем предикт модели\n",
        "y_pred = model.predict(rotated_images_val)\n",
        "\n",
        "# Переводим списки в классы\n",
        "y_pred = np.argmax(y_pred, axis=1)\n",
        "y_true = np.argmax(one_hot_labels_val, axis=1)"
      ],
      "metadata": {
        "id": "oh-8KKIuUC0Z"
      },
      "execution_count": null,
      "outputs": []
    },
    {
      "cell_type": "code",
      "source": [
        "# y_true - истинные метки, y_pred - предсказанные метки модели\n",
        "conf_matrix = confusion_matrix(y_true, y_pred)\n",
        "print(\"Матрица ошибок:\")\n",
        "print(conf_matrix)\n",
        "\n",
        "print()\n",
        "\n",
        "class_report = classification_report(y_true, y_pred)\n",
        "print(\"Отчёт о классификации:\")\n",
        "print(class_report)"
      ],
      "metadata": {
        "id": "n6fPXgdiT4w1"
      },
      "execution_count": null,
      "outputs": []
    },
    {
      "cell_type": "code",
      "source": [
        "incorrect_indices = [i for i in range(len(y_true)) if y_true[i] != y_pred[i]]\n",
        "\n",
        "print(\"Индексы неправильно классифицированных примеров:\")\n",
        "print(incorrect_indices)"
      ],
      "metadata": {
        "id": "45xm3w1dV88T"
      },
      "execution_count": null,
      "outputs": []
    },
    {
      "cell_type": "code",
      "source": [
        "# Добавляем в списки\n",
        "error_index_list += incorrect_indices\n",
        "error_img_list += [img for i, img in enumerate(rotated_images_val) if i in incorrect_indices]"
      ],
      "metadata": {
        "id": "zBcku-VJW0aM"
      },
      "execution_count": null,
      "outputs": []
    },
    {
      "cell_type": "markdown",
      "source": [
        "#### 1000-2000"
      ],
      "metadata": {
        "id": "ClXYQW6lOh7w"
      }
    },
    {
      "cell_type": "code",
      "source": [
        "# Оценка модели на валидационной выборке (на которой не обучали) 1000-2000\n",
        "evaluation = model.evaluate(rotated_images_val, one_hot_labels_val)\n",
        "\n",
        "accuracy = evaluation[1]\n",
        "print(f\"Точность модели на валидационной выборке: {accuracy * 100:.2f}%\")"
      ],
      "metadata": {
        "id": "KQZUNht_niki"
      },
      "execution_count": null,
      "outputs": []
    },
    {
      "cell_type": "markdown",
      "source": [
        "#### 2000-3000"
      ],
      "metadata": {
        "id": "yO65gy8eOjZT"
      }
    },
    {
      "cell_type": "code",
      "source": [
        "# Оценка модели на валидационной выборке (на которой не обучали) 2000-3000\n",
        "evaluation = model.evaluate(rotated_images_val, one_hot_labels_val)\n",
        "\n",
        "accuracy = evaluation[1]\n",
        "print(f\"Точность модели на валидационной выборке: {accuracy * 100:.2f}%\")"
      ],
      "metadata": {
        "id": "dWQuyIZHokCc"
      },
      "execution_count": null,
      "outputs": []
    },
    {
      "cell_type": "code",
      "source": [
        "# Делаем предикт модели\n",
        "y_pred = model.predict(rotated_images_val)\n",
        "\n",
        "# Переводим списки в классы\n",
        "y_pred = np.argmax(y_pred, axis=1)\n",
        "y_true = np.argmax(one_hot_labels_val, axis=1)\n",
        "\n",
        "# y_true - истинные метки, y_pred - предсказанные метки модели\n",
        "conf_matrix = confusion_matrix(y_true, y_pred)\n",
        "print(\"Матрица ошибок:\")\n",
        "print(conf_matrix)\n",
        "\n",
        "print()\n",
        "\n",
        "class_report = classification_report(y_true, y_pred)\n",
        "print(\"Отчёт о классификации:\")\n",
        "print(class_report)\n",
        "\n",
        "print()\n",
        "\n",
        "incorrect_indices = [i for i in range(len(y_true)) if y_true[i] != y_pred[i]]\n",
        "\n",
        "print(\"Индексы неправильно классифицированных примеров:\")\n",
        "print(incorrect_indices)\n",
        "\n",
        "# Добавляем в списки\n",
        "error_index_list += incorrect_indices\n",
        "error_img_list += [img for i, img in enumerate(rotated_images_val) if i in incorrect_indices]"
      ],
      "metadata": {
        "id": "memyxf41X34C"
      },
      "execution_count": null,
      "outputs": []
    },
    {
      "cell_type": "markdown",
      "source": [
        "#### 3000-4000"
      ],
      "metadata": {
        "id": "hPf252fEOl8_"
      }
    },
    {
      "cell_type": "code",
      "source": [
        "# Оценка модели на валидационной выборке (на которой не обучали) 3000-4000\n",
        "evaluation = model.evaluate(rotated_images_val, one_hot_labels_val)\n",
        "\n",
        "accuracy = evaluation[1]\n",
        "print(f\"Точность модели на валидационной выборке: {accuracy * 100:.2f}%\")"
      ],
      "metadata": {
        "id": "h8qzbuQQ2x5K"
      },
      "execution_count": null,
      "outputs": []
    },
    {
      "cell_type": "code",
      "source": [
        "# Делаем предикт модели\n",
        "y_pred = model.predict(rotated_images_val)\n",
        "\n",
        "# Переводим списки в классы\n",
        "y_pred = np.argmax(y_pred, axis=1)\n",
        "y_true = np.argmax(one_hot_labels_val, axis=1)\n",
        "\n",
        "# y_true - истинные метки, y_pred - предсказанные метки модели\n",
        "conf_matrix = confusion_matrix(y_true, y_pred)\n",
        "print(\"Матрица ошибок:\")\n",
        "print(conf_matrix)\n",
        "\n",
        "print()\n",
        "\n",
        "class_report = classification_report(y_true, y_pred)\n",
        "print(\"Отчёт о классификации:\")\n",
        "print(class_report)\n",
        "\n",
        "print()\n",
        "\n",
        "incorrect_indices = [i for i in range(len(y_true)) if y_true[i] != y_pred[i]]\n",
        "\n",
        "print(\"Индексы неправильно классифицированных примеров:\")\n",
        "print(incorrect_indices)\n",
        "\n",
        "# Добавляем в списки\n",
        "error_index_list += incorrect_indices\n",
        "error_img_list += [img for i, img in enumerate(rotated_images_val) if i in incorrect_indices]"
      ],
      "metadata": {
        "id": "aj6vRTwEYFXq"
      },
      "execution_count": null,
      "outputs": []
    },
    {
      "cell_type": "markdown",
      "source": [
        "#### 4000-4942"
      ],
      "metadata": {
        "id": "_QcuLbWQOnMH"
      }
    },
    {
      "cell_type": "code",
      "source": [
        "# Оценка модели на валидационной выборке (на которой не обучали) 4000-4942\n",
        "evaluation = model.evaluate(rotated_images_val, one_hot_labels_val)\n",
        "\n",
        "accuracy = evaluation[1]\n",
        "print(f\"Точность модели на валидационной выборке: {accuracy * 100:.2f}%\")"
      ],
      "metadata": {
        "id": "kiTrAppDCS5Y"
      },
      "execution_count": null,
      "outputs": []
    },
    {
      "cell_type": "code",
      "source": [
        "# Делаем предикт модели\n",
        "y_pred = model.predict(rotated_images_val)\n",
        "\n",
        "# Переводим списки в классы\n",
        "y_pred = np.argmax(y_pred, axis=1)\n",
        "y_true = np.argmax(one_hot_labels_val, axis=1)\n",
        "\n",
        "# y_true - истинные метки, y_pred - предсказанные метки модели\n",
        "conf_matrix = confusion_matrix(y_true, y_pred)\n",
        "print(\"Матрица ошибок:\")\n",
        "print(conf_matrix)\n",
        "\n",
        "print()\n",
        "\n",
        "class_report = classification_report(y_true, y_pred)\n",
        "print(\"Отчёт о классификации:\")\n",
        "print(class_report)\n",
        "\n",
        "print()\n",
        "\n",
        "incorrect_indices = [i for i in range(len(y_true)) if y_true[i] != y_pred[i]]\n",
        "\n",
        "print(\"Индексы неправильно классифицированных примеров:\")\n",
        "print(incorrect_indices)\n",
        "\n",
        "# Добавляем в списки\n",
        "error_index_list += incorrect_indices\n",
        "error_img_list += [img for i, img in enumerate(rotated_images_val) if i in incorrect_indices]"
      ],
      "metadata": {
        "id": "5zNcHuCHYGFs"
      },
      "execution_count": null,
      "outputs": []
    },
    {
      "cell_type": "markdown",
      "source": [
        "#### Точность модели по всем тестовым выборкам"
      ],
      "metadata": {
        "id": "YUWoMmTHOqGz"
      }
    },
    {
      "cell_type": "code",
      "source": [
        "# Итоговая точность\n",
        "final_acc = ((0.9990 * 1000) + (1.0000 * 1000) + (0.9992 * 1000) + (0.9965 * 1000) + (0.9934 * 942)) / 4942\n",
        "print(f\"Точность модели на тестовой выборке: {final_acc:.2%}\")"
      ],
      "metadata": {
        "id": "eyjamaTA-Bdz"
      },
      "execution_count": null,
      "outputs": []
    },
    {
      "cell_type": "markdown",
      "source": [
        "# **Дообучение на неправильно распознанных изображениях**"
      ],
      "metadata": {
        "id": "byurtBbznNMN"
      }
    },
    {
      "cell_type": "code",
      "source": [
        "optimizer = Adam(learning_rate=0.0001)\n",
        "model.compile(loss='categorical_crossentropy', optimizer=optimizer, metrics=['accuracy'])"
      ],
      "metadata": {
        "id": "hLhXD70JnZ6F"
      },
      "execution_count": null,
      "outputs": []
    },
    {
      "cell_type": "code",
      "source": [
        "# Составление выборок\n",
        "xTrain = np.array(error_img_list)\n",
        "yTrain = np.array(one_hot([i % 4 for i in error_index_list], depth=4))"
      ],
      "metadata": {
        "id": "iKPdvPSao7jH"
      },
      "execution_count": null,
      "outputs": []
    },
    {
      "cell_type": "code",
      "source": [
        "# Для графика точности\n",
        "acc_l = []\n",
        "loss_l = []"
      ],
      "metadata": {
        "id": "BqTkYz_spmMC"
      },
      "execution_count": null,
      "outputs": []
    },
    {
      "cell_type": "markdown",
      "source": [
        "##### **Обучение**"
      ],
      "metadata": {
        "id": "lrr1Ez67qCps"
      }
    },
    {
      "cell_type": "code",
      "source": [
        "# Обучение модели\n",
        "history = model.fit(xTrain, yTrain, epochs=5, batch_size=64)\n",
        "acc_l += history.history['accuracy']\n",
        "loss_l += history.history['loss']"
      ],
      "metadata": {
        "id": "pWT7zmMyobBg"
      },
      "execution_count": null,
      "outputs": []
    },
    {
      "cell_type": "code",
      "source": [
        "history = model.fit(xTrain, yTrain, epochs=5, batch_size=64)\n",
        "acc_l += history.history['accuracy']\n",
        "loss_l += history.history['loss']"
      ],
      "metadata": {
        "id": "9brlmdrgpiph"
      },
      "execution_count": null,
      "outputs": []
    },
    {
      "cell_type": "code",
      "source": [
        "history = model.fit(xTrain, yTrain, epochs=5, batch_size=64)\n",
        "acc_l += history.history['accuracy']\n",
        "loss_l += history.history['loss']"
      ],
      "metadata": {
        "id": "kug7Qsnvpvvp"
      },
      "execution_count": null,
      "outputs": []
    },
    {
      "cell_type": "code",
      "source": [
        "history = model.fit(xTrain, yTrain, epochs=5, batch_size=64)\n",
        "acc_l += history.history['accuracy']\n",
        "loss_l += history.history['loss']"
      ],
      "metadata": {
        "id": "j4svOP1Oqg3X"
      },
      "execution_count": null,
      "outputs": []
    },
    {
      "cell_type": "code",
      "source": [
        "history = model.fit(xTrain, yTrain, epochs=5, batch_size=64)\n",
        "acc_l += history.history['accuracy']\n",
        "loss_l += history.history['loss']"
      ],
      "metadata": {
        "id": "fibfhOUvqxa8"
      },
      "execution_count": null,
      "outputs": []
    },
    {
      "cell_type": "markdown",
      "source": [
        "##### **График обучения**"
      ],
      "metadata": {
        "id": "WPl_A3aEqEhu"
      }
    },
    {
      "cell_type": "code",
      "source": [
        "plt.figure(figsize=(12, 6))\n",
        "plt.subplot(1, 2, 1)\n",
        "plt.plot(acc_l, label='Precision', color='#3359FF')\n",
        "\n",
        "plt.title('Model Precision')\n",
        "plt.xlabel('Epoch')\n",
        "plt.ylabel('Precision')\n",
        "plt.legend()\n",
        "plt.grid(True)\n",
        "\n",
        "# График для loss\n",
        "plt.subplot(1, 2, 2)\n",
        "plt.plot(loss_l, label='Loss', color='red')\n",
        "plt.title('Training Loss')\n",
        "plt.xlabel('Epoch')\n",
        "plt.ylabel('Loss')\n",
        "plt.legend()\n",
        "plt.grid(True)\n",
        "\n",
        "plt.tight_layout()\n",
        "plt.show()"
      ],
      "metadata": {
        "id": "i4a5hqhvqMvQ"
      },
      "execution_count": null,
      "outputs": []
    },
    {
      "cell_type": "code",
      "source": [
        "model.save('/content/drive/MyDrive/best_model_11_12_23.h5')"
      ],
      "metadata": {
        "id": "n7xNrLilrVeo"
      },
      "execution_count": null,
      "outputs": []
    },
    {
      "cell_type": "markdown",
      "source": [
        "# ***Проверка на тестовой выборке дообучения***\n",
        "> Проверка на 4942 файлах, и их повёрнутых версиях (итого 19768 изображений)\n",
        "\n",
        "> **Финальная точность: 99.98%**"
      ],
      "metadata": {
        "id": "rHtciUNdrI4V"
      }
    },
    {
      "cell_type": "code",
      "source": [
        "from sklearn.metrics import confusion_matrix, classification_report"
      ],
      "metadata": {
        "id": "9HoLA9aarI4c"
      },
      "execution_count": null,
      "outputs": []
    },
    {
      "cell_type": "code",
      "source": [
        "# Списки для ошибочно распознанных файлов\n",
        "error_index_list = []\n",
        "error_img_list = []"
      ],
      "metadata": {
        "id": "B5cSLFk5rI4d"
      },
      "execution_count": null,
      "outputs": []
    },
    {
      "cell_type": "markdown",
      "source": [
        "#### 0-1000"
      ],
      "metadata": {
        "id": "oCExmgMprI4d"
      }
    },
    {
      "cell_type": "code",
      "source": [
        "# Оценка модели на валидационной выборке (на которой не обучали) 0-1000\n",
        "evaluation = model.evaluate(rotated_images_val, one_hot_labels_val)\n",
        "\n",
        "accuracy = evaluation[1]\n",
        "print(f\"Точность модели на валидационной выборке: {accuracy * 100:.2f}%\")"
      ],
      "metadata": {
        "id": "uq2q7fh6rI4d"
      },
      "execution_count": null,
      "outputs": []
    },
    {
      "cell_type": "markdown",
      "source": [
        "#### *1000-2000*"
      ],
      "metadata": {
        "id": "_ft9NUG7rI4e"
      }
    },
    {
      "cell_type": "code",
      "source": [
        "# Оценка модели на валидационной выборке (на которой не обучали) 1000-2000\n",
        "evaluation = model.evaluate(rotated_images_val, one_hot_labels_val)\n",
        "\n",
        "accuracy = evaluation[1]\n",
        "print(f\"Точность модели на валидационной выборке: {accuracy * 100:.2f}%\")"
      ],
      "metadata": {
        "id": "GzykqSTQrI4e"
      },
      "execution_count": null,
      "outputs": []
    },
    {
      "cell_type": "markdown",
      "source": [
        "#### 2000-3000"
      ],
      "metadata": {
        "id": "KQE77EWArI4e"
      }
    },
    {
      "cell_type": "code",
      "source": [
        "# Оценка модели на валидационной выборке (на которой не обучали) 2000-3000\n",
        "evaluation = model.evaluate(rotated_images_val, one_hot_labels_val)\n",
        "\n",
        "accuracy = evaluation[1]\n",
        "print(f\"Точность модели на валидационной выборке: {accuracy * 100:.2f}%\")"
      ],
      "metadata": {
        "id": "rSKMZRUxrI4e"
      },
      "execution_count": null,
      "outputs": []
    },
    {
      "cell_type": "markdown",
      "source": [
        "#### *3000-4000*"
      ],
      "metadata": {
        "id": "vfRrhoIcrI4e"
      }
    },
    {
      "cell_type": "code",
      "source": [
        "# Оценка модели на валидационной выборке (на которой не обучали) 3000-4000\n",
        "evaluation = model.evaluate(rotated_images_val, one_hot_labels_val)\n",
        "\n",
        "accuracy = evaluation[1]\n",
        "print(f\"Точность модели на валидационной выборке: {accuracy * 100:.2f}%\")"
      ],
      "metadata": {
        "id": "RaJpc7mQrI4e"
      },
      "execution_count": null,
      "outputs": []
    },
    {
      "cell_type": "code",
      "source": [
        "# Делаем предикт модели\n",
        "y_pred = model.predict(rotated_images_val)\n",
        "\n",
        "# Переводим списки в классы\n",
        "y_pred = np.argmax(y_pred, axis=1)\n",
        "y_true = np.argmax(one_hot_labels_val, axis=1)\n",
        "\n",
        "# y_true - истинные метки, y_pred - предсказанные метки модели\n",
        "conf_matrix = confusion_matrix(y_true, y_pred)\n",
        "print(\"Матрица ошибок:\")\n",
        "print(conf_matrix)\n",
        "\n",
        "print()\n",
        "\n",
        "class_report = classification_report(y_true, y_pred)\n",
        "print(\"Отчёт о классификации:\")\n",
        "print(class_report)\n",
        "\n",
        "print()\n",
        "\n",
        "incorrect_indices = [i for i in range(len(y_true)) if y_true[i] != y_pred[i]]\n",
        "\n",
        "print(\"Индексы неправильно классифицированных примеров:\")\n",
        "print(incorrect_indices)\n",
        "\n",
        "# Добавляем в списки\n",
        "error_index_list += incorrect_indices\n",
        "error_img_list += [img for i, img in enumerate(rotated_images_val) if i in incorrect_indices]"
      ],
      "metadata": {
        "id": "2soRT7SZrI4f"
      },
      "execution_count": null,
      "outputs": []
    },
    {
      "cell_type": "markdown",
      "source": [
        "#### *4000-4942*"
      ],
      "metadata": {
        "id": "48hSijaurI4f"
      }
    },
    {
      "cell_type": "code",
      "source": [
        "# Оценка модели на валидационной выборке (на которой не обучали) 4000-4942\n",
        "evaluation = model.evaluate(rotated_images_val, one_hot_labels_val)\n",
        "\n",
        "accuracy = evaluation[1]\n",
        "print(f\"Точность модели на валидационной выборке: {accuracy * 100:.2f}%\")"
      ],
      "metadata": {
        "id": "suP3hdtyrI4f"
      },
      "execution_count": null,
      "outputs": []
    },
    {
      "cell_type": "code",
      "source": [
        "# Делаем предикт модели\n",
        "y_pred = model.predict(rotated_images_val)\n",
        "\n",
        "# Переводим списки в классы\n",
        "y_pred = np.argmax(y_pred, axis=1)\n",
        "y_true = np.argmax(one_hot_labels_val, axis=1)\n",
        "\n",
        "# y_true - истинные метки, y_pred - предсказанные метки модели\n",
        "conf_matrix = confusion_matrix(y_true, y_pred)\n",
        "print(\"Матрица ошибок:\")\n",
        "print(conf_matrix)\n",
        "\n",
        "print()\n",
        "\n",
        "class_report = classification_report(y_true, y_pred)\n",
        "print(\"Отчёт о классификации:\")\n",
        "print(class_report)\n",
        "\n",
        "print()\n",
        "\n",
        "incorrect_indices = [i for i in range(len(y_true)) if y_true[i] != y_pred[i]]\n",
        "\n",
        "print(\"Индексы неправильно классифицированных примеров:\")\n",
        "print(incorrect_indices)\n",
        "\n",
        "# Добавляем в списки\n",
        "error_index_list += incorrect_indices\n",
        "error_img_list += [img for i, img in enumerate(rotated_images_val) if i in incorrect_indices]"
      ],
      "metadata": {
        "id": "Ze3JaWBLrI4f"
      },
      "execution_count": null,
      "outputs": []
    },
    {
      "cell_type": "markdown",
      "source": [
        "#### Точность модели по всем тестовым выборкам"
      ],
      "metadata": {
        "id": "yLz7472erI4f"
      }
    },
    {
      "cell_type": "code",
      "source": [
        "# Итоговая точность\n",
        "final_acc = ((1.0000 * 1000) + (1.0000 * 1000) + (1.0000 * 1000) + (0.9995 * 1000) + (0.9995 * 942)) / 4942\n",
        "print(f\"Точность модели на тестовой выборке: {final_acc:.4%}\")"
      ],
      "metadata": {
        "id": "MUoclcDvrI4f"
      },
      "execution_count": null,
      "outputs": []
    }
  ]
}