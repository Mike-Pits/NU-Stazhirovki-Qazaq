{
  "nbformat": 4,
  "nbformat_minor": 0,
  "metadata": {
    "colab": {
      "provenance": []
    },
    "kernelspec": {
      "name": "python3",
      "display_name": "Python 3"
    },
    "language_info": {
      "name": "python"
    }
  },
  "cells": [
    {
      "cell_type": "markdown",
      "metadata": {
        "id": "LU40Y-VtEOXn"
      },
      "source": [
        "# *Импорт библиотек*"
      ]
    },
    {
      "cell_type": "code",
      "source": [
        "%%capture\n",
        "!pip install autokeras"
      ],
      "metadata": {
        "id": "7xuuixTICbzk"
      },
      "execution_count": null,
      "outputs": []
    },
    {
      "cell_type": "code",
      "execution_count": null,
      "metadata": {
        "id": "oJH2x6w8EQ2R",
        "colab": {
          "base_uri": "https://localhost:8080/"
        },
        "outputId": "676a6ea5-b8aa-4526-c37a-9729e932cc1f"
      },
      "outputs": [
        {
          "output_type": "stream",
          "name": "stderr",
          "text": [
            "<ipython-input-2-2f058e63d896>:6: MatplotlibDeprecationWarning: The seaborn styles shipped by Matplotlib are deprecated since 3.6, as they no longer correspond to the styles shipped by seaborn. However, they will remain available as 'seaborn-v0_8-<style>'. Alternatively, directly use the seaborn API instead.\n",
            "  plt.style.use('seaborn-white')\n"
          ]
        }
      ],
      "source": [
        "from google.colab import files # Импортируем Модуль files для работы с файлами\n",
        "import matplotlib.pyplot as plt # Импортируем модуль pyplot библиотеки matplotlib для построения графиков\n",
        "%matplotlib inline\n",
        "import seaborn as sns\n",
        "\n",
        "plt.style.use('seaborn-white')\n",
        "sns.set_context('notebook', rc={'figure.figsize': (10, 8)}, font_scale=1.5)\n",
        "\n",
        "import numpy as np # Импортируем библиотеку numpy\n",
        "import pandas as pd\n",
        "\n",
        "import time\n",
        "import random\n",
        "import math\n",
        "import re\n",
        "import os # Импортируем библиотеку os для раоты с фаловой системой\n",
        "import shutil\n",
        "import json\n",
        "import cv2\n",
        "\n",
        "from copy import deepcopy\n",
        "from IPython.display import clear_output\n",
        "\n",
        "# from tensorflow.keras.applications import MobileNetV3Small\n",
        "# from tensorflow.keras.models import Model\n",
        "# from tensorflow.keras.layers import Dense, GlobalAveragePooling2D\n",
        "# from tensorflow.keras.optimizers import Adam\n",
        "from tensorflow.keras.callbacks import ModelCheckpoint\n",
        "from tensorflow import one_hot\n",
        "# from tensorflow.keras.preprocessing import image # Импортируем модуль image для работы с изображениями\n",
        "\n",
        "from sklearn.model_selection import train_test_split"
      ]
    },
    {
      "cell_type": "code",
      "source": [
        "from PIL import Image, ImageFile, ImageOps # импортируем модель Image для работы с изображениями\n",
        "ImageFile.LOAD_TRUNCATED_IMAGES = True"
      ],
      "metadata": {
        "id": "Su9AtGTjXb8u"
      },
      "execution_count": null,
      "outputs": []
    },
    {
      "cell_type": "code",
      "execution_count": null,
      "metadata": {
        "colab": {
          "base_uri": "https://localhost:8080/"
        },
        "id": "vpahpmBOEIaE",
        "outputId": "b3ade621-f66d-4ec7-c5f5-e103c2f90877"
      },
      "outputs": [
        {
          "output_type": "stream",
          "name": "stdout",
          "text": [
            "Mounted at /content/drive\n"
          ]
        }
      ],
      "source": [
        "from google.colab import drive # Подключаем гугл-диск\n",
        "drive.mount('/content/drive')"
      ]
    },
    {
      "cell_type": "code",
      "execution_count": null,
      "metadata": {
        "id": "veFRKBEhutK7",
        "colab": {
          "base_uri": "https://localhost:8080/"
        },
        "outputId": "8e5e8ba9-4008-4260-f4bb-0958bc0f42f2"
      },
      "outputs": [
        {
          "output_type": "stream",
          "name": "stdout",
          "text": [
            "\n",
            "Время обработки: 0 мин 0.01 c\n"
          ]
        }
      ],
      "source": [
        "# Контекстный менеджер для измерения времени операций\n",
        "# Операция обертывается менеджером с помощью оператора with\n",
        "class timex:\n",
        "    def __enter__(self):\n",
        "        # Фиксация времени старта процесса\n",
        "        self.t = time.time()\n",
        "        return self\n",
        "\n",
        "    def __exit__(self, type, value, traceback):\n",
        "        # Вывод времени работы\n",
        "        # print('Время обработки: {:.2f} с'.format(time.time() - self.t))\n",
        "        seconds_total = time.time() - self.t\n",
        "        minutes = int(seconds_total // 60)\n",
        "        seconds = (seconds_total % 60) + (seconds_total - math.floor(seconds_total))\n",
        "        print('Время обработки: {} мин {:.2f} c'.format(minutes, seconds))\n",
        "\n",
        "with timex():\n",
        "    print()"
      ]
    },
    {
      "cell_type": "code",
      "source": [
        "# Указываем путь к базе данных\n",
        "directory = '/content/drive/MyDrive/Colab/Базы/Стажировка 2023/Распознавание информации на платежных поручениях/Scans'\n",
        "directory_new = '/content/ClearedReshapedBase'"
      ],
      "metadata": {
        "id": "fhpCIaXO786A"
      },
      "execution_count": null,
      "outputs": []
    },
    {
      "cell_type": "markdown",
      "source": [
        "# **Подготовка данных**"
      ],
      "metadata": {
        "id": "ceLPSS0LPMwL"
      }
    },
    {
      "cell_type": "code",
      "source": [
        "# Создаём выборку только из вертикальных изображений\n",
        "files_dirs = []\n",
        "\n",
        "# Выборка 500 изображений\n",
        "# dont_load_index = [i-1 for i in [184, 185, 171, 157, 129, 12]] + [i+200-1 for i in [162, 136, 70, 48]] + [i+400-1 for i in [78,43]]\n",
        "# 0,500\n",
        "\n",
        "# Выборка 1000 изображений\n",
        "# dont_load_index = [i-1 for i in [184, 185, 171, 157, 129, 12]] + [i+200-1 for i in [162, 136, 70, 48]] + [i+400-1 for i in [78,43]] + [i+500-1 for i in [39, 27, 25]] + [i+700-1 for i in [193,79,55]] + [i+900-1 for i in [83, 60]]\n",
        "# 0,1000\n",
        "\n",
        "# Выборка 250 изображений валидационная\n",
        "dont_load_index = [1000-1 + i for i in [246,241,240,238,208,175,114,92,85,78,51,48,46,42,40,35,1]] + [1250-1 + i for i in [245,240,188,178,135,102]]\n",
        "# 1000,1500\n",
        "\n",
        "files_list = os.listdir(directory)\n",
        "for i in range(1000,1500):\n",
        "    if i not in dont_load_index:\n",
        "        files_dirs.append(directory + '/' + files_list[i])\n",
        "\n",
        "print(files_dirs[0])\n",
        "print(len(files_dirs))"
      ],
      "metadata": {
        "colab": {
          "base_uri": "https://localhost:8080/"
        },
        "id": "-KqllJfor4f8",
        "outputId": "cf6af5e9-8bc6-4ff8-ebb7-257ac550b7c7"
      },
      "execution_count": null,
      "outputs": [
        {
          "output_type": "stream",
          "name": "stdout",
          "text": [
            "/content/drive/MyDrive/Colab/Базы/Стажировка 2023/Распознавание информации на платежных поручениях/Scans/2022_7_3_9_49_19_edbd1a08-4476-494f-bc96-64fefdb7b70a.jpg\n",
            "477\n"
          ]
        }
      ]
    },
    {
      "cell_type": "code",
      "source": [
        "# Размер, к которому вы хотите привести изображения\n",
        "target_size = (224, 224)\n",
        "\n",
        "image_list = []\n",
        "with timex():\n",
        "    for filename in files_dirs:\n",
        "        img = cv2.imread(filename)                                          # Открываем\n",
        "        img = cv2.cvtColor(img, cv2.COLOR_BGR2GRAY)                         # Переводим в чёрно-белый вид\n",
        "        img = cv2.resize(img, target_size, interpolation=cv2.INTER_AREA)    # Уменьшаем\n",
        "\n",
        "        image_list.append(img)\n",
        "\n",
        "# Поворот изображений и добавление их в общую выборку\n",
        "rotated_images = []\n",
        "with timex():\n",
        "    for img in image_list:\n",
        "        rotated_images.append(img)  # Оригинальное изображение\n",
        "\n",
        "        # Поворот на 90, -90 и 180 градусов\n",
        "        for angle_func in [cv2.ROTATE_90_CLOCKWISE, cv2.ROTATE_90_COUNTERCLOCKWISE, cv2.ROTATE_180]:\n",
        "            rotated_images.append(cv2.rotate(img, angle_func))\n",
        "\n",
        "del image_list"
      ],
      "metadata": {
        "colab": {
          "base_uri": "https://localhost:8080/"
        },
        "id": "OzLPcuXWNDFK",
        "outputId": "73c294d0-5dcd-4948-d428-b1ea98629c8e"
      },
      "execution_count": null,
      "outputs": [
        {
          "output_type": "stream",
          "name": "stdout",
          "text": [
            "Время обработки: 1 мин 4.12 c\n",
            "Время обработки: 0 мин 0.06 c\n"
          ]
        }
      ]
    },
    {
      "cell_type": "code",
      "source": [
        "rotated_images = [image / 255.0 for image in rotated_images]                    # нормализация (диапазон [0, 1])\n",
        "rotated_images = [np.expand_dims(image, axis=2) for image in rotated_images]    # добавляем ещё одну размерность (224,224,1)\n",
        "rotated_images = np.array(rotated_images)                                       # перевод в numpy массив"
      ],
      "metadata": {
        "id": "bu1s69rmNMJF"
      },
      "execution_count": null,
      "outputs": []
    },
    {
      "cell_type": "code",
      "source": [
        "# Разметка изображений\n",
        "labels = [0, 1, 2, 3] * (len(rotated_images) // 4)\n",
        "\n",
        "# Перевод меток в формат One-Hot Encoding\n",
        "one_hot_labels = np.array(one_hot(labels, depth=4))"
      ],
      "metadata": {
        "id": "xElaLUioNOkz"
      },
      "execution_count": null,
      "outputs": []
    },
    {
      "cell_type": "code",
      "source": [
        "# Создание обучающей и тестовой выборок\n",
        "xTrain, xTest, yTrain, yTest = train_test_split(rotated_images, one_hot_labels, test_size=0.2, random_state=42)\n",
        "del one_hot_labels, rotated_images"
      ],
      "metadata": {
        "id": "0_CobF5CNS7M"
      },
      "execution_count": null,
      "outputs": []
    },
    {
      "cell_type": "code",
      "source": [
        "# Для валидационной выборки\n",
        "x = np.vstack((xTrain, xTest))\n",
        "y = np.vstack((yTrain, yTest))"
      ],
      "metadata": {
        "id": "6c0UPnxWmDOL"
      },
      "execution_count": null,
      "outputs": []
    },
    {
      "cell_type": "code",
      "source": [
        "import gc\n",
        "gc.collect()"
      ],
      "metadata": {
        "colab": {
          "base_uri": "https://localhost:8080/"
        },
        "id": "ljeUJjyi8eIr",
        "outputId": "ded5cd70-1dd4-44c2-8293-d3ebe235d6ca"
      },
      "execution_count": null,
      "outputs": [
        {
          "output_type": "execute_result",
          "data": {
            "text/plain": [
              "755"
            ]
          },
          "metadata": {},
          "execution_count": 24
        }
      ]
    },
    {
      "cell_type": "markdown",
      "source": [
        "# **Обучение архитектуры autokeras**\n",
        "> Точность на тестовой выборке: 0.9962\n"
      ],
      "metadata": {
        "id": "pYi212X5oUKo"
      }
    },
    {
      "cell_type": "code",
      "source": [
        "import autokeras as ak\n",
        "\n",
        "# Создаём ImageClassifier\n",
        "clf = ak.ImageClassifier(max_trials=1)"
      ],
      "metadata": {
        "id": "2aJxX7Z80z5r"
      },
      "execution_count": null,
      "outputs": []
    },
    {
      "cell_type": "code",
      "source": [
        "# Обучаем модель\n",
        "clf.fit(xTrain, yTrain, epochs=5)\n",
        "\n",
        "# Результаты модели\n",
        "results = clf.evaluate(xTest, yTest)\n",
        "print(results)\n",
        "\n",
        "# Экспортируем модель\n",
        "best_model = clf.export_model()\n",
        "best_model.summary()\n",
        "\n",
        "# Сохраняем модель\n",
        "best_model.save('best_model_auto.h5')"
      ],
      "metadata": {
        "colab": {
          "base_uri": "https://localhost:8080/"
        },
        "id": "Txg52oJhcvCt",
        "outputId": "d9ea4bc3-0755-4c3a-a618-c9f2ad5bdd59"
      },
      "execution_count": null,
      "outputs": [
        {
          "output_type": "stream",
          "name": "stdout",
          "text": [
            "Epoch 1/5\n",
            "98/98 [==============================] - 669s 7s/step - loss: 0.1458 - accuracy: 0.9790\n",
            "Epoch 2/5\n",
            "98/98 [==============================] - 675s 7s/step - loss: 0.0120 - accuracy: 0.9971\n",
            "Epoch 3/5\n",
            "98/98 [==============================] - 661s 7s/step - loss: 0.0012 - accuracy: 0.9994\n",
            "Epoch 4/5\n",
            "98/98 [==============================] - 655s 7s/step - loss: 1.5716e-05 - accuracy: 1.0000\n",
            "Epoch 5/5\n",
            "98/98 [==============================] - 655s 7s/step - loss: 1.2978e-05 - accuracy: 1.0000\n",
            "25/25 [==============================] - 43s 2s/step - loss: 0.0066 - accuracy: 0.9962\n",
            "[0.006616901606321335, 0.9961734414100647]\n",
            "Model: \"model\"\n",
            "_________________________________________________________________\n",
            " Layer (type)                Output Shape              Param #   \n",
            "=================================================================\n",
            " input_1 (InputLayer)        [(None, 224, 224, 1)]     0         \n",
            "                                                                 \n",
            " cast_to_float32 (CastToFlo  (None, 224, 224, 1)       0         \n",
            " at32)                                                           \n",
            "                                                                 \n",
            " normalization (Normalizati  (None, 224, 224, 1)       3         \n",
            " on)                                                             \n",
            "                                                                 \n",
            " conv2d (Conv2D)             (None, 222, 222, 32)      320       \n",
            "                                                                 \n",
            " conv2d_1 (Conv2D)           (None, 220, 220, 64)      18496     \n",
            "                                                                 \n",
            " max_pooling2d (MaxPooling2  (None, 110, 110, 64)      0         \n",
            " D)                                                              \n",
            "                                                                 \n",
            " dropout (Dropout)           (None, 110, 110, 64)      0         \n",
            "                                                                 \n",
            " flatten (Flatten)           (None, 774400)            0         \n",
            "                                                                 \n",
            " dropout_1 (Dropout)         (None, 774400)            0         \n",
            "                                                                 \n",
            " dense (Dense)               (None, 4)                 3097604   \n",
            "                                                                 \n",
            " classification_head_1 (Sof  (None, 4)                 0         \n",
            " tmax)                                                           \n",
            "                                                                 \n",
            "=================================================================\n",
            "Total params: 3116423 (11.89 MB)\n",
            "Trainable params: 3116420 (11.89 MB)\n",
            "Non-trainable params: 3 (16.00 Byte)\n",
            "_________________________________________________________________\n"
          ]
        },
        {
          "output_type": "stream",
          "name": "stderr",
          "text": [
            "/usr/local/lib/python3.10/dist-packages/keras/src/engine/training.py:3103: UserWarning: You are saving your model as an HDF5 file via `model.save()`. This file format is considered legacy. We recommend using instead the native Keras format, e.g. `model.save('my_model.keras')`.\n",
            "  saving_api.save_model(\n"
          ]
        }
      ]
    },
    {
      "cell_type": "code",
      "source": [
        "best_model.save('/content/drive/MyDrive/bestmodel_autokeras.h5')"
      ],
      "metadata": {
        "id": "GlDUNu-jhg3C"
      },
      "execution_count": null,
      "outputs": []
    },
    {
      "cell_type": "markdown",
      "source": [
        "# **Проверка точности на валидационной выборке**\n",
        "> Точность на проверочной выборке: 1.0000"
      ],
      "metadata": {
        "id": "JrblLEftbcbA"
      }
    },
    {
      "cell_type": "code",
      "source": [
        "from autokeras import CUSTOM_OBJECTS\n",
        "import gdown\n",
        "import tensorflow as tf"
      ],
      "metadata": {
        "colab": {
          "base_uri": "https://localhost:8080/"
        },
        "id": "TRxiwE0_bnK7",
        "outputId": "17facd8e-f672-456b-fc26-e8aac8b9670f"
      },
      "execution_count": null,
      "outputs": [
        {
          "output_type": "stream",
          "name": "stdout",
          "text": [
            "Using TensorFlow backend\n"
          ]
        }
      ]
    },
    {
      "cell_type": "code",
      "source": [
        "# Загрузка модели нахождения поворота изображений на 90°, -90°, 180°\n",
        "gdown.download(f\"https://drive.google.com/uc?id=1ayQNQmPirwYVjTR7E5M4WFrvrclp7J8E\", 'rotate_model.h5')\n",
        "model = tf.keras.models.load_model(\"rotate_model.h5\", custom_objects=CUSTOM_OBJECTS)"
      ],
      "metadata": {
        "colab": {
          "base_uri": "https://localhost:8080/"
        },
        "id": "17sW6oa9bqZ8",
        "outputId": "4e66caf0-7cbe-4ea1-f62b-16729d02bae8"
      },
      "execution_count": null,
      "outputs": [
        {
          "output_type": "stream",
          "name": "stderr",
          "text": [
            "Downloading...\n",
            "From: https://drive.google.com/uc?id=1ayQNQmPirwYVjTR7E5M4WFrvrclp7J8E\n",
            "To: /content/rotate_model.h5\n",
            "100%|██████████| 12.5M/12.5M [00:00<00:00, 17.7MB/s]\n"
          ]
        }
      ]
    },
    {
      "cell_type": "code",
      "source": [
        "# Оценка модели на проверочной выборке (500 изображений каждого угла поворота (0, 90, -90, 180))\n",
        "evaluation = model.evaluate(x, y)\n",
        "\n",
        "accuracy = evaluation[1]\n",
        "print(f\"Точность модели на проверочной выборке: {accuracy * 100:.2f}%\")"
      ],
      "metadata": {
        "colab": {
          "base_uri": "https://localhost:8080/"
        },
        "id": "n700HZXgcP4G",
        "outputId": "6d7f752b-7d81-4d31-ab39-a9c7a34e135d"
      },
      "execution_count": null,
      "outputs": [
        {
          "output_type": "stream",
          "name": "stdout",
          "text": [
            "60/60 [==============================] - 107s 2s/step - loss: 8.1022e-04 - accuracy: 1.0000\n",
            "Точность модели на проверочной выборке: 100.00%\n"
          ]
        }
      ]
    },
    {
      "cell_type": "code",
      "source": [
        "# Оценка модели на проверочной выборке (500 изображений каждого угла поворота (0, 90, -90, 180))\n",
        "evaluation = model.evaluate(x, y)\n",
        "\n",
        "accuracy = evaluation[1]\n",
        "print(f\"Точность модели на проверочной выборке: {accuracy * 100:.2f}%\")"
      ],
      "metadata": {
        "colab": {
          "base_uri": "https://localhost:8080/"
        },
        "id": "o9DREJd6h8Pw",
        "outputId": "f0a1b1bf-dbd3-485f-b2d8-67af23471896"
      },
      "execution_count": null,
      "outputs": [
        {
          "output_type": "stream",
          "name": "stdout",
          "text": [
            "60/60 [==============================] - 116s 2s/step - loss: 8.1022e-04 - accuracy: 1.0000\n",
            "Точность модели на проверочной выборке: 100.00%\n"
          ]
        }
      ]
    },
    {
      "cell_type": "markdown",
      "source": [
        "# Мусор"
      ],
      "metadata": {
        "id": "4P_5qPOxave1"
      }
    },
    {
      "cell_type": "code",
      "source": [
        "from keras.layers import Input, Conv2D, MaxPooling2D, Flatten, Dropout, Dense\n",
        "from keras.models import Model\n",
        "from keras.optimizers import Adam\n",
        "from keras import backend as K\n",
        "\n",
        "def recall_m(y_true, y_pred):\n",
        "    true_positives = K.sum(K.round(K.clip(y_true * y_pred, 0, 1)))\n",
        "    possible_positives = K.sum(K.round(K.clip(y_true, 0, 1)))\n",
        "    recall = true_positives / (possible_positives + K.epsilon())\n",
        "    return recall\n",
        "\n",
        "def precision_m(y_true, y_pred):\n",
        "    true_positives = K.sum(K.round(K.clip(y_true * y_pred, 0, 1)))\n",
        "    predicted_positives = K.sum(K.round(K.clip(y_pred, 0, 1)))\n",
        "    precision = true_positives / (predicted_positives + K.epsilon())\n",
        "    return precision\n",
        "\n",
        "def f1_m(y_true, y_pred):\n",
        "    precision = precision_m(y_true, y_pred)\n",
        "    recall = recall_m(y_true, y_pred)\n",
        "    return 2 * ((precision * recall) / (precision + recall + K.epsilon()))\n",
        "\n",
        "def create_neural_network_model(input_shape, num_classes):\n",
        "    # Задаем значения гиперпараметров\n",
        "    image_block_1_block_type = 'vanilla'\n",
        "    image_block_1_normalize = True\n",
        "    image_block_1_augment = False\n",
        "    image_block_1_conv_block_1_kernel_size = 3\n",
        "    image_block_1_conv_block_1_num_blocks = 1\n",
        "    image_block_1_conv_block_1_num_layers = 2\n",
        "    image_block_1_conv_block_1_max_pooling = True\n",
        "    image_block_1_conv_block_1_separable = False\n",
        "    image_block_1_conv_block_1_dropout = 0.25\n",
        "    image_block_1_conv_block_1_filters_0_0 = 32\n",
        "    image_block_1_conv_block_1_filters_0_1 = 64\n",
        "    classification_head_1_spatial_reduction_1_reduction_type = 'flatten'\n",
        "    classification_head_1_dropout = 0.5\n",
        "    optimizer = 'adam'\n",
        "    learning_rate = 0.001\n",
        "\n",
        "    # Создаем модель нейросети\n",
        "    input_layer = Input(shape=(input_shape))\n",
        "\n",
        "    # Создание блока свертки\n",
        "    x = input_layer\n",
        "    for _ in range(image_block_1_conv_block_1_num_blocks):\n",
        "        for _ in range(image_block_1_conv_block_1_num_layers):\n",
        "            x = Conv2D(filters=image_block_1_conv_block_1_filters_0_0 if _ == 0 else image_block_1_conv_block_1_filters_0_1,\n",
        "                       kernel_size=(image_block_1_conv_block_1_kernel_size, image_block_1_conv_block_1_kernel_size),\n",
        "                       padding='same', activation='relu')(x)\n",
        "        if image_block_1_conv_block_1_max_pooling:\n",
        "            x = MaxPooling2D(pool_size=(2, 2))(x)\n",
        "        if image_block_1_conv_block_1_dropout > 0.0:\n",
        "            x = Dropout(image_block_1_conv_block_1_dropout)(x)\n",
        "\n",
        "    # Flatten или другой тип пространственного уменьшения\n",
        "    if classification_head_1_spatial_reduction_1_reduction_type == 'flatten':\n",
        "        x = Flatten()(x)\n",
        "    # Добавление слоев для классификации\n",
        "    x = Dropout(classification_head_1_dropout)(x)\n",
        "    output_layer = Dense(num_classes, activation='softmax')(x)\n",
        "\n",
        "    model = Model(inputs=input_layer, outputs=output_layer)\n",
        "\n",
        "    # Компиляция модели с метриками Recall, Precision и F1\n",
        "    if optimizer == 'adam':\n",
        "        optimizer = Adam(learning_rate=learning_rate)\n",
        "\n",
        "    model.compile(loss='categorical_crossentropy', optimizer=optimizer, metrics=['accuracy', recall_m, precision_m, f1_m])\n",
        "\n",
        "    return model\n",
        "\n",
        "# Пример использования функции для создания модели\n",
        "input_shape = (224, 224, 1)  # Форма входных изображений\n",
        "num_classes = 4  # Количество классов\n",
        "model = create_neural_network_model(input_shape, num_classes)\n",
        "model.summary()"
      ],
      "metadata": {
        "id": "08U2rEikQ-FP"
      },
      "execution_count": null,
      "outputs": []
    },
    {
      "cell_type": "code",
      "source": [
        "def print_model_acc(model):\n",
        "    # Оценка модели на тестовой выборке\n",
        "    evaluation = model.evaluate(xTest, yTest)\n",
        "    accuracy = evaluation[1]\n",
        "    print(f\"Точность модели на тестовой выборке: {accuracy * 100:.2f}%\")\n",
        "\n",
        "# Для сбора мусора\n",
        "class GarbageCollectorCallback(tf.keras.callbacks.Callback):\n",
        "    def on_epoch_end(self, epoch, logs=None):\n",
        "        gc.collect()\n",
        "\n",
        "def plot_history(history):\n",
        "    # График для accuracy и val_accuracy\n",
        "    plt.figure(figsize=(12, 6))\n",
        "    plt.subplot(1, 2, 1)\n",
        "    plt.plot(history.history['accuracy'], label='Training Accuracy')\n",
        "    plt.plot(history.history['val_accuracy'], label='Validation Accuracy')\n",
        "    plt.title('Training and Validation Accuracy')\n",
        "    plt.xlabel('Epoch')\n",
        "    plt.ylabel('Accuracy')\n",
        "    plt.legend()\n",
        "\n",
        "    # График для loss и val_loss\n",
        "    plt.subplot(1, 2, 2)\n",
        "    plt.plot(history.history['loss'], label='Training Loss')\n",
        "    plt.plot(history.history['val_loss'], label='Validation Loss')\n",
        "    plt.title('Training and Validation Loss')\n",
        "    plt.xlabel('Epoch')\n",
        "    plt.ylabel('Loss')\n",
        "    plt.legend()\n",
        "\n",
        "    plt.tight_layout()\n",
        "    plt.show()\n",
        "\n",
        "save_path = \"/content/drive/MyDrive/best_model_auto.h5\"\n",
        "\n",
        "# Создание объекта ModelCheckpoint для сохранения весов\n",
        "checkpoint = ModelCheckpoint(save_path, monitor='val_accuracy', save_best_only=True, mode='max')\n",
        "garbage_collector = GarbageCollectorCallback()"
      ],
      "metadata": {
        "id": "Oi236JQWPeDR"
      },
      "execution_count": null,
      "outputs": []
    },
    {
      "cell_type": "code",
      "source": [
        "# Обучение модели с использованием ModelCheckpoint\n",
        "history = model.fit(xTrain, yTrain, validation_data=(xTest, yTest), epochs=5, batch_size=64, callbacks=[checkpoint])\n",
        "\n",
        "# Загрузка лучших весов после обучения\n",
        "model.load_weights(save_path)\n",
        "\n",
        "plot_history(history)"
      ],
      "metadata": {
        "id": "6s841SMyPgEO"
      },
      "execution_count": null,
      "outputs": []
    },
    {
      "cell_type": "code",
      "source": [
        "model.compile(optimizer=Adam(learning_rate=0.0001), loss='categorical_crossentropy', metrics=['accuracy'])\n",
        "# Обучение модели с использованием ModelCheckpoint\n",
        "history = model.fit(xTrain, yTrain, validation_data=(xTest, yTest), epochs=5, batch_size=32, callbacks=[checkpoint])\n",
        "model.load_weights(save_path)\n",
        "\n",
        "plot_history(history)"
      ],
      "metadata": {
        "id": "AHwlg0fMPsnL"
      },
      "execution_count": null,
      "outputs": []
    },
    {
      "cell_type": "code",
      "source": [
        "# Оценка модели на тестовой выборке\n",
        "evaluation = model.evaluate(xTest, yTest)\n",
        "\n",
        "accuracy = evaluation[1]\n",
        "print(f\"Точность модели на тестовой выборке: {accuracy * 100:.2f}%\")"
      ],
      "metadata": {
        "colab": {
          "base_uri": "https://localhost:8080/"
        },
        "id": "8_m1fTR_5EZ2",
        "outputId": "7bee3184-157b-426c-f80a-d24088169fbb"
      },
      "execution_count": null,
      "outputs": [
        {
          "output_type": "stream",
          "name": "stdout",
          "text": [
            "13/13 [==============================] - 19s 1s/step - loss: 0.2388 - accuracy: 0.9949\n",
            "Точность модели на тестовой выборке: 99.49%\n"
          ]
        }
      ]
    },
    {
      "cell_type": "markdown",
      "source": [
        "##### **Валидационная выборка**"
      ],
      "metadata": {
        "id": "-MRpNVdVkdL9"
      }
    },
    {
      "cell_type": "code",
      "source": [
        "from keras.models import load_model\n",
        "\n",
        "# Загрузка модели\n",
        "model = load_model('/content/drive/MyDrive/Colab/Базы/Стажировка 2023/Распознавание информации на платежных поручениях/BaseMobileNetV3/my_model.h5')"
      ],
      "metadata": {
        "id": "587ZL1T6HoWV"
      },
      "execution_count": null,
      "outputs": []
    },
    {
      "cell_type": "code",
      "source": [
        "# Оценка модели на проверочной выборке\n",
        "evaluation = model.evaluate(x, y)\n",
        "\n",
        "accuracy = evaluation[1]\n",
        "print(f\"Точность модели на проверочной выборке: {accuracy * 100:.2f}%\")"
      ],
      "metadata": {
        "colab": {
          "base_uri": "https://localhost:8080/"
        },
        "id": "ClEKywismGGC",
        "outputId": "baf75e16-8e87-4094-9dd8-94d763219aed"
      },
      "execution_count": null,
      "outputs": [
        {
          "output_type": "stream",
          "name": "stdout",
          "text": [
            "61/61 [==============================] - 75s 1s/step - loss: 0.0362 - accuracy: 0.9964\n",
            "Точность модели на проверочной выборке: 99.64%\n"
          ]
        }
      ]
    },
    {
      "cell_type": "code",
      "source": [
        "# Используйте метод predict для модели, чтобы получить предсказания\n",
        "predictions = model.predict(prepare_img(files_dirs[0]))  # Предполагается, что ваша модель ожидает 2D массив\n",
        "\n",
        "# Результат будет в переменной predictions, которая будет содержать предсказанные значения\n",
        "print(\"Предсказанные значения:\", predictions)"
      ],
      "metadata": {
        "id": "ZIBu1vAfI--O"
      },
      "execution_count": null,
      "outputs": []
    },
    {
      "cell_type": "markdown",
      "source": [
        "## *Проверка скорости работы лучшей модели*\n",
        "> Проверяем, сколько каждого типа изображений в базе по менению сети\n",
        "\n",
        "> **Средняя скорость обработки одного изображения - 57.75 мс.**"
      ],
      "metadata": {
        "id": "ZwnobXP53nE4"
      }
    },
    {
      "cell_type": "code",
      "source": [
        "files_dirs = [directory + '/' + i for i in os.listdir(directory)]"
      ],
      "metadata": {
        "id": "21SqBfvy6Bot"
      },
      "execution_count": null,
      "outputs": []
    },
    {
      "cell_type": "code",
      "source": [
        "def open_img(img_path):\n",
        "    return Image.open(img_path)\n",
        "\n",
        "\n",
        "def prepare_img(img_path):\n",
        "    image = Image.open(img_path)\n",
        "    if image.mode != \"RGB\":\n",
        "        image = image.convert(\"RGB\")\n",
        "    image = image.resize((224, 224))\n",
        "    image = np.array(image) / 255.0\n",
        "    image = image.reshape(1, image.shape[0], image.shape[1], image.shape[2])\n",
        "\n",
        "    return image\n",
        "\n",
        "\n",
        "def load_img(img_path, single=False):\n",
        "    # Загрузка изображения и изменение размера, для модели поворота изображений\n",
        "    img = Image.open(img_path)\n",
        "    img = img.resize((224, 224))\n",
        "    img_array = np.array(img) / 255.0\n",
        "\n",
        "    if single == True:\n",
        "        img_array = np.expand_dims(img_array, axis=0)\n",
        "\n",
        "    return img_array\n",
        "\n",
        "\n",
        "def load_img_cv2(img_path, single=False):\n",
        "    # Загрузка изображения и изменение размера, для модели поворота изображений\n",
        "    image = cv2.imread(img_path)\n",
        "    if len(image.shape) != 3 or image.shape[2] != 3:\n",
        "        image = cv2.cvtColor(image, cv2.COLOR_GRAY2BGR)\n",
        "    image = cv2.resize(image, (224, 224))\n",
        "    image_array = np.array(image) / 255.0\n",
        "\n",
        "    if single==True:\n",
        "        image_array = np.expand_dims(image_array, axis=0)\n",
        "\n",
        "    return image_array\n",
        "\n",
        "\n",
        "# def prepare_imgs(img_paths):\n",
        "#     return np.array([np.array(Image.open(img_path).resize((224, 224))) / 255.0 for img_path in img_paths])\n",
        "\n",
        "\n",
        "def prepare_imgs(img_paths):\n",
        "    return np.array([load_img_cv2(img_path) for img_path in img_paths])\n",
        "\n",
        "\n",
        "def rotate_img_by_index(img, index):\n",
        "    if index == 0:\n",
        "        return img\n",
        "    return img.rotate([0,90,-90,180][index])"
      ],
      "metadata": {
        "id": "dKjKBfho38KA"
      },
      "execution_count": null,
      "outputs": []
    },
    {
      "cell_type": "code",
      "source": [
        "def rotate_img_by_index(img, index):\n",
        "    if index == 0:\n",
        "        return img\n",
        "    return img.rotate([0,90,-90,180][index])"
      ],
      "metadata": {
        "id": "BMDh9a6ibBaU"
      },
      "execution_count": null,
      "outputs": []
    },
    {
      "cell_type": "code",
      "source": [
        "prepare_img(files_dirs[0]).shape"
      ],
      "metadata": {
        "colab": {
          "base_uri": "https://localhost:8080/"
        },
        "id": "0ihD8NPT6oVP",
        "outputId": "f1e118e1-dd19-4714-b067-b80a6d679f0a"
      },
      "execution_count": null,
      "outputs": [
        {
          "output_type": "execute_result",
          "data": {
            "text/plain": [
              "(1, 224, 224, 3)"
            ]
          },
          "metadata": {},
          "execution_count": 21
        }
      ]
    },
    {
      "cell_type": "code",
      "source": [
        "from keras.models import load_model\n",
        "\n",
        "# Загрузка модели\n",
        "model = load_model('/content/drive/MyDrive/Colab/Базы/Стажировка 2023/Распознавание информации на платежных поручениях/BaseMobileNetV3/my_model.h5')"
      ],
      "metadata": {
        "id": "DanwMesG7qJ7"
      },
      "execution_count": null,
      "outputs": []
    },
    {
      "cell_type": "code",
      "source": [
        "wrong_list = sorted([i-1 for i in [184, 185, 171, 157, 129, 12]] + [i+200-1 for i in [162, 136, 70, 48]] + [i+400-1 for i in [78,43]] + [i+500-1 for i in [39, 27, 25]] + [i+700-1 for i in [193,79,55]] + [i+900-1 for i in [83, 60]] + [1000-1 + i for i in [246,241,240,238,208,175,114,92,85,78,51,48,46,42,40,35,1]] + [1250-1 + i for i in [245,240,188,178,135,102]])"
      ],
      "metadata": {
        "id": "IY4Tn07kF1Ra"
      },
      "execution_count": null,
      "outputs": []
    },
    {
      "cell_type": "code",
      "source": [
        "max_files = 50\n",
        "print(f'Всего файлов: {len(files_dirs[:max_files])}')\n",
        "\n",
        "# Предсказываем значения\n",
        "with timex():\n",
        "    predictions = model.predict(prepare_imgs(files_dirs[:max_files]))\n",
        "\n",
        "# print(\"Предсказанные значения:\", predictions)"
      ],
      "metadata": {
        "colab": {
          "base_uri": "https://localhost:8080/"
        },
        "id": "8K_ng5zl7wgY",
        "outputId": "8e3f8ec3-cbd7-4128-e2d0-1147309f631f"
      },
      "execution_count": null,
      "outputs": [
        {
          "output_type": "stream",
          "name": "stdout",
          "text": [
            "Всего файлов: 50\n",
            "2/2 [==============================] - 2s 624ms/step\n",
            "Время обработки: 0 мин 9.34 c\n"
          ]
        }
      ]
    },
    {
      "cell_type": "code",
      "source": [
        "print(f'Всего файлов: {len(files_dirs[100:200])}')\n",
        "\n",
        "# Предсказываем значения\n",
        "x = prepare_imgs(files_dirs[100:200])\n",
        "with timex():\n",
        "    predictions = model.predict(x)"
      ],
      "metadata": {
        "colab": {
          "base_uri": "https://localhost:8080/"
        },
        "id": "Wg_J8EzQdbG5",
        "outputId": "24af7840-aedb-4af8-91dd-71b03a44e5d7"
      },
      "execution_count": null,
      "outputs": [
        {
          "output_type": "stream",
          "name": "stdout",
          "text": [
            "Всего файлов: 100\n",
            "4/4 [==============================] - 4s 808ms/step\n",
            "Время обработки: 0 мин 5.69 c\n"
          ]
        }
      ]
    },
    {
      "cell_type": "code",
      "source": [
        "print(f'Всего файлов: {len(files_dirs[200:500])}')\n",
        "\n",
        "# Предсказываем значения\n",
        "x = prepare_imgs(files_dirs[200:500])\n",
        "with timex():\n",
        "    predictions = model.predict(x)"
      ],
      "metadata": {
        "colab": {
          "base_uri": "https://localhost:8080/"
        },
        "id": "_NzxrrQKfb7k",
        "outputId": "ae9d2266-5ec5-4f95-e01c-3d4bbed68179"
      },
      "execution_count": null,
      "outputs": [
        {
          "output_type": "stream",
          "name": "stdout",
          "text": [
            "Всего файлов: 300\n",
            "10/10 [==============================] - 13s 1s/step\n",
            "Время обработки: 0 мин 21.85 c\n"
          ]
        }
      ]
    },
    {
      "cell_type": "code",
      "source": [
        "print(f'Всего файлов: {len(files_dirs[500:1000])}')\n",
        "\n",
        "# Предсказываем значения\n",
        "x = prepare_imgs(files_dirs[500:1000])\n",
        "with timex():\n",
        "    predictions = model.predict(x)"
      ],
      "metadata": {
        "colab": {
          "base_uri": "https://localhost:8080/"
        },
        "id": "4ua5vez7f5Se",
        "outputId": "fa5ae088-95ce-4ead-aa61-ffa08eb914b6"
      },
      "execution_count": null,
      "outputs": [
        {
          "output_type": "stream",
          "name": "stdout",
          "text": [
            "Всего файлов: 500\n",
            "16/16 [==============================] - 20s 1s/step\n",
            "Время обработки: 0 мин 21.76 c\n"
          ]
        }
      ]
    },
    {
      "cell_type": "code",
      "source": [
        "((5.69 / 100) + (21.85 / 300) + (21.76 / 500)) / 3"
      ],
      "metadata": {
        "colab": {
          "base_uri": "https://localhost:8080/"
        },
        "id": "Oyr_8fNMf_ow",
        "outputId": "c2775e44-af61-4bbf-b61d-ed9b28506c4e"
      },
      "execution_count": null,
      "outputs": [
        {
          "output_type": "execute_result",
          "data": {
            "text/plain": [
              "0.057751111111111114"
            ]
          },
          "metadata": {},
          "execution_count": 31
        }
      ]
    },
    {
      "cell_type": "code",
      "source": [
        "0.05775 * 1000"
      ],
      "metadata": {
        "colab": {
          "base_uri": "https://localhost:8080/"
        },
        "id": "psX94PR2kuiA",
        "outputId": "bebb1209-8dfb-4e84-a6f7-720401a6b1a9"
      },
      "execution_count": null,
      "outputs": [
        {
          "output_type": "execute_result",
          "data": {
            "text/plain": [
              "57.75"
            ]
          },
          "metadata": {},
          "execution_count": 33
        }
      ]
    },
    {
      "cell_type": "markdown",
      "source": [
        "##### Предсказание классов"
      ],
      "metadata": {
        "id": "Qbt20Z1ukv3o"
      }
    },
    {
      "cell_type": "code",
      "source": [
        "print(f'Всего файлов: {len(files_dirs)}')\n",
        "\n",
        "# Предсказываем значения\n",
        "with timex():\n",
        "    predictions = model.predict(prepare_imgs(files_dirs))"
      ],
      "metadata": {
        "id": "Ir-yboh4Qp8P"
      },
      "execution_count": null,
      "outputs": []
    },
    {
      "cell_type": "code",
      "source": [
        "indices = np.argmax(predictions, axis=1)\n",
        "print(indices)"
      ],
      "metadata": {
        "id": "WQawm8EJIv-g"
      },
      "execution_count": null,
      "outputs": []
    },
    {
      "cell_type": "code",
      "source": [
        "from collections import Counter\n",
        "\n",
        "my_list = [1, 2, 2, 3, 3, 3, 4, 4, 4, 4]\n",
        "element_count = Counter(my_list)\n",
        "\n",
        "for element, count in element_count.items():\n",
        "    print(f\"{element}: {count}\")"
      ],
      "metadata": {
        "id": "LG1OZ9HORfwF"
      },
      "execution_count": null,
      "outputs": []
    }
  ]
}