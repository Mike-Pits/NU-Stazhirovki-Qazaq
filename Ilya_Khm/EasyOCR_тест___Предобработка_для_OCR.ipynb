{
  "cells": [
    {
      "cell_type": "markdown",
      "metadata": {
        "id": "LU40Y-VtEOXn"
      },
      "source": [
        "# *Импорт библиотек*"
      ]
    },
    {
      "cell_type": "code",
      "execution_count": null,
      "metadata": {
        "colab": {
          "base_uri": "https://localhost:8080/"
        },
        "id": "oJH2x6w8EQ2R",
        "outputId": "2189e2c8-f657-4261-efbf-917946ae445e"
      },
      "outputs": [],
      "source": [
        "from google.colab import files # Импортируем Модуль files для работы с файлами\n",
        "import matplotlib.pyplot as plt # Импортируем модуль pyplot библиотеки matplotlib для построения графиков\n",
        "%matplotlib inline\n",
        "import seaborn as sns\n",
        "\n",
        "plt.style.use('seaborn-white')\n",
        "sns.set_context('notebook', rc={'figure.figsize': (10, 8)}, font_scale=1.5)\n",
        "\n",
        "import numpy as np # Импортируем библиотеку numpy\n",
        "import pandas as pd\n",
        "\n",
        "import time\n",
        "import random\n",
        "import math\n",
        "import re\n",
        "import os # Импортируем библиотеку os для раоты с фаловой системой\n",
        "import shutil\n",
        "import json\n",
        "import cv2\n",
        "from google.colab.patches import cv2_imshow\n",
        "import imutils\n",
        "\n",
        "from copy import deepcopy\n",
        "from IPython.display import clear_output\n",
        "\n",
        "from PIL import ImageFile, ImageOps # импортируем модель Image для работы с изображениями\n",
        "from PIL import Image as PILImage\n",
        "ImageFile.LOAD_TRUNCATED_IMAGES = True"
      ]
    },
    {
      "cell_type": "code",
      "execution_count": null,
      "metadata": {
        "colab": {
          "base_uri": "https://localhost:8080/"
        },
        "id": "vpahpmBOEIaE",
        "outputId": "ba8547a5-5445-49bb-8f69-68e55ecd1178"
      },
      "outputs": [],
      "source": [
        "from google.colab import drive  # Подключаем гугл-диск\n",
        "drive.mount('/content/drive')"
      ]
    },
    {
      "cell_type": "code",
      "execution_count": null,
      "metadata": {
        "colab": {
          "base_uri": "https://localhost:8080/"
        },
        "id": "veFRKBEhutK7",
        "outputId": "63c7913e-dad5-45dd-f812-43b0213b77c8"
      },
      "outputs": [],
      "source": [
        "# Контекстный менеджер для измерения времени операций\n",
        "# Операция обертывается менеджером с помощью оператора with\n",
        "class timex:\n",
        "    def __enter__(self):\n",
        "        # Фиксация времени старта процесса\n",
        "        self.t = time.time()\n",
        "        return self\n",
        "\n",
        "    def __exit__(self, type, value, traceback):\n",
        "        # Вывод времени работы\n",
        "        # print('Время обработки: {:.2f} с'.format(time.time() - self.t))\n",
        "        seconds_total = time.time() - self.t\n",
        "        minutes = int(seconds_total // 60)\n",
        "        seconds = (seconds_total % 60) + \\\n",
        "            (seconds_total - math.floor(seconds_total))\n",
        "        print('Время обработки: {} мин {:.2f} c'.format(minutes, seconds))\n",
        "\n",
        "\n",
        "with timex():\n",
        "    print()"
      ]
    },
    {
      "cell_type": "markdown",
      "metadata": {
        "id": "RogvBHkgJf24"
      },
      "source": [
        "# Загрузка датафрейма и составление выборок"
      ]
    },
    {
      "cell_type": "code",
      "execution_count": null,
      "metadata": {
        "id": "3pYJ8wyAMhZu"
      },
      "outputs": [],
      "source": [
        "# Загрузка\n",
        "df = pd.read_csv('/content/drive/MyDrive/df_info_new_ru.csv')"
      ]
    },
    {
      "cell_type": "code",
      "execution_count": null,
      "metadata": {
        "colab": {
          "base_uri": "https://localhost:8080/"
        },
        "id": "RQNKxTTWJxFJ",
        "outputId": "c3cb4f37-6ce7-4640-8a49-115128b1b06b"
      },
      "outputs": [],
      "source": [
        "df.columns"
      ]
    },
    {
      "cell_type": "code",
      "execution_count": null,
      "metadata": {
        "id": "AVq2SP7uNA1Q"
      },
      "outputs": [],
      "source": [
        "df = df.sort_values(by='индекс файла')"
      ]
    },
    {
      "cell_type": "code",
      "execution_count": null,
      "metadata": {
        "colab": {
          "base_uri": "https://localhost:8080/"
        },
        "id": "UqblNg_fMefr",
        "outputId": "abd0a64a-fe00-4d21-c516-7909f744378b"
      },
      "outputs": [],
      "source": [
        "print(*df[df['проверка таблиц'] == 1].filename_new[:10], sep='\\n')"
      ]
    },
    {
      "cell_type": "code",
      "execution_count": null,
      "metadata": {
        "colab": {
          "base_uri": "https://localhost:8080/"
        },
        "id": "F26cUXCUL9EA",
        "outputId": "bbbc2fc2-74d5-445f-c6be-ff6b2b80e666"
      },
      "outputs": [],
      "source": [
        "def get_img_path(base_path, filename):\n",
        "    x = int(filename[:-4])\n",
        "    lower_bound = (x // 100) * 100\n",
        "    upper_bound = lower_bound + 100\n",
        "    return base_path + f'{lower_bound}-{upper_bound}/' + filename\n",
        "\n",
        "\n",
        "# Проверка\n",
        "base_path = '/content/drive/MyDrive/ClearedReshapedBase/'\n",
        "x_values = ['0001.png', '0019.png', '0100.png', '0654.png', '1119.png']\n",
        "\n",
        "for x in x_values:\n",
        "    y = get_img_path(base_path, x)\n",
        "    print(y)"
      ]
    },
    {
      "cell_type": "code",
      "execution_count": null,
      "metadata": {
        "id": "67bUQEFh6cI4"
      },
      "outputs": [],
      "source": [
        "base_path = '/content/drive/MyDrive/ClearedReshapedBase/'\n",
        "test_filepaths = [get_img_path(base_path, i) for i in df.loc[(\n",
        "    df['искажение документа'] == 1) & (df['искажение текста'] == 1)]['filename_new']]"
      ]
    },
    {
      "cell_type": "code",
      "execution_count": null,
      "metadata": {
        "id": "d2h5FtDD63UZ"
      },
      "outputs": [],
      "source": [
        "# Составляем выборки файлов для проверки таблиц\n",
        "base_path = '/content/drive/MyDrive/ClearedReshapedBase/'\n",
        "target_cols = ['проверка таблиц', 'нестандартный контраст', 'нестандартная верхняя таблица', 'нестандартная нижняя таблица',\n",
        "               'обрезанный текст', 'обрезанные границы таблиц', 'не белый фон', 'точечный текст', 'нестандартное форматирование текста',\n",
        "               'плохая печать', 'искажение текста', 'искажение документа', '2 документа', '2 банка в верхней таблице', 'грязь']\n",
        "\n",
        "sample_dict = {col_name: [get_img_path(base_path, i) for i in list(\n",
        "    df[df[col_name] == 1].filename_new)] for col_name in target_cols}\n",
        "\n",
        "# Добавляем выборку без ошибок\n",
        "rows_with_zeros = df[(df[df.columns[20:]] == 0).all(axis=1)]\n",
        "filtered_df = df.loc[rows_with_zeros.index]\n",
        "sample_dict['без ошибок'] = [get_img_path(\n",
        "    base_path, f'{i:04}.png') for i in list(filtered_df['индекс файла'])[:100]]"
      ]
    },
    {
      "cell_type": "code",
      "execution_count": null,
      "metadata": {
        "id": "ZsUm9Qf75mak"
      },
      "outputs": [],
      "source": [
        "def print_img(image_path, figsize=(12, 8), title=None):\n",
        "    plt.rcParams['figure.facecolor'] = 'lightgray'\n",
        "    img = PILImage.open(image_path)\n",
        "    img = img.convert('RGB')\n",
        "\n",
        "    # Отображение изображения с помощью Matplotlib\n",
        "    plt.figure(figsize=figsize)\n",
        "    plt.imshow(img)\n",
        "    if title == None:\n",
        "        plt.title(image_path[-8:])  # Установка заголовка из названия файла\n",
        "    else:\n",
        "        plt.title(title)  # Установка заголовка из названия файла\n",
        "    plt.axis('off')  # Убрать оси координат\n",
        "    plt.show()"
      ]
    },
    {
      "cell_type": "code",
      "execution_count": null,
      "metadata": {
        "colab": {
          "base_uri": "https://localhost:8080/",
          "height": 181
        },
        "id": "LpYB9Zuu9rhy",
        "outputId": "4d637c7e-1bf2-4624-8b79-0784154eb43c"
      },
      "outputs": [],
      "source": [
        "# def display_images_in_table(image_paths, num_columns=4, image_size=(6, 6), border_color='black', border_width=5, title=False, starting_index=0, show_graph=False):\n",
        "#     num_images = len(image_paths)\n",
        "#     num_rows = math.ceil(num_images / num_columns)\n",
        "\n",
        "#     fig, axes = plt.subplots(num_rows, num_columns, figsize=(num_columns * image_size[0], num_rows * image_size[1]))\n",
        "#     if title == True:\n",
        "#         fig.suptitle(title, fontsize=48, y=1.005)\n",
        "#     else:\n",
        "#         fig.suptitle(f\"{starting_index}-{starting_index+num_images}\", fontsize=48, y=1.005)\n",
        "\n",
        "#     for i, ax in enumerate(axes.flat):\n",
        "#         if i < num_images:\n",
        "#             img_path = image_paths[i]\n",
        "#             img = PILImage.open(img_path)\n",
        "#             img = img.convert('RGB')\n",
        "\n",
        "#             # Добавляем обводку вокруг изображения\n",
        "#             border = Rectangle((0, 0), img.width, img.height, linewidth=border_width, edgecolor=border_color, facecolor='none')\n",
        "#             ax.add_patch(border)\n",
        "\n",
        "#             ax.imshow(img)\n",
        "#             # ax.set_title(f\"Изображение {i + 1}\", fontsize=24)\n",
        "#             img_title = img_path[-8:]\n",
        "#             ax.set_title(f\"{img_title} ({starting_index+i})\", fontsize=24)\n",
        "#             ax.axis('off')\n",
        "#         else:\n",
        "#             ax.axis('off')\n",
        "\n",
        "#     plt.tight_layout()\n",
        "#     if show_graph == True:\n",
        "#         plt.show()\n",
        "#     else:\n",
        "#         plt.savefig(f\"/content/drive/MyDrive/test_img/{starting_index}-{starting_index+num_images}.png\")\n",
        "#         # plt.savefig(f\"/content/drive/MyDrive/imgs/{starting_index}-{starting_index+50}.png\")\n",
        "\n",
        "#     plt.clf()\n",
        "\n",
        "# for i in range(len(test_filepaths) // 100 + 1):\n",
        "#     print(i)\n",
        "#     with timex():\n",
        "#         display_images_in_table(test_filepaths[100*i:100*(i+1)], num_columns=4, image_size=(12, 12), border_color='blue', border_width=5, title=False, starting_index=100*i, show_graph=False)"
      ]
    },
    {
      "cell_type": "code",
      "execution_count": null,
      "metadata": {
        "id": "jdpOOEISKATc"
      },
      "outputs": [],
      "source": [
        "# test_filepaths = sample_dict['нестандартное форматирование текста']\n",
        "# for i in range(len(test_filepaths) // 100 + 1):\n",
        "#     print(i)\n",
        "#     with timex():\n",
        "#         display_images_in_table(test_filepaths[100*i:100*(i+1)], num_columns=4, image_size=(6, 6), border_color='blue', border_width=5, title=False, starting_index=100*i, show_graph=False)\n",
        "#     break"
      ]
    },
    {
      "cell_type": "code",
      "execution_count": null,
      "metadata": {
        "colab": {
          "base_uri": "https://localhost:8080/"
        },
        "id": "IGYVWmO_Jr78",
        "outputId": "c28c7b02-6d3d-47fe-8767-d926302ba2ac"
      },
      "outputs": [],
      "source": [
        "for key, val in sample_dict.items():\n",
        "    print(len(val),  '-', key)"
      ]
    },
    {
      "cell_type": "code",
      "execution_count": null,
      "metadata": {
        "id": "qA7O64AbIMgF"
      },
      "outputs": [],
      "source": [
        "filenums_dict = {'искажение по вертикали': [1654, 1666, 1931, 2089, 2228, 2384, 2408,\n",
        "                                            2481, 2602, 2759, 2825, 2888, 2938, 2972, 2981, 3038, 3069, 3093, 3167, 3198, 3230, 3243,\n",
        "                                            3307, 3337, 3339, 3360, 3441, 3445, 3448, 3456, 3466, 3475, 3485, 3493, 3494, 3511, 3530,\n",
        "                                            3531, 3542, 3709, 3710, 3729, 3780, 4210, 4212, 4240, 4241, 4242, 4243, 4261, 4264, 4280,\n",
        "                                            4281, 4293, 4304, 4313, 4328, 4325, 4322, 4331, 4343, 4347, 4353, 4354, 4359, 4363, 4373,],\n",
        "                 'плохая печать': [88, 115, 148, 205, 259, 297, 316, 344, 480,\n",
        "                                   487, 511, 591, 741, 751, 811, 928, 990, 999, 1080, 1106, 1107, 1118, 1225, 1248,\n",
        "                                   1306, 1395, 1585, 1753, 1910, 1915, 1929, 1974, 1991, 2022, 2044, 2050, 2167, 2218, 2223,\n",
        "                                   2252, 2295, 2308, 2314, 2377, 2379, 2404, 2422, 2427, 2445, 2453, 2478, 2519, 2738, 2746,\n",
        "                                   2794, 2861, 2889, 3176, 3187, 3226, 3229, 3258, 3289, 3297, 3314, 3357, 3433, 3567, 3635,\n",
        "                                   3659, 3684, 3703, 3713, 3748, 3776, 3829, 3853, 3854, 4027, 4041, 4051, 4121, 4159, 4170,\n",
        "                                   4249, 4257, 4327, 4303, 4286, 4284, 4336, 4368, 4488, 4487, 4614, 4655, 4769, 4768, 4689,\n",
        "                                   4910, 4912, 4979, 4990, 5094, 5066, 5257, 5212, 5261, 5391, 5320, 5500, 5539, 5541, 5544,\n",
        "                                   5555, 5590, 5581, 5557, 5640, 5654, 5656, 5667, 5663, 5683, 5688, 5736, 5759, 5827, 5927,\n",
        "                                   5930,\n",
        "                                   ],\n",
        "                 'точечный текст': [int(i[-8:-4]) for i in sample_dict['точечный текст']],\n",
        "                 'не белый фон': [int(i[-8:-4]) for i in sample_dict['не белый фон']],\n",
        "                 'грязь': [4, 59, 61, 65, 67, 78, 79, 83, 93, 98, 105, 110, 120, 152, 171, 282,\n",
        "                           329, 350, 413, 695, 1477, 1546, 1608, 1691, 1795, 1805, 1844, 1869, 1894, 1907, 2085, 2122, 2105,\n",
        "                           2156, 2161, 2183, 2162, 2213, 2322, 2341, 2405, 2406, 2412, 2429, 2443, 2498, 2514, 2541, 2586,\n",
        "                           2595, 2600, 2618, 2623, 2638, 2640, 2645, 2651, 2656, 2657, 2695, 2715, 2718, 2731, 2733, 2737,\n",
        "                           2745, 2781, 2782, 2800, 2823, 2906, 3074, 3103, 3115, 3173, 3286, 3318, 3319, 3320, 3330, 3331,\n",
        "                           3336, 3338, 3350, 3356, 3431, 3451, 3548, 3602, 3617, 3698, 3730, 3775, 3803, 3879, 3888, 3886,\n",
        "                           3906, 3913, 3915, 3937, 3943, 3954, 3947, 4006, 4011, 4041, 4029, 4028, 4060, 4057, 4055, 4064,\n",
        "                           4068, 4085, 4093, 4096, 4104, 4118, 4115, 4121, 4130, 4139, 4134, 4131, 4145, 4166, 4180, 4188,\n",
        "                           4189, 4192, 4200, 4195, 4219, 4220, 4222, 4233, 4247, 4268, 4258, 4285, 4367, 4398, 4402, 4427,\n",
        "                           4442, 4449, 4476, 4475, 4461, 4477, 4508, 4490, 4530, 4534, 4547, 4608, 4595, 4590, 4650, 4663,\n",
        "                           4730, 4747, 4748, 4749, 4776, 4782, 4795, 4807, 4839, 4912, 4910, 4937, 4989, 4967, 5048, 5031,\n",
        "                           5099, 5103, 5173, 5171, 5205, 5207, 5229, 5255, 5264, 5277, 5319, 5307, 5340, 5352, 5368, 5367,\n",
        "                           5378, 5384, 5398, 5402, 5403, 5419, 5432, 5441, 5442, 5449, 5453, 5459, 5460, 5506, 5496, 5518,\n",
        "                           5519, 5521, 5532, 5541, 5543, 5544, 5548, 5546, 5555, 5556, 5560, 5569, 5587, 5584, 5579, 5597,\n",
        "                           5608, 5612, 5633, 5623, 5635, 5645, 5657, 5656, 5648, 5659, 5661, 5662, 5668, 5671, 5672, 5675,\n",
        "                           5677, 5690, 5688, 5686, 5681, 5696, 5699, 5702, 5712, 5709, 5707, 5730, 5734, 5732, 5739, 5737,\n",
        "                           5736, 5735, 5755, 5768, 5777, 5799, 5807, 5810, 5818, 5823, 5827, 5831, 5840, 5839, 5855, 5878,\n",
        "                           5970, 5965, 5974,\n",
        "                           ],\n",
        "                 \"нестандартное форматирование текста\": [87, 94, 148, 164, 178, 200, 201,\n",
        "                                                         205, 214, 231, 237, 245, 251, 252, 259, 272, 330, 328, 310, 309, 390, 392, 603, 461, 456, 621, 679,\n",
        "                                                         716, 743, 853, 953, 969, 1016, 1053, 1184, 1205, 1223, 1232, 1268, 1344, 1334, 1423, 1514, 1531,\n",
        "                                                         1519, 1587, 1711, 1697, 1674, 1745, 1897, 1987, 1986, 2191, 2230, 2231, 2258, 2340, 2412, 2405,\n",
        "                                                         2429, 2542, 2683, 2583, 2750, 2910, 2916, 3012, 3026, 3083, 3066, 3145, 3156, 3165, 3232, 3197,\n",
        "                                                         3182, 3292, 3521, 3571, 3568, 3597, 3793, 3922, 3876, 3929, 3935, 4030, 4022, 4021, 4015, 4320,\n",
        "                                                         4555, 4730, 4649, 5227, 5466, 5703, 5813, 5821,\n",
        "                                                         ],\n",
        "                 'нестандартный контраст': [int(i[-8:-4]) for i in sample_dict['нестандартный контраст'][:80]],\n",
        "                 }"
      ]
    },
    {
      "cell_type": "code",
      "execution_count": null,
      "metadata": {
        "id": "AnkQPXZbwa4E"
      },
      "outputs": [],
      "source": [
        "filenums_dict = {'искажение по вертикали': [1654, 1666, 1931, 2089, 2228, 2384, 2408, 2481, 2602, 2759, 2825, 2888, 2938, 2972, 2981, 3038, 3069, 3093, 3167, 3198, 3230, 3243, 3307, 3337, 3339, 3360, 3441, 3445, 3448, 3456, 3466, 3475, 3485, 3493, 3494, 3511, 3530, 3531, 3542, 3709, 3710, 3729, 3780, 4210, 4212, 4240, 4241, 4242, 4243, 4261, 4264, 4280, 4281, 4293, 4304, 4313, 4328, 4325, 4322, 4331, 4343, 4347, 4353, 4354, 4359, 4363, 4373],\n",
        "                 'плохая печать': [88, 115, 148, 205, 259, 297, 316, 344, 480, 487, 511, 591, 741, 751, 811, 928, 990, 999, 1080, 1106, 1107, 1118, 1225, 1248, 1306, 1395, 1585, 1753, 1910, 1915, 1929, 1974, 1991, 2022, 2044, 2050, 2167, 2218, 2223, 2252, 2295, 2308, 2314, 2377, 2379, 2404, 2422, 2427, 2445, 2453, 2478, 2519, 2738, 2746, 2794, 2861, 2889, 3176, 3187, 3226, 3229, 3258, 3289, 3297, 3314, 3357, 3433, 3567, 3635, 3659, 3684, 3703, 3713, 3748, 3776, 3829, 3853, 3854, 4027, 4041, 4051, 4121, 4159, 4170, 4249, 4257, 4327, 4303, 4286, 4284, 4336, 4368, 4488, 4487, 4614, 4655, 4769, 4768, 4689, 4910, 4912, 4979, 4990, 5094, 5066, 5257, 5212, 5261, 5391, 5320, 5500, 5539, 5541, 5544, 5555, 5590, 5581, 5557, 5640, 5654, 5656, 5667, 5663, 5683, 5688, 5736, 5759, 5827, 5927, 5930],\n",
        "                 'точечный текст': [100, 122, 134, 153, 155, 162, 167, 176, 186, 188, 215, 226, 271, 326, 331, 344, 377, 404, 424, 426, 427, 459, 462, 468, 469, 485, 503, 516, 537, 565, 569, 584, 586, 591, 600, 656, 666, 785, 789, 805, 852, 894, 949, 960, 974, 990, 1025, 1027, 1042, 1093, 1106, 1110, 1118, 1151, 1234, 1238, 1248, 1280, 1350, 1359, 1379, 1408, 1548, 1550, 1568, 1585, 1608, 1655, 1661, 1705, 1782, 1826, 1831, 1881, 1922, 1973, 2026, 2054, 2074, 2083, 2114, 2131, 2141, 2164, 2182, 2207, 2223, 2227, 2246, 2302, 2306, 2323, 2352, 2357, 2358, 2379, 2395, 2436, 2443, 2451, 2477, 2481, 2496, 2529, 2530, 2556, 2563, 2580, 2616, 2700, 2701, 2711, 2742, 2780, 2781, 2842, 2888, 2978, 3095, 3097, 3191, 3252, 3276, 3290, 3303, 3342, 3346, 3391, 3404, 3416, 3417, 3418, 3507, 3514, 3543, 3544, 3567, 3578, 3582, 3641, 3654, 3668, 3669, 3706, 3713, 3715, 3721, 3752, 3758, 3773, 3783, 3801, 3825, 3881, 3911, 3914, 3932, 3943, 3956, 4112, 4156, 4158, 4205, 4211, 4215, 4286, 4303, 4337, 4366, 4368, 4376, 4413, 4414, 4431, 4439, 4471, 4494, 4552, 4626, 4662, 4742, 4907, 5098, 5099, 5102, 5301, 5302, 5303, 5404, 5411, 5442, 5529, 5531],\n",
        "                 'не белый фон': [3391, 3886, 5521, 5587, 5597, 5627, 5657, 5659, 5662, 5671, 5672, 5687, 5688, 5690, 5695, 5699, 5707, 5709, 5712, 5716, 5732, 5735, 5737, 5744, 5746, 5747, 5748, 5749, 5750, 5752, 5753, 5754, 5757, 5762, 5765, 5767, 5769, 5774, 5775, 5777, 5783, 5784, 5789, 5793, 5794, 5795, 5796, 5801, 5802, 5804, 5807, 5811, 5814, 5815, 5822, 5823, 5830, 5846, 5888, 5945, 5947, 5954, 5957, 5958, 5959, 5962, 5963, 5964, 5965, 5966, 5972, 5973, 5974, 5975, 5977, 5978, 5979],\n",
        "                 'грязь': [4, 59, 61, 65, 67, 78, 79, 83, 93, 98, 105, 110, 120, 152, 171, 282, 329, 350, 413, 695, 1477, 1546, 1608, 1691, 1795, 1805, 1844, 1869, 1894, 1907, 2085, 2122, 2105, 2156, 2161, 2183, 2162, 2213, 2322, 2341, 2405, 2406, 2412, 2429, 2443, 2498, 2514, 2541, 2586, 2595, 2600, 2618, 2623, 2638, 2640, 2645, 2651, 2656, 2657, 2695, 2715, 2718, 2731, 2733, 2737, 2745, 2781, 2782, 2800, 2823, 2906, 3074, 3103, 3115, 3173, 3286, 3318, 3319, 3320, 3330, 3331, 3336, 3338, 3350, 3356, 3431, 3451, 3548, 3602, 3617, 3698, 3730, 3775, 3803, 3879, 3888, 3886, 3906, 3913, 3915, 3937, 3943, 3954, 3947, 4006, 4011, 4041, 4029, 4028, 4060, 4057, 4055, 4064, 4068, 4085, 4093, 4096, 4104, 4118, 4115, 4121, 4130, 4139, 4134, 4131, 4145, 4166, 4180, 4188, 4189, 4192, 4200, 4195, 4219, 4220, 4222, 4233, 4247, 4268, 4258, 4285, 4367, 4398, 4402, 4427, 4442, 4449, 4476, 4475, 4461, 4477, 4508, 4490, 4530, 4534, 4547, 4608, 4595, 4590, 4650, 4663, 4730, 4747, 4748, 4749, 4776, 4782, 4795, 4807, 4839, 4912, 4910, 4937, 4989, 4967, 5048, 5031, 5099, 5103, 5173, 5171, 5205, 5207, 5229, 5255, 5264, 5277, 5319, 5307, 5340, 5352, 5368, 5367, 5378, 5384, 5398, 5402, 5403, 5419, 5432, 5441, 5442, 5449, 5453, 5459, 5460, 5506, 5496, 5518, 5519, 5521, 5532, 5541, 5543, 5544, 5548, 5546, 5555, 5556, 5560, 5569, 5587, 5584, 5579, 5597, 5608, 5612, 5633, 5623, 5635, 5645, 5657, 5656, 5648, 5659, 5661, 5662, 5668, 5671, 5672, 5675, 5677, 5690, 5688, 5686, 5681, 5696, 5699, 5702, 5712, 5709, 5707, 5730, 5734, 5732, 5739, 5737, 5736, 5735, 5755, 5768, 5777, 5799, 5807, 5810, 5818, 5823, 5827, 5831, 5840, 5839, 5855, 5878, 5970, 5965, 5974],\n",
        "                 'нестандартное форматирование текста': [87, 94, 148, 164, 178, 200, 201, 205, 214, 231, 237, 245, 251, 252, 259, 272, 330, 328, 310, 309, 390, 392, 603, 461, 456, 621, 679, 716, 743, 853, 953, 969, 1016, 1053, 1184, 1205, 1223, 1232, 1268, 1344, 1334, 1423, 1514, 1531, 1519, 1587, 1711, 1697, 1674, 1745, 1897, 1987, 1986, 2191, 2230, 2231, 2258, 2340, 2412, 2405, 2429, 2542, 2683, 2583, 2750, 2910, 2916, 3012, 3026, 3083, 3066, 3145, 3156, 3165, 3232, 3197, 3182, 3292, 3521, 3571, 3568, 3597, 3793, 3922, 3876, 3929, 3935, 4030, 4022, 4021, 4015, 4320, 4555, 4730, 4649, 5227, 5466, 5703, 5813, 5821],\n",
        "                 'нестандартный контраст': [86, 94, 99, 115, 134, 148, 153, 155, 162, 164, 167, 173, 178, 186, 188, 201, 205, 237, 245, 252, 259, 267, 271, 272, 276, 277, 297, 298, 316, 326, 331, 344, 377, 392, 395, 404, 424, 426, 427, 446, 459, 468, 469, 480, 487, 498, 503, 537, 565, 569, 576, 579, 584, 585, 586, 587, 591, 600, 656, 666, 689, 703, 709, 741, 751, 753, 782, 785, 789, 805, 811, 812, 840, 852, 858, 877, 887, 894, 919, 949],\n",
        "                 'без ошибок': [1, 2, 3, 5, 6, 7, 8, 9, 10, 11, 12, 13, 14, 15, 16, 17, 18, 20, 21, 22, 23, 24, 27, 28, 29, 30, 31, 36, 38, 43, 44, 45, 46, 47, 48, 51, 53, 54, 55, 57, 62, 63, 64, 66, 69, 72, 73, 76, 81, 84, 85, 89, 92, 95, 96, 97, 106, 111, 116, 117, 119, 124, 125, 126, 127, 128, 129, 130, 131, 132, 135, 136, 137, 139, 140, 141, 143, 144, 145, 146, 147, 149, 154, 156, 157, 158, 160, 161, 163, 165, 166, 168, 169, 170, 172, 174, 177, 179, 183, 185,]}"
      ]
    },
    {
      "cell_type": "code",
      "execution_count": null,
      "metadata": {
        "colab": {
          "base_uri": "https://localhost:8080/"
        },
        "id": "5Kth8GxfISGr",
        "outputId": "c27c67bd-77fb-479a-919f-f053123d6ada"
      },
      "outputs": [],
      "source": [
        "for i, j in filenums_dict.items():\n",
        "    print(f\"'{i}':{j},\")"
      ]
    },
    {
      "cell_type": "code",
      "execution_count": null,
      "metadata": {
        "id": "76e3hmvCGblH"
      },
      "outputs": [],
      "source": [
        "def get_img_path(base_path, filename):\n",
        "    x = int(filename[:-4])\n",
        "    lower_bound = (x // 100) * 100\n",
        "    upper_bound = lower_bound + 100\n",
        "    return base_path + f'{lower_bound}-{upper_bound}/' + filename\n",
        "\n",
        "\n",
        "# Путь к папке с файлами на google диске\n",
        "base_path = '/content/drive/MyDrive/ClearedReshapedBase/'\n",
        "\n",
        "filepaths_dict = {i: [get_img_path(base_path, '{:04}.png'.format(\n",
        "    k)) for k in j] for i, j in filenums_dict.items()}"
      ]
    },
    {
      "cell_type": "markdown",
      "metadata": {
        "id": "DUY1CalL3ncH"
      },
      "source": [
        "# Предобработка тест"
      ]
    },
    {
      "cell_type": "code",
      "execution_count": null,
      "metadata": {
        "id": "_PpXQws_lg_g"
      },
      "outputs": [],
      "source": [
        "from matplotlib.patches import Rectangle\n",
        "\n",
        "\n",
        "def display_images_in_table_2(img_names_list, image_list, num_columns=4, image_size=(6, 6), border_color='black', border_width=5, title=False):\n",
        "    num_images = len(image_list)\n",
        "    num_rows = 1\n",
        "\n",
        "    fig, axes = plt.subplots(num_rows, num_columns, figsize=(\n",
        "        num_columns * image_size[0], num_rows * image_size[1]))\n",
        "    if title == True:\n",
        "        fig.suptitle(title, fontsize=48, y=1.005)\n",
        "    else:\n",
        "        fig.suptitle(f\"Изображение\", fontsize=48, y=1.005)\n",
        "\n",
        "    for i, ax in enumerate(axes.flat):\n",
        "        if i < num_images:\n",
        "            img = image_list[0]\n",
        "\n",
        "            # Добавляем обводку вокруг изображения\n",
        "            border = Rectangle((0, 0), img.width, img.height,\n",
        "                               linewidth=border_width, edgecolor=border_color, facecolor='none')\n",
        "            ax.add_patch(border)\n",
        "\n",
        "            ax.imshow(img)\n",
        "            ax.set_title(img_names_list[i], fontsize=24)\n",
        "            ax.axis('off')\n",
        "        else:\n",
        "            ax.axis('off')\n",
        "\n",
        "    plt.tight_layout()\n",
        "    plt.show()\n",
        "    plt.clf()"
      ]
    },
    {
      "cell_type": "code",
      "execution_count": null,
      "metadata": {
        "id": "JXFa-DK9gBZ2"
      },
      "outputs": [],
      "source": [
        "def print_img(img, image_path, figsize=(12, 8), title=None):\n",
        "    # Отображение изображения с помощью Matplotlib\n",
        "    plt.rcParams['figure.facecolor'] = 'lightgray'\n",
        "    plt.figure(figsize=figsize)\n",
        "    plt.imshow(img)\n",
        "    if title == None:\n",
        "        plt.title(image_path[-8:])  # Установка заголовка из названия файла\n",
        "    else:\n",
        "        plt.title(title)  # Установка заголовка из названия файла\n",
        "    plt.axis('off')  # Убрать оси координат\n",
        "    plt.show()\n",
        "\n",
        "\n",
        "def to_numpy(im):\n",
        "    im.load()\n",
        "    # unpack data\n",
        "    e = PILImage._getencoder(im.mode, 'raw', im.mode)\n",
        "    e.setimage(im.im)\n",
        "\n",
        "    # NumPy buffer for the result\n",
        "    shape, typestr = PILImage._conv_type_shape(im)\n",
        "    data = np.empty(shape, dtype=np.dtype(typestr))\n",
        "    mem = data.data.cast('B', (data.data.nbytes,))\n",
        "\n",
        "    bufsize, s, offset = 65536, 0, 0\n",
        "    while not s:\n",
        "        l, s, d = e.encode(bufsize)\n",
        "        mem[offset:offset + len(d)] = d\n",
        "        offset += len(d)\n",
        "    if s < 0:\n",
        "        raise RuntimeError(\"encoder error %d in tobytes\" % s)\n",
        "    return data"
      ]
    },
    {
      "cell_type": "code",
      "execution_count": null,
      "metadata": {
        "id": "8d6Mwbojl7Fm"
      },
      "outputs": [],
      "source": [
        "display_images_in_table_2(image_path[-8:])"
      ]
    },
    {
      "cell_type": "code",
      "execution_count": null,
      "metadata": {
        "id": "xtzDw9vxmW2W"
      },
      "outputs": [],
      "source": [
        "filepath = test_filepaths[0]\n",
        "img = cv2.imread(filepath)\n",
        "cv2_imshow(img)\n",
        "\n",
        "img = cv2.cvtColor(img, cv2.COLOR_BGR2RGB)\n",
        "cv2_imshow(img)"
      ]
    },
    {
      "cell_type": "code",
      "execution_count": null,
      "metadata": {
        "id": "2ktK-MKJ3uWY"
      },
      "outputs": [],
      "source": [
        "def thresholding(image):\n",
        "    return cv2.threshold(image, 0, 255, cv2.THRESH_BINARY + cv2.THRESH_OTSU)[1]\n",
        "\n",
        "\n",
        "def remove_noise(image):\n",
        "    return cv2.fastNlMeansDenoising(image, h=3, templateWindowSize=7, searchWindowSize=21)\n",
        "\n",
        "\n",
        "def normalize_img(img):\n",
        "    norm_img = np.zeros((img.shape[0], img.shape[1]))\n",
        "    return cv2.normalize(img, norm_img, 0, 255, cv2.NORM_MINMAX)\n",
        "\n",
        "\n",
        "def erode_img(img):\n",
        "    # img = cv2.imread('j.png',0)\n",
        "    kernel = np.ones((5, 5), np.uint8)\n",
        "    return cv2.erode(img, kernel, iterations=1)\n",
        "\n",
        "\n",
        "def blur_img(img):\n",
        "    return cv2.GaussianBlur(img, (3, 3), 0)\n",
        "\n",
        "\n",
        "def dilate_img(img):\n",
        "    return cv2.dilate(img, (10, 10), iterations=3)\n",
        "\n",
        "\n",
        "def custom_edit_1(img):\n",
        "    img = cv2.GaussianBlur(img, (3, 3), 0)\n",
        "    img = cv2.threshold(img, 0, 255, cv2.THRESH_BINARY + cv2.THRESH_OTSU)[1]\n",
        "    img = cv2.dilate(img, (10, 10), iterations=3)\n",
        "\n",
        "    return img\n",
        "\n",
        "\n",
        "preform_dict = {'thresholding': thresholding,\n",
        "                'remove_noise': remove_noise,\n",
        "                'normalize_img': normalize_img,\n",
        "                'erode_img': erode_img,\n",
        "                'blur_img': blur_img,\n",
        "                'dilate_img': dilate_img,\n",
        "\n",
        "                'blur+threshold+dilate': custom_edit_1,\n",
        "                }"
      ]
    },
    {
      "cell_type": "code",
      "execution_count": null,
      "metadata": {
        "colab": {
          "base_uri": "https://localhost:8080/",
          "height": 1000
        },
        "id": "MvoIeJ9j8LCp",
        "outputId": "2dd4e26b-595b-4a37-d678-d88e403211b3"
      },
      "outputs": [],
      "source": [
        "for i, j in preform_dict.items():\n",
        "    print_img(cv2.cvtColor(j(image), cv2.COLOR_GRAY2RGB),\n",
        "              filepath, figsize=(20, 16), title=i)"
      ]
    },
    {
      "cell_type": "code",
      "execution_count": null,
      "metadata": {
        "id": "A70VgAjf4bZr"
      },
      "outputs": [],
      "source": [
        "filepath = test_filepaths[0]\n",
        "image = cv2.imread(filepath, cv2.COLOR_RGB2GRAY)  # cv2.COLOR_BGR2GRAY\n",
        "\n",
        "print_img(image, filepath, figsize=(12, 8), title=None)\n",
        "\n",
        "image = cv2.cvtColor(image, cv2.COLOR_RGB2GRAY)\n",
        "thresh = cv2.threshold(image, 0, 255, cv2.THRESH_BINARY + cv2.THRESH_OTSU)[1]\n",
        "dist = cv2.distanceTransform(thresh, cv2.DIST_L2, 5)\n",
        "dist = cv2.normalize(dist, dist, 0, 1.0, cv2.NORM_MINMAX)\n",
        "dist = (dist * 255).astype(\"uint8\")\n",
        "dist = cv2.threshold(dist, 0, 255, cv2.THRESH_BINARY | cv2.THRESH_OTSU)[1]\n",
        "\n",
        "print_img(dist, filepath, figsize=(12, 8), title=None)\n",
        "\n",
        "kernel = cv2.getStructuringElement(cv2.MORPH_ELLIPSE, (7, 7))\n",
        "opening = cv2.morphologyEx(dist, cv2.MORPH_OPEN, kernel)\n",
        "\n",
        "print_img(opening, filepath, figsize=(12, 8), title=None)\n",
        "\n",
        "cnts = cv2.findContours(opening.copy(), cv2.RETR_EXTERNAL,\n",
        "                        cv2.CHAIN_APPROX_SIMPLE)\n",
        "cnts = imutils.grab_contours(cnts)\n",
        "chars = []\n",
        "# loop over the contours\n",
        "for c in cnts:\n",
        "    # compute the bounding box of the contour\n",
        "    (x, y, w, h) = cv2.boundingRect(c)\n",
        "    # check if contour is at least 35px wide and 100px tall, and if\n",
        "    # so, consider the contour a digit\n",
        "    if w >= 35 and h >= 100:\n",
        "        chars.append(c)\n",
        "\n",
        "chars = np.vstack([chars[i] for i in range(0, len(chars))])\n",
        "hull = cv2.convexHull(chars)\n",
        "\n",
        "mask = np.zeros(image.shape[:2], dtype=\"uint8\")\n",
        "cv2.drawContours(mask, [hull], -1, 255, -1)\n",
        "mask = cv2.dilate(mask, None, iterations=2)\n",
        "\n",
        "print_img(mask, filepath, figsize=(12, 8), title=None)\n",
        "\n",
        "final = cv2.bitwise_and(opening, opening, mask=mask)\n",
        "\n",
        "print_img(final, filepath, figsize=(12, 8), title=None)"
      ]
    },
    {
      "cell_type": "code",
      "execution_count": null,
      "metadata": {
        "colab": {
          "base_uri": "https://localhost:8080/",
          "height": 1000
        },
        "id": "-NNKSz2Cf4iX",
        "outputId": "2622e063-39b1-40b8-f7b6-bded1f03b08e"
      },
      "outputs": [],
      "source": [
        "filepath = test_filepaths[0]\n",
        "img = PILImage.open(filepath)\n",
        "img = img.convert('RGB')\n",
        "\n",
        "img_cv2 = to_numpy(img)\n",
        "img_cv2 = cv2.cvtColor(img_cv2, cv2.COLOR_RGB2GRAY)\n",
        "blur = cv2.GaussianBlur(img_cv2, (3, 3), 0)\n",
        "_, thresh = cv2.threshold(blur, 0, 255, cv2.THRESH_BINARY + cv2.THRESH_OTSU)\n",
        "dilation = cv2.dilate(thresh, (10, 10), iterations=3)\n",
        "contours, _ = cv2.findContours(\n",
        "    dilation, cv2.RETR_EXTERNAL, cv2.CHAIN_APPROX_SIMPLE)\n",
        "\n",
        "print_img(img, filepath, figsize=(12, 8), title=None)\n",
        "blur = cv2.cvtColor(blur, cv2.COLOR_GRAY2RGB)\n",
        "print_img(blur, filepath, figsize=(12, 8), title='blur')\n",
        "thresh = cv2.cvtColor(thresh, cv2.COLOR_GRAY2RGB)\n",
        "print_img(thresh, filepath, figsize=(12, 8), title='thresh')\n",
        "dilation = cv2.cvtColor(dilation, cv2.COLOR_GRAY2RGB)\n",
        "print_img(dilation, filepath, figsize=(12, 8), title='dilition')\n",
        "# print_img(contours, filepath, figsize=(12,8), title=None)"
      ]
    },
    {
      "cell_type": "markdown",
      "metadata": {
        "id": "8P_7fAMQACkG"
      },
      "source": [
        "# **EasyOCR тест предобработки**"
      ]
    },
    {
      "cell_type": "markdown",
      "metadata": {
        "id": "j5gky-1FsAST"
      },
      "source": [
        "### ***Установка библиотек, и составление функций***"
      ]
    },
    {
      "cell_type": "code",
      "execution_count": null,
      "metadata": {
        "id": "i38rsEueAETD"
      },
      "outputs": [],
      "source": [
        "%%capture\n",
        "!pip install easyocr\n",
        "import easyocr"
      ]
    },
    {
      "cell_type": "code",
      "execution_count": null,
      "metadata": {
        "id": "juHrHRh4A92F"
      },
      "outputs": [],
      "source": [
        "from IPython.display import display_html  # , display\n",
        "# display_html"
      ]
    },
    {
      "cell_type": "code",
      "execution_count": null,
      "metadata": {
        "colab": {
          "base_uri": "https://localhost:8080/"
        },
        "id": "sGQx0zmSDVT9",
        "outputId": "3741e3e2-8fa3-4b14-b221-810acd22cb5c"
      },
      "outputs": [],
      "source": [
        "# Создаём EasyOCR\n",
        "reader = easyocr.Reader(['ru', 'en'])"
      ]
    },
    {
      "cell_type": "code",
      "execution_count": null,
      "metadata": {
        "colab": {
          "base_uri": "https://localhost:8080/"
        },
        "id": "plGeUN19Lm9E",
        "outputId": "aaad717e-eaa0-4cf2-aa10-4ff3f956c108"
      },
      "outputs": [
        {
          "data": {
            "text/plain": [
              "dict_keys(['искажение по вертикали', 'плохая печать', 'точечный текст', 'не белый фон', 'грязь', 'нестандартное форматирование текста', 'нестандартный контраст'])"
            ]
          },
          "execution_count": 70,
          "metadata": {},
          "output_type": "execute_result"
        }
      ],
      "source": [
        "filepaths_dict.keys()"
      ]
    },
    {
      "cell_type": "code",
      "execution_count": null,
      "metadata": {
        "colab": {
          "base_uri": "https://localhost:8080/"
        },
        "id": "Lg8-U4NuS8cm",
        "outputId": "2227f661-8f0d-4a61-a8c0-dceaad554ed5"
      },
      "outputs": [],
      "source": [
        "for key, val in filepaths_dict.items():\n",
        "    print(f'{len(val):4}',  '-', key)"
      ]
    },
    {
      "cell_type": "code",
      "execution_count": null,
      "metadata": {
        "id": "XAatmpN5bCn7"
      },
      "outputs": [],
      "source": [
        "def thresholding(image):\n",
        "    return cv2.threshold(image, 0, 255, cv2.THRESH_BINARY + cv2.THRESH_OTSU)[1]\n",
        "\n",
        "\n",
        "def remove_noise(image):\n",
        "    return cv2.fastNlMeansDenoising(image, h=3, templateWindowSize=7, searchWindowSize=21)\n",
        "\n",
        "\n",
        "def normalize_img(img):\n",
        "    norm_img = np.zeros((img.shape[0], img.shape[1]))\n",
        "    return cv2.normalize(img, norm_img, 0, 255, cv2.NORM_MINMAX)\n",
        "\n",
        "\n",
        "def erode_img(img):\n",
        "    # img = cv2.imread('j.png',0)\n",
        "    kernel = np.ones((5, 5), np.uint8)\n",
        "    return cv2.erode(img, kernel, iterations=1)\n",
        "\n",
        "\n",
        "def blur_img(img):\n",
        "    return cv2.GaussianBlur(img, (3, 3), 0)\n",
        "\n",
        "\n",
        "def dilate_img(img):\n",
        "    return cv2.dilate(img, (10, 10), iterations=3)\n",
        "\n",
        "\n",
        "def custom_edit_1(img):\n",
        "    img = cv2.GaussianBlur(img, (3, 3), 0)\n",
        "    img = cv2.threshold(img, 0, 255, cv2.THRESH_BINARY + cv2.THRESH_OTSU)[1]\n",
        "    img = cv2.dilate(img, (10, 10), iterations=3)\n",
        "\n",
        "    return img\n",
        "\n",
        "\n",
        "preform_dict = {'thresholding': thresholding,\n",
        "                'remove_noise': remove_noise,\n",
        "                'normalize_img': normalize_img,\n",
        "                'erode_img': erode_img,\n",
        "                'blur_img': blur_img,\n",
        "                'dilate_img': dilate_img,\n",
        "\n",
        "                'blur+threshold+dilate': custom_edit_1,\n",
        "                }"
      ]
    },
    {
      "cell_type": "code",
      "execution_count": null,
      "metadata": {
        "id": "EwkQ553lOGEy"
      },
      "outputs": [],
      "source": [
        "def print_img(img, image_path, figsize=(12, 8), title=None):\n",
        "    # Отображение изображения с помощью Matplotlib\n",
        "    plt.figure(figsize=figsize)\n",
        "    plt.imshow(img)\n",
        "    if title == None:\n",
        "        plt.title(image_path[-8:])  # Установка заголовка из названия файла\n",
        "    else:\n",
        "        plt.title(title)  # Установка заголовка из названия файла\n",
        "    plt.axis('off')  # Убрать оси координат\n",
        "    plt.show()\n",
        "\n",
        "\n",
        "def print_result_string(result_list, name='Default'):\n",
        "    print(f'{name:>25} ({len(result_list)}):', end=' ')\n",
        "    print(*result_list[:50], sep=' ')"
      ]
    },
    {
      "cell_type": "markdown",
      "metadata": {
        "id": "LpsdV9HFZ9EZ"
      },
      "source": [
        "### ***Тест изображений из каждой категории***"
      ]
    },
    {
      "cell_type": "markdown",
      "metadata": {
        "id": "KATtdZ2vwPcm"
      },
      "source": [
        "#### **без ошибок**"
      ]
    },
    {
      "cell_type": "code",
      "execution_count": null,
      "metadata": {
        "colab": {
          "base_uri": "https://localhost:8080/"
        },
        "id": "JsYqedSJwPcs",
        "outputId": "1aab2aea-3d0b-4b5b-c2f9-8f79963a3850"
      },
      "outputs": [],
      "source": [
        "category = 'без ошибок'\n",
        "test_num = 10\n",
        "\n",
        "cat_len = len(filepaths_dict[category][:test_num])\n",
        "for i, filepath in enumerate(filepaths_dict[category][:test_num]):\n",
        "    print('Файл:', filepath[-8:], f'({i+1}/{cat_len}) ({i})')\n",
        "    with timex():\n",
        "        img = cv2.imread(filepath)\n",
        "        print_img(img, filepath, figsize=(12, 8))\n",
        "        img = cv2.cvtColor(img, cv2.COLOR_BGR2GRAY)\n",
        "\n",
        "        # Находим текст без предобработки\n",
        "        names_list = ['Default']\n",
        "        results_list = []\n",
        "        results_list.append(reader.readtext(img, detail=0))\n",
        "\n",
        "        # Находим текст с предобработкой\n",
        "        for preform_name, preform in preform_dict.items():\n",
        "            names_list.append(preform_name)\n",
        "            results_list.append(reader.readtext(preform(img), detail=0))\n",
        "\n",
        "        df = pd.DataFrame(results_list, index=names_list)\n",
        "        df = df.T\n",
        "        display_html(df.head(25).to_html(), raw=True)\n",
        "\n",
        "        for name, res in zip(names_list, results_list):\n",
        "            print_result_string(res, name)\n",
        "\n",
        "    print()"
      ]
    },
    {
      "cell_type": "markdown",
      "metadata": {
        "id": "BvzkE1OXZFU0"
      },
      "source": [
        "#### **искажение по вертикали**"
      ]
    },
    {
      "cell_type": "code",
      "execution_count": null,
      "metadata": {
        "colab": {
          "base_uri": "https://localhost:8080/",
          "height": 1000
        },
        "id": "7UW78xHnLwHE",
        "outputId": "7f045684-8ab5-470a-ec70-9f56908b5614"
      },
      "outputs": [],
      "source": [
        "category = 'искажение по вертикали'\n",
        "\n",
        "cat_len = len(filepaths_dict[category])\n",
        "for i, filepath in enumerate(filepaths_dict[category]):\n",
        "    print('Файл:', filepath[-8:], f'({i+1}/{cat_len})')\n",
        "    with timex():\n",
        "        img = cv2.imread(filepath)\n",
        "        print_img(img, filepath, figsize=(12, 8))\n",
        "        img = cv2.cvtColor(img, cv2.COLOR_BGR2GRAY)\n",
        "\n",
        "        # Находим текст без предобработки\n",
        "        names_list = ['Default']\n",
        "        results_list = []\n",
        "        results_list.append(reader.readtext(img, detail=0))\n",
        "\n",
        "        # Находим текст с предобработкой\n",
        "        for preform_name, preform in preform_dict.items():\n",
        "            names_list.append(preform_name)\n",
        "            results_list.append(reader.readtext(preform(img), detail=0))\n",
        "\n",
        "        df = pd.DataFrame(results_list, index=names_list)\n",
        "        df = df.T\n",
        "        display_html(df.head(25).to_html(), raw=True)\n",
        "\n",
        "        for name, res in zip(names_list, results_list):\n",
        "            print_result_string(res, name)\n",
        "\n",
        "    print()"
      ]
    },
    {
      "cell_type": "markdown",
      "metadata": {
        "id": "72AxEa9uZxLq"
      },
      "source": [
        "#### **не белый фон**"
      ]
    },
    {
      "cell_type": "code",
      "execution_count": null,
      "metadata": {
        "colab": {
          "base_uri": "https://localhost:8080/",
          "height": 1000
        },
        "id": "0Pk5Zb3uZxLw",
        "outputId": "0e382ad8-ae34-4d11-9f9b-21de84535581"
      },
      "outputs": [],
      "source": [
        "category = 'не белый фон'\n",
        "test_num = 30\n",
        "\n",
        "cat_len = len(filepaths_dict[category][:test_num])\n",
        "for i, filepath in enumerate(filepaths_dict[category][:test_num]):\n",
        "    print('Файл:', filepath[-8:], f'({i+1}/{cat_len}) ({i})')\n",
        "    with timex():\n",
        "        img = cv2.imread(filepath)\n",
        "        print_img(img, filepath, figsize=(12, 8))\n",
        "        img = cv2.cvtColor(img, cv2.COLOR_BGR2GRAY)\n",
        "\n",
        "        # Находим текст без предобработки\n",
        "        names_list = ['Default']\n",
        "        results_list = []\n",
        "        results_list.append(reader.readtext(img, detail=0))\n",
        "\n",
        "        # Находим текст с предобработкой\n",
        "        for preform_name, preform in preform_dict.items():\n",
        "            names_list.append(preform_name)\n",
        "            results_list.append(reader.readtext(preform(img), detail=0))\n",
        "\n",
        "        df = pd.DataFrame(results_list, index=names_list)\n",
        "        df = df.T\n",
        "        display_html(df.head(25).to_html(), raw=True)\n",
        "\n",
        "        for name, res in zip(names_list, results_list):\n",
        "            print_result_string(res, name)\n",
        "\n",
        "    print()"
      ]
    },
    {
      "cell_type": "markdown",
      "metadata": {
        "id": "H-PrClQAaVzR"
      },
      "source": [
        "#### **плохая печать**"
      ]
    },
    {
      "cell_type": "code",
      "execution_count": null,
      "metadata": {
        "colab": {
          "base_uri": "https://localhost:8080/"
        },
        "id": "sYNlWGe9aVzX",
        "outputId": "67b3b640-5924-4178-d216-f9c8660cdf2a"
      },
      "outputs": [],
      "source": [
        "category = 'плохая печать'\n",
        "test_num = 30\n",
        "\n",
        "cat_len = len(filepaths_dict[category][:test_num])\n",
        "for i, filepath in enumerate(filepaths_dict[category][:test_num]):\n",
        "    print('Файл:', filepath[-8:], f'({i+1}/{cat_len}) ({i})')\n",
        "    with timex():\n",
        "        img = cv2.imread(filepath)\n",
        "        print_img(img, filepath, figsize=(12, 8))\n",
        "        img = cv2.cvtColor(img, cv2.COLOR_BGR2GRAY)\n",
        "\n",
        "        # Находим текст без предобработки\n",
        "        names_list = ['Default']\n",
        "        results_list = []\n",
        "        results_list.append(reader.readtext(img, detail=0))\n",
        "\n",
        "        # Находим текст с предобработкой\n",
        "        for preform_name, preform in preform_dict.items():\n",
        "            names_list.append(preform_name)\n",
        "            results_list.append(reader.readtext(preform(img), detail=0))\n",
        "\n",
        "        df = pd.DataFrame(results_list, index=names_list)\n",
        "        df = df.T\n",
        "        display_html(df.head(25).to_html(), raw=True)\n",
        "\n",
        "        for name, res in zip(names_list, results_list):\n",
        "            print_result_string(res, name)\n",
        "\n",
        "    print()"
      ]
    },
    {
      "cell_type": "markdown",
      "metadata": {
        "id": "Sk9rcTskbJJZ"
      },
      "source": [
        "#### **точечный текст**"
      ]
    },
    {
      "cell_type": "code",
      "execution_count": null,
      "metadata": {
        "colab": {
          "base_uri": "https://localhost:8080/"
        },
        "id": "DARhjpM2bJJf",
        "outputId": "0b9279fc-d828-48c4-ab4e-45d9e5c875fb"
      },
      "outputs": [],
      "source": [
        "category = 'точечный текст'\n",
        "test_num = 30\n",
        "\n",
        "cat_len = len(filepaths_dict[category][:test_num])\n",
        "for i, filepath in enumerate(filepaths_dict[category][:test_num]):\n",
        "    print('Файл:', filepath[-8:], f'({i+1}/{cat_len}) ({i})')\n",
        "    with timex():\n",
        "        img = cv2.imread(filepath)\n",
        "        print_img(img, filepath, figsize=(12, 8))\n",
        "        img = cv2.cvtColor(img, cv2.COLOR_BGR2GRAY)\n",
        "\n",
        "        # Находим текст без предобработки\n",
        "        names_list = ['Default']\n",
        "        results_list = []\n",
        "        results_list.append(reader.readtext(img, detail=0))\n",
        "\n",
        "        # Находим текст с предобработкой\n",
        "        for preform_name, preform in preform_dict.items():\n",
        "            names_list.append(preform_name)\n",
        "            results_list.append(reader.readtext(preform(img), detail=0))\n",
        "\n",
        "        df = pd.DataFrame(results_list, index=names_list)\n",
        "        df = df.T\n",
        "        display_html(df.head(25).to_html(), raw=True)\n",
        "\n",
        "        for name, res in zip(names_list, results_list):\n",
        "            print_result_string(res, name)\n",
        "\n",
        "    print()"
      ]
    },
    {
      "cell_type": "markdown",
      "metadata": {
        "id": "vTur37mMbS2B"
      },
      "source": [
        "#### **грязь**"
      ]
    },
    {
      "cell_type": "code",
      "execution_count": null,
      "metadata": {
        "colab": {
          "base_uri": "https://localhost:8080/",
          "height": 1000
        },
        "id": "lZTMtfq9bS2G",
        "outputId": "a3a7dc06-dde3-41f2-8d6d-dc998653eafe"
      },
      "outputs": [],
      "source": [
        "category = 'грязь'\n",
        "test_num = 30\n",
        "\n",
        "cat_len = len(filepaths_dict[category][:test_num])\n",
        "for i, filepath in enumerate(filepaths_dict[category][:test_num]):\n",
        "    print('Файл:', filepath[-8:], f'({i+1}/{cat_len}) ({i})')\n",
        "    with timex():\n",
        "        img = cv2.imread(filepath)\n",
        "        print_img(img, filepath, figsize=(12, 8))\n",
        "        img = cv2.cvtColor(img, cv2.COLOR_BGR2GRAY)\n",
        "\n",
        "        # Находим текст без предобработки\n",
        "        names_list = ['Default']\n",
        "        results_list = []\n",
        "        results_list.append(reader.readtext(img, detail=0))\n",
        "\n",
        "        # Находим текст с предобработкой\n",
        "        for preform_name, preform in preform_dict.items():\n",
        "            names_list.append(preform_name)\n",
        "            results_list.append(reader.readtext(preform(img), detail=0))\n",
        "\n",
        "        df = pd.DataFrame(results_list, index=names_list)\n",
        "        df = df.T\n",
        "        display_html(df.head(25).to_html(), raw=True)\n",
        "\n",
        "        for name, res in zip(names_list, results_list):\n",
        "            print_result_string(res, name)\n",
        "\n",
        "    print()"
      ]
    },
    {
      "cell_type": "markdown",
      "metadata": {
        "id": "V_aT5kBqbZED"
      },
      "source": [
        "#### **нестандартное форматирование текста**"
      ]
    },
    {
      "cell_type": "code",
      "execution_count": null,
      "metadata": {
        "colab": {
          "base_uri": "https://localhost:8080/",
          "height": 1000
        },
        "id": "gKSHyYlrbZED",
        "outputId": "b4699a68-8c5d-469c-9b13-c26643550f87"
      },
      "outputs": [],
      "source": [
        "category = 'нестандартное форматирование текста'\n",
        "test_num = 10\n",
        "\n",
        "cat_len = len(filepaths_dict[category][:test_num])\n",
        "for i, filepath in enumerate(filepaths_dict[category][:test_num]):\n",
        "    print('Файл:', filepath[-8:], f'({i+1}/{cat_len}) ({i})')\n",
        "    with timex():\n",
        "        img = cv2.imread(filepath)\n",
        "        print_img(img, filepath, figsize=(12, 8))\n",
        "        img = cv2.cvtColor(img, cv2.COLOR_BGR2GRAY)\n",
        "\n",
        "        # Находим текст без предобработки\n",
        "        names_list = ['Default']\n",
        "        results_list = []\n",
        "        results_list.append(reader.readtext(img, detail=0))\n",
        "\n",
        "        # Находим текст с предобработкой\n",
        "        for preform_name, preform in preform_dict.items():\n",
        "            names_list.append(preform_name)\n",
        "            results_list.append(reader.readtext(preform(img), detail=0))\n",
        "\n",
        "        df = pd.DataFrame(results_list, index=names_list)\n",
        "        df = df.T\n",
        "        display_html(df.head(25).to_html(), raw=True)\n",
        "\n",
        "        for name, res in zip(names_list, results_list):\n",
        "            print_result_string(res, name)\n",
        "\n",
        "    print()"
      ]
    },
    {
      "cell_type": "markdown",
      "metadata": {
        "id": "qSGP_F47bYZs"
      },
      "source": [
        "#### **нестандартный контраст**"
      ]
    },
    {
      "cell_type": "code",
      "execution_count": null,
      "metadata": {
        "colab": {
          "base_uri": "https://localhost:8080/",
          "height": 1000
        },
        "id": "OCE9_T0EbYZx",
        "outputId": "a5850f36-bd8e-48b3-b2de-7c74651d192b"
      },
      "outputs": [],
      "source": [
        "category = 'нестандартный контраст'\n",
        "test_num = 10\n",
        "\n",
        "cat_len = len(filepaths_dict[category][:test_num])\n",
        "for i, filepath in enumerate(filepaths_dict[category][:test_num]):\n",
        "    print('Файл:', filepath[-8:], f'({i+1}/{cat_len}) ({i})')\n",
        "    with timex():\n",
        "        img = cv2.imread(filepath)\n",
        "        print_img(img, filepath, figsize=(12, 8))\n",
        "        img = cv2.cvtColor(img, cv2.COLOR_BGR2GRAY)\n",
        "\n",
        "        # Находим текст без предобработки\n",
        "        names_list = ['Default']\n",
        "        results_list = []\n",
        "        results_list.append(reader.readtext(img, detail=0))\n",
        "\n",
        "        # Находим текст с предобработкой\n",
        "        for preform_name, preform in preform_dict.items():\n",
        "            names_list.append(preform_name)\n",
        "            results_list.append(reader.readtext(preform(img), detail=0))\n",
        "\n",
        "        df = pd.DataFrame(results_list, index=names_list)\n",
        "        df = df.T\n",
        "        display_html(df.head(25).to_html(), raw=True)\n",
        "\n",
        "        for name, res in zip(names_list, results_list):\n",
        "            print_result_string(res, name)\n",
        "\n",
        "    print()"
      ]
    },
    {
      "cell_type": "markdown",
      "metadata": {
        "id": "TdHcUjGuHJGu"
      },
      "source": [
        "# **Выборки**"
      ]
    },
    {
      "cell_type": "code",
      "execution_count": null,
      "metadata": {
        "id": "8-O52IDoHLdo"
      },
      "outputs": [],
      "source": [
        "filenums_dict = {'искажение по вертикали': [1654, 1666, 1931, 2089, 2228, 2384, 2408, 2481, 2602, 2759, 2825, 2888, 2938, 2972, 2981, 3038, 3069, 3093, 3167, 3198, 3230, 3243, 3307, 3337, 3339, 3360, 3441, 3445, 3448, 3456, 3466, 3475, 3485, 3493, 3494, 3511, 3530, 3531, 3542, 3709, 3710, 3729, 3780, 4210, 4212, 4240, 4241, 4242, 4243, 4261, 4264, 4280, 4281, 4293, 4304, 4313, 4328, 4325, 4322, 4331, 4343, 4347, 4353, 4354, 4359, 4363, 4373],\n",
        "                 'плохая печать': [88, 115, 148, 205, 259, 297, 316, 344, 480, 487, 511, 591, 741, 751, 811, 928, 990, 999, 1080, 1106, 1107, 1118, 1225, 1248, 1306, 1395, 1585, 1753, 1910, 1915, 1929, 1974, 1991, 2022, 2044, 2050, 2167, 2218, 2223, 2252, 2295, 2308, 2314, 2377, 2379, 2404, 2422, 2427, 2445, 2453, 2478, 2519, 2738, 2746, 2794, 2861, 2889, 3176, 3187, 3226, 3229, 3258, 3289, 3297, 3314, 3357, 3433, 3567, 3635, 3659, 3684, 3703, 3713, 3748, 3776, 3829, 3853, 3854, 4027, 4041, 4051, 4121, 4159, 4170, 4249, 4257, 4327, 4303, 4286, 4284, 4336, 4368, 4488, 4487, 4614, 4655, 4769, 4768, 4689, 4910, 4912, 4979, 4990, 5094, 5066, 5257, 5212, 5261, 5391, 5320, 5500, 5539, 5541, 5544, 5555, 5590, 5581, 5557, 5640, 5654, 5656, 5667, 5663, 5683, 5688, 5736, 5759, 5827, 5927, 5930],\n",
        "                 'точечный текст': [100, 122, 134, 153, 155, 162, 167, 176, 186, 188, 215, 226, 271, 326, 331, 344, 377, 404, 424, 426, 427, 459, 462, 468, 469, 485, 503, 516, 537, 565, 569, 584, 586, 591, 600, 656, 666, 785, 789, 805, 852, 894, 949, 960, 974, 990, 1025, 1027, 1042, 1093, 1106, 1110, 1118, 1151, 1234, 1238, 1248, 1280, 1350, 1359, 1379, 1408, 1548, 1550, 1568, 1585, 1608, 1655, 1661, 1705, 1782, 1826, 1831, 1881, 1922, 1973, 2026, 2054, 2074, 2083, 2114, 2131, 2141, 2164, 2182, 2207, 2223, 2227, 2246, 2302, 2306, 2323, 2352, 2357, 2358, 2379, 2395, 2436, 2443, 2451, 2477, 2481, 2496, 2529, 2530, 2556, 2563, 2580, 2616, 2700, 2701, 2711, 2742, 2780, 2781, 2842, 2888, 2978, 3095, 3097, 3191, 3252, 3276, 3290, 3303, 3342, 3346, 3391, 3404, 3416, 3417, 3418, 3507, 3514, 3543, 3544, 3567, 3578, 3582, 3641, 3654, 3668, 3669, 3706, 3713, 3715, 3721, 3752, 3758, 3773, 3783, 3801, 3825, 3881, 3911, 3914, 3932, 3943, 3956, 4112, 4156, 4158, 4205, 4211, 4215, 4286, 4303, 4337, 4366, 4368, 4376, 4413, 4414, 4431, 4439, 4471, 4494, 4552, 4626, 4662, 4742, 4907, 5098, 5099, 5102, 5301, 5302, 5303, 5404, 5411, 5442, 5529, 5531],\n",
        "                 'не белый фон': [3391, 3886, 5521, 5587, 5597, 5627, 5657, 5659, 5662, 5671, 5672, 5687, 5688, 5690, 5695, 5699, 5707, 5709, 5712, 5716, 5732, 5735, 5737, 5744, 5746, 5747, 5748, 5749, 5750, 5752, 5753, 5754, 5757, 5762, 5765, 5767, 5769, 5774, 5775, 5777, 5783, 5784, 5789, 5793, 5794, 5795, 5796, 5801, 5802, 5804, 5807, 5811, 5814, 5815, 5822, 5823, 5830, 5846, 5888, 5945, 5947, 5954, 5957, 5958, 5959, 5962, 5963, 5964, 5965, 5966, 5972, 5973, 5974, 5975, 5977, 5978, 5979],\n",
        "                 'грязь': [4, 59, 61, 65, 67, 78, 79, 83, 93, 98, 105, 110, 120, 152, 171, 282, 329, 350, 413, 695, 1477, 1546, 1608, 1691, 1795, 1805, 1844, 1869, 1894, 1907, 2085, 2122, 2105, 2156, 2161, 2183, 2162, 2213, 2322, 2341, 2405, 2406, 2412, 2429, 2443, 2498, 2514, 2541, 2586, 2595, 2600, 2618, 2623, 2638, 2640, 2645, 2651, 2656, 2657, 2695, 2715, 2718, 2731, 2733, 2737, 2745, 2781, 2782, 2800, 2823, 2906, 3074, 3103, 3115, 3173, 3286, 3318, 3319, 3320, 3330, 3331, 3336, 3338, 3350, 3356, 3431, 3451, 3548, 3602, 3617, 3698, 3730, 3775, 3803, 3879, 3888, 3886, 3906, 3913, 3915, 3937, 3943, 3954, 3947, 4006, 4011, 4041, 4029, 4028, 4060, 4057, 4055, 4064, 4068, 4085, 4093, 4096, 4104, 4118, 4115, 4121, 4130, 4139, 4134, 4131, 4145, 4166, 4180, 4188, 4189, 4192, 4200, 4195, 4219, 4220, 4222, 4233, 4247, 4268, 4258, 4285, 4367, 4398, 4402, 4427, 4442, 4449, 4476, 4475, 4461, 4477, 4508, 4490, 4530, 4534, 4547, 4608, 4595, 4590, 4650, 4663, 4730, 4747, 4748, 4749, 4776, 4782, 4795, 4807, 4839, 4912, 4910, 4937, 4989, 4967, 5048, 5031, 5099, 5103, 5173, 5171, 5205, 5207, 5229, 5255, 5264, 5277, 5319, 5307, 5340, 5352, 5368, 5367, 5378, 5384, 5398, 5402, 5403, 5419, 5432, 5441, 5442, 5449, 5453, 5459, 5460, 5506, 5496, 5518, 5519, 5521, 5532, 5541, 5543, 5544, 5548, 5546, 5555, 5556, 5560, 5569, 5587, 5584, 5579, 5597, 5608, 5612, 5633, 5623, 5635, 5645, 5657, 5656, 5648, 5659, 5661, 5662, 5668, 5671, 5672, 5675, 5677, 5690, 5688, 5686, 5681, 5696, 5699, 5702, 5712, 5709, 5707, 5730, 5734, 5732, 5739, 5737, 5736, 5735, 5755, 5768, 5777, 5799, 5807, 5810, 5818, 5823, 5827, 5831, 5840, 5839, 5855, 5878, 5970, 5965, 5974],\n",
        "                 'нестандартное форматирование текста': [87, 94, 148, 164, 178, 200, 201, 205, 214, 231, 237, 245, 251, 252, 259, 272, 330, 328, 310, 309, 390, 392, 603, 461, 456, 621, 679, 716, 743, 853, 953, 969, 1016, 1053, 1184, 1205, 1223, 1232, 1268, 1344, 1334, 1423, 1514, 1531, 1519, 1587, 1711, 1697, 1674, 1745, 1897, 1987, 1986, 2191, 2230, 2231, 2258, 2340, 2412, 2405, 2429, 2542, 2683, 2583, 2750, 2910, 2916, 3012, 3026, 3083, 3066, 3145, 3156, 3165, 3232, 3197, 3182, 3292, 3521, 3571, 3568, 3597, 3793, 3922, 3876, 3929, 3935, 4030, 4022, 4021, 4015, 4320, 4555, 4730, 4649, 5227, 5466, 5703, 5813, 5821],\n",
        "                 'нестандартный контраст': [86, 94, 99, 115, 134, 148, 153, 155, 162, 164, 167, 173, 178, 186, 188, 201, 205, 237, 245, 252, 259, 267, 271, 272, 276, 277, 297, 298, 316, 326, 331, 344, 377, 392, 395, 404, 424, 426, 427, 446, 459, 468, 469, 480, 487, 498, 503, 537, 565, 569, 576, 579, 584, 585, 586, 587, 591, 600, 656, 666, 689, 703, 709, 741, 751, 753, 782, 785, 789, 805, 811, 812, 840, 852, 858, 877, 887, 894, 919, 949],\n",
        "                 'без ошибок': [1, 2, 3, 5, 6, 7, 8, 9, 10, 11, 12, 13, 14, 15, 16, 17, 18, 20, 21, 22, 23, 24, 27, 28, 29, 30, 31, 36, 38, 43, 44, 45, 46, 47, 48, 51, 53, 54, 55, 57, 62, 63, 64, 66, 69, 72, 73, 76, 81, 84, 85, 89, 92, 95, 96, 97, 106, 111, 116, 117, 119, 124, 125, 126, 127, 128, 129, 130, 131, 132, 135, 136, 137, 139, 140, 141, 143, 144, 145, 146, 147, 149, 154, 156, 157, 158, 160, 161, 163, 165, 166, 168, 169, 170, 172, 174, 177, 179, 183, 185,]}"
      ]
    },
    {
      "cell_type": "code",
      "execution_count": null,
      "metadata": {
        "colab": {
          "base_uri": "https://localhost:8080/"
        },
        "id": "tboXUqj6HeYN",
        "outputId": "9a35b044-c637-4324-cc94-d96754d48135"
      },
      "outputs": [],
      "source": [
        "for i, j in filenums_dict.items():\n",
        "    print('{:3} - {}'.format(len(j), i))"
      ]
    },
    {
      "cell_type": "code",
      "execution_count": null,
      "metadata": {
        "colab": {
          "base_uri": "https://localhost:8080/"
        },
        "id": "Ac1hKjWAHQF3",
        "outputId": "d3789be2-b318-4812-9e41-989f25422744"
      },
      "outputs": [],
      "source": [
        "def get_img_path(base_path, filename):\n",
        "    x = int(filename[:-4])\n",
        "    lower_bound = (x // 100) * 100\n",
        "    upper_bound = lower_bound + 100\n",
        "    return base_path + f'{lower_bound}-{upper_bound}/' + filename\n",
        "\n",
        "\n",
        "# Путь к папке с файлами на google диске\n",
        "base_path = '/content/drive/MyDrive/ClearedReshapedBase/'\n",
        "\n",
        "filenums_dict_2 = {i: [get_img_path(base_path, '{:04}.png'.format(\n",
        "    k)) for k in j] for i, j in filenums_dict.items()}\n",
        "filenums_dict_2"
      ]
    }
  ],
  "metadata": {
    "accelerator": "GPU",
    "colab": {
      "collapsed_sections": [
        "LU40Y-VtEOXn",
        "RogvBHkgJf24",
        "DUY1CalL3ncH",
        "8P_7fAMQACkG",
        "j5gky-1FsAST",
        "LpsdV9HFZ9EZ",
        "KATtdZ2vwPcm",
        "BvzkE1OXZFU0",
        "72AxEa9uZxLq",
        "H-PrClQAaVzR",
        "Sk9rcTskbJJZ",
        "vTur37mMbS2B",
        "V_aT5kBqbZED",
        "qSGP_F47bYZs",
        "TdHcUjGuHJGu"
      ],
      "gpuType": "T4",
      "provenance": []
    },
    "kernelspec": {
      "display_name": "Python 3",
      "name": "python3"
    },
    "language_info": {
      "name": "python"
    }
  },
  "nbformat": 4,
  "nbformat_minor": 0
}
