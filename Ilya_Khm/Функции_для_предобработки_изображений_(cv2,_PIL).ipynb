{
  "nbformat": 4,
  "nbformat_minor": 0,
  "metadata": {
    "colab": {
      "provenance": [],
      "collapsed_sections": [
        "LU40Y-VtEOXn",
        "RogvBHkgJf24",
        "djFU4hsjOPjD",
        "fo9OxS55Og_J",
        "rrkKdV4sOnWn",
        "ZXgvJKgnPQJr",
        "1iHuQtqMdNdr",
        "p8tbADz_rdU2",
        "A21F-53wsqid",
        "U8KlQq8YzNat",
        "7ntmCGWgti0n",
        "YsXiEqtKtm2z",
        "MwZO07L8w__M",
        "NVce222sx8kI",
        "gjhpfL3Z0PZs",
        "N7o_kvhE0UmG",
        "8XxXV3YetpT4",
        "z-J4Rm3enDnz",
        "KWLmis_CUyvB",
        "-NqVAjqANvLT",
        "h9rotVlENvLa",
        "LrJ-bGLzNvLa",
        "LGJez6CNNvLb",
        "2Q2COpBJTTGE",
        "F_QVwHhDTTGK",
        "ZnKQvO8wTTGL",
        "l7noMOp9TTGL",
        "tXU_UIeYVfaK",
        "6qVuHCxkVjCE",
        "bbQowNqtYJHg",
        "hXY4ie1nYJHh",
        "EBnKvbZ1YJHh",
        "AqsOfjeWYJHi",
        "u-Gb6c2oFJ0i",
        "RHN4UwbiFJ0j",
        "BOcbyRS9LJFo",
        "nM_vq34XJD1w",
        "I-OlCX4PIX5_",
        "qCiNKMw-LpPO",
        "7vHOnWLBLpPU",
        "A0y1dG6ALpPU",
        "it17lZVdLpPU",
        "UAZ9ni_OLpPV",
        "-FN7-MxL-bGl",
        "Hdtyllf7B1dh",
        "6O211f0SECSL",
        "jJ5YdLxwEaTa",
        "-uYSuyvLFQFT",
        "C0WSyj_Z3y0B",
        "EsvAjN_D5v0N",
        "z5YRNNKd7ajW",
        "8lASnIXW71Tm",
        "mlFDCq_R9FrR",
        "4787jnML8DDT",
        "-8sw90cwfAee"
      ]
    },
    "kernelspec": {
      "name": "python3",
      "display_name": "Python 3"
    },
    "language_info": {
      "name": "python"
    }
  },
  "cells": [
    {
      "cell_type": "markdown",
      "metadata": {
        "id": "LU40Y-VtEOXn"
      },
      "source": [
        "# *Импорт библиотек*"
      ]
    },
    {
      "cell_type": "code",
      "source": [
        "import gdown\n",
        "import matplotlib.pyplot as plt # Импортируем модуль pyplot библиотеки matplotlib для построения графиков\n",
        "%matplotlib inline\n",
        "import seaborn as sns\n",
        "plt.style.use('seaborn-white')\n",
        "sns.set_context('notebook', rc={'figure.figsize': (10, 8)}, font_scale=1.5)\n",
        "\n",
        "import numpy as np # Импортируем библиотеку numpy\n",
        "import pandas as pd\n",
        "\n",
        "import time\n",
        "import random\n",
        "import math\n",
        "\n",
        "import cv2\n",
        "from google.colab.patches import cv2_imshow\n",
        "from PIL import Image, ImageFile, ImageEnhance, ImageFilter\n",
        "ImageFile.LOAD_TRUNCATED_IMAGES = True"
      ],
      "metadata": {
        "id": "7BZRphNDBdAf"
      },
      "execution_count": null,
      "outputs": []
    },
    {
      "cell_type": "code",
      "execution_count": null,
      "metadata": {
        "id": "vpahpmBOEIaE"
      },
      "outputs": [],
      "source": [
        "from google.colab import drive # Подключаем гугл-диск\n",
        "drive.mount('/content/drive')"
      ]
    },
    {
      "cell_type": "code",
      "execution_count": null,
      "metadata": {
        "id": "veFRKBEhutK7"
      },
      "outputs": [],
      "source": [
        "# Контекстный менеджер для измерения времени операций\n",
        "# Операция обертывается менеджером с помощью оператора with\n",
        "class timex:\n",
        "    def __enter__(self):\n",
        "        # Фиксация времени старта процесса\n",
        "        self.t = time.time()\n",
        "        return self\n",
        "\n",
        "    def __exit__(self, type, value, traceback):\n",
        "        # Вывод времени работы\n",
        "        # print('Время обработки: {:.2f} с'.format(time.time() - self.t))\n",
        "        seconds_total = time.time() - self.t\n",
        "        minutes = int(seconds_total // 60)\n",
        "        seconds = (seconds_total % 60) + (seconds_total - math.floor(seconds_total))\n",
        "        print('Время обработки: {} мин {:.2f} c'.format(minutes, seconds))\n",
        "\n",
        "with timex():\n",
        "    print()"
      ]
    },
    {
      "cell_type": "markdown",
      "source": [
        "# Загрузка датафрейма для загрузки проверочных файлов и функции"
      ],
      "metadata": {
        "id": "RogvBHkgJf24"
      }
    },
    {
      "cell_type": "code",
      "source": [
        "# Загрузка\n",
        "gdown.download(f\"https://drive.google.com/uc?id=1MvgckI85Uk2z-Q-HnQ7GXhacPZpKxGpF\", 'df_info_new_ru.csv')\n",
        "df = pd.read_csv('/content/df_info_new_ru.csv')"
      ],
      "metadata": {
        "id": "3pYJ8wyAMhZu"
      },
      "execution_count": null,
      "outputs": []
    },
    {
      "cell_type": "code",
      "source": [
        "df.columns"
      ],
      "metadata": {
        "id": "RQNKxTTWJxFJ"
      },
      "execution_count": null,
      "outputs": []
    },
    {
      "cell_type": "code",
      "source": [
        "df = df.sort_values(by='индекс файла')"
      ],
      "metadata": {
        "id": "AVq2SP7uNA1Q"
      },
      "execution_count": null,
      "outputs": []
    },
    {
      "cell_type": "code",
      "source": [
        "print(*df[df['проверка таблиц'] == 1].filename_new[:10], sep='\\n')"
      ],
      "metadata": {
        "id": "UqblNg_fMefr"
      },
      "execution_count": null,
      "outputs": []
    },
    {
      "cell_type": "code",
      "source": [
        "def get_img_path(base_path, filename):\n",
        "    x = int(filename[:-4])\n",
        "    lower_bound = (x // 100) * 100\n",
        "    upper_bound = lower_bound + 100\n",
        "    return base_path + f'{lower_bound}-{upper_bound}/' + filename\n",
        "\n",
        "# Проверка\n",
        "base_path = '/content/drive/MyDrive/ClearedReshapedBase/'\n",
        "x_values = ['0001.png', '0019.png', '0100.png', '0654.png', '1119.png']\n",
        "\n",
        "for x in x_values:\n",
        "    y = get_img_path(base_path, x)\n",
        "    print(y)"
      ],
      "metadata": {
        "id": "F26cUXCUL9EA"
      },
      "execution_count": null,
      "outputs": []
    },
    {
      "cell_type": "code",
      "source": [
        "base_path = '/content/drive/MyDrive/ClearedReshapedBase/'\n",
        "test_filepaths = [get_img_path(base_path, i) for i in df.loc[(df['искажение документа'] == 1) & (df['искажение текста'] == 1)]['filename_new']]"
      ],
      "metadata": {
        "id": "67bUQEFh6cI4"
      },
      "execution_count": null,
      "outputs": []
    },
    {
      "cell_type": "code",
      "source": [
        "# Составляем выборки файлов для проверки таблиц\n",
        "base_path = '/content/drive/MyDrive/ClearedReshapedBase/'\n",
        "target_cols =  ['проверка таблиц', 'нестандартный контраст', 'нестандартная верхняя таблица', 'нестандартная нижняя таблица',\n",
        "                'обрезанный текст', 'обрезанные границы таблиц', 'не белый фон', 'точечный текст', 'нестандартное форматирование текста',\n",
        "                'плохая печать', 'искажение текста', 'искажение документа', '2 документа','2 банка в верхней таблице', 'грязь']\n",
        "\n",
        "sample_dict = {col_name:[get_img_path(base_path, i) for i in list(df[df[col_name] == 1].filename_new)] for col_name in target_cols}\n",
        "\n",
        "# Добавляем выборку без ошибок\n",
        "rows_with_zeros = df[(df[df.columns[20:]] == 0).all(axis=1)]\n",
        "filtered_df = df.loc[rows_with_zeros.index]\n",
        "sample_dict['без ошибок'] = [get_img_path(base_path, f'{i:04}.png') for i in list(filtered_df['индекс файла'])[:100]]"
      ],
      "metadata": {
        "id": "d2h5FtDD63UZ"
      },
      "execution_count": null,
      "outputs": []
    },
    {
      "cell_type": "code",
      "source": [
        "def print_img(image_path, figsize=(12,8), title=None):\n",
        "    plt.rcParams['figure.facecolor'] = 'lightgray'\n",
        "    img = Image.open(image_path)\n",
        "    img = img.convert('RGB')\n",
        "\n",
        "    # Отображение изображения с помощью Matplotlib\n",
        "    plt.figure(figsize=figsize)\n",
        "    plt.imshow(img)\n",
        "    if title == None:\n",
        "        plt.title(image_path[-8:])  # Установка заголовка из названия файла\n",
        "    else:\n",
        "        plt.title(title)  # Установка заголовка из названия файла\n",
        "    plt.axis('off')  # Убрать оси координат\n",
        "    plt.show()"
      ],
      "metadata": {
        "id": "ZsUm9Qf75mak"
      },
      "execution_count": null,
      "outputs": []
    },
    {
      "cell_type": "code",
      "source": [
        "for key, val in sample_dict.items():\n",
        "    print(len(val),  '-', key)"
      ],
      "metadata": {
        "id": "IGYVWmO_Jr78"
      },
      "execution_count": null,
      "outputs": []
    },
    {
      "cell_type": "code",
      "source": [
        "def print_img(img, figsize=(12,8), title='File'):\n",
        "    # Отображение изображения с помощью Matplotlib\n",
        "    plt.rcParams['figure.facecolor'] = 'lightgray'\n",
        "    plt.figure(figsize=figsize)\n",
        "    plt.imshow(img)\n",
        "    plt.title(title)  # Установка заголовка из названия файла\n",
        "    plt.axis('off')  # Убрать оси координат\n",
        "    plt.show()"
      ],
      "metadata": {
        "id": "pPqOtGsopO6r"
      },
      "execution_count": null,
      "outputs": []
    },
    {
      "cell_type": "markdown",
      "source": [
        "# **PIL (ImageEnhance)**\n",
        "> Функции из модуля ImageEnhance.\n",
        "* Contrast (контраст)\n",
        "* Brightness (яркость)\n",
        "* Sharpness (резкость)"
      ],
      "metadata": {
        "id": "djFU4hsjOPjD"
      }
    },
    {
      "cell_type": "markdown",
      "source": [
        "### *Из документации*"
      ],
      "metadata": {
        "id": "fo9OxS55Og_J"
      }
    },
    {
      "cell_type": "markdown",
      "source": [
        "**PIL.ImageEnhance.Sharpness(Image)**\n",
        "\n",
        "This class can be used to adjust the sharpness of an image. An enhancement factor of 0.0 gives a blurred image, a factor of 1.0 gives the original image, and a factor of 2.0 gives a sharpened image."
      ],
      "metadata": {
        "id": "bXB54iFiIyXO"
      }
    },
    {
      "cell_type": "markdown",
      "source": [
        "**PIL.ImageEnhance.Brightness(Image)**\n",
        "\n",
        "This class can be used to control the brightness of an image. An enhancement factor of 0.0 gives a black image, a factor of 1.0 gives the original image, and greater values increase the brightness of the image."
      ],
      "metadata": {
        "id": "AZueP8qyItHN"
      }
    },
    {
      "cell_type": "markdown",
      "source": [
        "**PIL.ImageEnhance.Contrast(Image)**\n",
        "\n",
        "This class can be used to control the contrast of an image, similar to the contrast control on a TV set. An enhancement factor of 0.0 gives a solid grey image, a factor of 1.0 gives the original image, and greater values increase the contrast of the image."
      ],
      "metadata": {
        "id": "oe9Ec8s0IdtC"
      }
    },
    {
      "cell_type": "markdown",
      "source": [
        "### Тест разных значений\n",
        "> в документации не написано максимальное и минимальное возможное значение"
      ],
      "metadata": {
        "id": "rrkKdV4sOnWn"
      }
    },
    {
      "cell_type": "code",
      "source": [
        "def display_images_in_row(images, setting):\n",
        "    fig, axs = plt.subplots(1, len(images), figsize=(18, 9))  # Создаем график с нужным количеством подграфиков в одном ряду\n",
        "\n",
        "    for i, img in enumerate(images):\n",
        "        axs[i].imshow(img)  # Отображаем изображение на соответствующем подграфике\n",
        "        axs[i].axis('off')  # Убираем оси координат\n",
        "        setting_name = ['Sharpness', 'Brightness', 'Contrast'][i]\n",
        "        axs[i].set_title(f\"{setting_name} - {setting}\")  # Устанавливаем заголовок для каждого изображения\n",
        "\n",
        "    plt.tight_layout()  # Для улучшения отображения графика\n",
        "    plt.show()"
      ],
      "metadata": {
        "id": "fXHrzYi5Kdc6"
      },
      "execution_count": null,
      "outputs": []
    },
    {
      "cell_type": "code",
      "source": [
        "img_tmp = Image.open(sample_dict['без ошибок'][0]).convert('RGB')\n",
        "\n",
        "img_lists = []\n",
        "settings_list = [-1000, -500, -250,\n",
        "                 -100, -50, -25, -10,\n",
        "                 -5, -2.5, -2, -1.5,\n",
        "                 -1, -0.75, -0.5, -0.25, -0.1,\n",
        "                 0, 0.1, 0.25, 0.5, 0.75, 1,\n",
        "                 1.25, 1.5, 1.75, 2, 2.5,\n",
        "                 3, 5, 10, 25, 50, 100, 200,\n",
        "                 500, 1000, 5000, 10000, 100000]\n",
        "\n",
        "for factor in settings_list:\n",
        "    img_list = []\n",
        "    img_list.append(ImageEnhance.Sharpness(img_tmp).enhance(factor))\n",
        "    img_list.append(ImageEnhance.Brightness(img_tmp).enhance(factor))\n",
        "    img_list.append(ImageEnhance.Contrast(img_tmp).enhance(factor))\n",
        "    img_lists.append(img_list)"
      ],
      "metadata": {
        "id": "PoPo_pisG7kY"
      },
      "execution_count": null,
      "outputs": []
    },
    {
      "cell_type": "code",
      "source": [
        "for i, sl in enumerate(settings_list):\n",
        "    display_images_in_row(img_lists[i], sl)"
      ],
      "metadata": {
        "id": "l08z9grrLmuS"
      },
      "execution_count": null,
      "outputs": []
    },
    {
      "cell_type": "markdown",
      "source": [
        "## **Настройки для функций по результатам тестирования**"
      ],
      "metadata": {
        "id": "ZXgvJKgnPQJr"
      }
    },
    {
      "cell_type": "markdown",
      "source": [
        "**Sharpness:**\n",
        "* Значение 1 - не производит изменения.\n",
        "* В негативных числах - работает и немного загрязняет изображение\n",
        "* В положительных числах - повышает чёткость изображения\n",
        "\n",
        "**Brightness:**\n",
        "* Значение 1 - не производит изменения.\n",
        "* В негативных числах - не работает, выдаёт полностью чёрное изображение.\n",
        "* В положительных числах - повышает яркость изображения.\n",
        "\n",
        "**Contrast:**\n",
        "* Значение 1 - не производит изменения.\n",
        "* В негативных числах - постепенно инвертирует изображение.\n",
        "* В положительных числах - Увеличивает контраст изображений."
      ],
      "metadata": {
        "id": "_s-rS56rRCyN"
      }
    },
    {
      "cell_type": "code",
      "source": [
        "# Функции\n",
        "ImageEnhance.Sharpness(img).enhance(factor)\n",
        "ImageEnhance.Brightness(img).enhance(factor)\n",
        "ImageEnhance.Contrast(img).enhance(factor)\n",
        "\n",
        "# Примерный предел фактора, в котором происходят изменения изображения (больше или меньше ставить смысла нет)\n",
        "{'PIL_Sharpness':[-500,100],\n",
        " 'PIL_Brightness':[0,100],\n",
        " 'PIL_Contrast':[-100,5],}\n",
        "\n",
        "# Диапазон, где изображение не ухудшается значительно для тестирования\n",
        "{'PIL_Sharpness':[-10,100],\n",
        " 'PIL_Brightness':[0,100],\n",
        " 'PIL_Contrast':[0,5],}\n",
        "\n",
        "# Все float"
      ],
      "metadata": {
        "id": "40JdxGZtQYDo"
      },
      "execution_count": null,
      "outputs": []
    },
    {
      "cell_type": "markdown",
      "source": [
        "# **PIL (ImageFilter)**\n",
        "> Фильтры для изображений из модуля ImageFilter.\n",
        "\n",
        "> Простые фильтры:\n",
        "* BLUR (размытие)\n",
        "* DETAIL (детализация)\n",
        "* EDGE_ENHANCE (четкость границ)\n",
        "* EDGE_ENHANCE_MORE (улучшенная четкость границ)\n",
        "* EMBOSS (тисненое изображение)\n",
        "* SHARPEN (улучшение резкости)\n",
        "* SMOOTH (сглаживание артефактов)\n",
        "* SMOOTH_MORE (улучшенное сглаживание артефактов)\n",
        "\n",
        "> Фильтры с настройками:\n",
        "* BoxBlur (Размытие)\n",
        "* GaussianBlur (Фильтр размытия по гауссу)\n",
        "* UnsharpMask (Фильтр нерезкой маски)\n",
        "\n"
      ],
      "metadata": {
        "id": "1iHuQtqMdNdr"
      }
    },
    {
      "cell_type": "markdown",
      "source": [
        "## ***Простые фильтры***"
      ],
      "metadata": {
        "id": "p8tbADz_rdU2"
      }
    },
    {
      "cell_type": "code",
      "source": [
        "# Список фильтров\n",
        "ImageFilter.BLUR\n",
        "ImageFilter.DETAIL\n",
        "ImageFilter.EDGE_ENHANCE\n",
        "ImageFilter.EDGE_ENHANCE_MORE\n",
        "ImageFilter.EMBOSS\n",
        "ImageFilter.SHARPEN\n",
        "ImageFilter.SMOOTH\n",
        "ImageFilter.SMOOTH_MORE\n",
        "\n",
        "# Нахождение контуров (можно попробовать использовать)\n",
        "ImageFilter.CONTOUR\n",
        "ImageFilter.FIND_EDGES"
      ],
      "metadata": {
        "id": "eWexFkvrrgLe"
      },
      "execution_count": null,
      "outputs": []
    },
    {
      "cell_type": "code",
      "source": [
        "# Использование\n",
        "img = Image.open(sample_dict['без ошибок'][0]).convert('RGB')\n",
        "filtered_img = img.filter(ImageFilter.EDGE_ENHANCE_MORE)            # Применение фильтра\n",
        "\n",
        "print_img(img, (20,15), title='Orig')\n",
        "print_img(filtered_img, (20,15), title='EDGE_ENHANCE_MORE')"
      ],
      "metadata": {
        "id": "iAS_Pg9drkUF"
      },
      "execution_count": null,
      "outputs": []
    },
    {
      "cell_type": "markdown",
      "source": [
        "## ***Фильтры с настройками***"
      ],
      "metadata": {
        "id": "A21F-53wsqid"
      }
    },
    {
      "cell_type": "markdown",
      "source": [
        "### Описание фильтров"
      ],
      "metadata": {
        "id": "U8KlQq8YzNat"
      }
    },
    {
      "cell_type": "markdown",
      "source": [
        "```\n",
        "ImageFilter.BoxBlur(radius)\n",
        "```\n",
        "\n",
        "Класс ImageFilter.BoxBlur() размывает изображение, устанавливая для каждого пикселя среднее значение пикселей в квадратном поле, расширяющем радиус пикселей в каждом направлении. Поддерживает плавающий радиус произвольного размера. Использует оптимизированную реализацию, которая выполняется за линейное время относительно размера изображения для любого значения радиуса.\n",
        "\n",
        "Аргумент radius - размер области в одном направлении. Радиус 0 не размывает и возвращает идентичное изображение. Радиус 1 занимает по 1 пикселю в каждом направлении, то есть всего 9 пикселей.\n",
        "\n",
        "---\n",
        "```\n",
        "ImageFilter.GaussianBlur(radius)\n",
        "```\n",
        "\n",
        "размывает изображение с помощью последовательности расширенных прямоугольных фильтров, которые приближаются к ядру Гаусса.\n",
        "\n",
        "Аргумент radius - стандартное отклонение ядра Гаусса.\n",
        "\n",
        "---\n",
        "```\n",
        "ImageFilter.UnsharpMask(radius, percent, threshold)\n",
        "```\n",
        "\n",
        "Класс ImageFilter.UnsharpMask() представляет собой фильтр нерезкой маски.\n",
        "\n",
        "Аргументы:\n",
        "\n",
        "* radius: Радиус размытия\n",
        "* percent: Нерезкая прочность, в процентах\n",
        "* threshold: Порог определяет минимальное изменение яркости, которое будет увеличено.\n",
        "\n",
        "\n"
      ],
      "metadata": {
        "id": "xEjbBFzNdPQ5"
      }
    },
    {
      "cell_type": "markdown",
      "source": [
        "### **Тесты настроек фильтров**"
      ],
      "metadata": {
        "id": "7ntmCGWgti0n"
      }
    },
    {
      "cell_type": "code",
      "source": [
        "def display_images_in_row(images, setting, setting_name='Unknown'):\n",
        "    fig, axs = plt.subplots(1, len(images), figsize=(6*len(images), 9))  # Создаем график с нужным количеством подграфиков в одном ряду\n",
        "\n",
        "    for i, img in enumerate(images):\n",
        "        axs[i].imshow(img)  # Отображаем изображение на соответствующем подграфике\n",
        "        axs[i].axis('off')  # Убираем оси координат\n",
        "        axs[i].set_title(f\"{setting_name} - {setting[i]}\")  # Устанавливаем заголовок для каждого изображения\n",
        "\n",
        "    plt.tight_layout()  # Для улучшения отображения графика\n",
        "    plt.show()"
      ],
      "metadata": {
        "id": "IjdAybggoD1J"
      },
      "execution_count": null,
      "outputs": []
    },
    {
      "cell_type": "markdown",
      "source": [
        "#### **BoxBlur**\n",
        "> Значение 0 - нет изменений (возвращает оригинальное изображение)"
      ],
      "metadata": {
        "id": "YsXiEqtKtm2z"
      }
    },
    {
      "cell_type": "code",
      "source": [
        "img_tmp = Image.open(sample_dict['без ошибок'][0]).convert('RGB')\n",
        "\n",
        "img_lists = [img_tmp]\n",
        "settings_list = ['orig',-1,-0.5,0,0.5,1,2,5,8,10,20,50,100]\n",
        "\n",
        "for s in settings_list[1:]:\n",
        "    img_lists.append(img_tmp.filter(ImageFilter.BoxBlur(s)))"
      ],
      "metadata": {
        "id": "BU-iXzPuoJLL"
      },
      "execution_count": null,
      "outputs": []
    },
    {
      "cell_type": "code",
      "source": [
        "display_images_in_row(img_lists, settings_list, 'BoxBlur')"
      ],
      "metadata": {
        "id": "muVz2c2HoLml"
      },
      "execution_count": null,
      "outputs": []
    },
    {
      "cell_type": "markdown",
      "source": [
        "#### **GaussianBlur**\n",
        "> Значение 0 - нет изменений (возвращает оригинальное изображение)"
      ],
      "metadata": {
        "id": "MwZO07L8w__M"
      }
    },
    {
      "cell_type": "code",
      "source": [
        "img_tmp = Image.open(sample_dict['без ошибок'][0]).convert('RGB')\n",
        "\n",
        "img_lists = [img_tmp]\n",
        "settings_list = ['orig',-1,-0.5,0,0.5,1,2,5,8,10,20,50,100]\n",
        "\n",
        "for s in settings_list[1:]:\n",
        "    img_lists.append(img_tmp.filter(ImageFilter.GaussianBlur(s)))"
      ],
      "metadata": {
        "id": "E7nt5nrPxGLA"
      },
      "execution_count": null,
      "outputs": []
    },
    {
      "cell_type": "code",
      "source": [
        "display_images_in_row(img_lists, settings_list, 'GaussianBlur')"
      ],
      "metadata": {
        "id": "YAvGNL4gxHDu"
      },
      "execution_count": null,
      "outputs": []
    },
    {
      "cell_type": "markdown",
      "source": [
        "#### **UnsharpMask**\n",
        "> Не видно работы метода"
      ],
      "metadata": {
        "id": "NVce222sx8kI"
      }
    },
    {
      "cell_type": "code",
      "source": [
        "# Можно изменить 3 параметра\n",
        "# Стандартные настройки\n",
        "ImageFilter.UnsharpMask(radius=2, percent=150, threshold=3)"
      ],
      "metadata": {
        "id": "RWkiznu8yOFf"
      },
      "execution_count": null,
      "outputs": []
    },
    {
      "cell_type": "markdown",
      "source": [
        "##### *Параметр radius*"
      ],
      "metadata": {
        "id": "LatYhA2Syen-"
      }
    },
    {
      "cell_type": "code",
      "source": [
        "img_tmp = Image.open(sample_dict['без ошибок'][0]).convert('RGB')\n",
        "\n",
        "img_lists = [img_tmp]\n",
        "settings_list = ['orig',-1,-0.5,0,0.5,1,2,5,8,10,20,50,100]\n",
        "\n",
        "for val in settings_list[1:]:\n",
        "    img_lists.append(img_tmp.filter(ImageFilter.UnsharpMask(radius=val, percent=150, threshold=3)))"
      ],
      "metadata": {
        "id": "iojWaL0QyAjh"
      },
      "execution_count": null,
      "outputs": []
    },
    {
      "cell_type": "code",
      "source": [
        "display_images_in_row(img_lists, settings_list, 'GaussianBlur radius')"
      ],
      "metadata": {
        "id": "eD5-43IDyFm3"
      },
      "execution_count": null,
      "outputs": []
    },
    {
      "cell_type": "markdown",
      "source": [
        "##### *Параметр percent*"
      ],
      "metadata": {
        "id": "gjhpfL3Z0PZs"
      }
    },
    {
      "cell_type": "code",
      "source": [
        "img_tmp = Image.open(sample_dict['без ошибок'][0]).convert('RGB')\n",
        "\n",
        "img_lists = [img_tmp]\n",
        "settings_list = ['orig',0,25,50,100,125,150,300,500,1000,1500,2500,10000]\n",
        "\n",
        "for val in settings_list[1:]:\n",
        "    img_lists.append(img_tmp.filter(ImageFilter.UnsharpMask(radius=2, percent=val, threshold=3)))"
      ],
      "metadata": {
        "id": "v1x01wYr0S_X"
      },
      "execution_count": null,
      "outputs": []
    },
    {
      "cell_type": "code",
      "source": [
        "display_images_in_row(img_lists, settings_list, 'GaussianBlur percent')"
      ],
      "metadata": {
        "id": "a_z645SU0S_X"
      },
      "execution_count": null,
      "outputs": []
    },
    {
      "cell_type": "markdown",
      "source": [
        "##### *Параметр threshold*"
      ],
      "metadata": {
        "id": "N7o_kvhE0UmG"
      }
    },
    {
      "cell_type": "code",
      "source": [
        "img_tmp = Image.open(sample_dict['без ошибок'][0]).convert('RGB')\n",
        "\n",
        "img_lists = [img_tmp]\n",
        "settings_list = ['orig',-1,0,1,2,5,8,10,20,50,100,150,200,250,1000]\n",
        "\n",
        "for val in settings_list[1:]:\n",
        "    img_lists.append(img_tmp.filter(ImageFilter.UnsharpMask(radius=10, percent=500, threshold=val)))"
      ],
      "metadata": {
        "id": "6ts_aIIL0UmM"
      },
      "execution_count": null,
      "outputs": []
    },
    {
      "cell_type": "code",
      "source": [
        "display_images_in_row(img_lists, settings_list, 'GaussianBlur threshold')"
      ],
      "metadata": {
        "id": "blVOq8z-0UmM"
      },
      "execution_count": null,
      "outputs": []
    },
    {
      "cell_type": "markdown",
      "source": [
        "### **Настройки для фильтров по результатам тестирования**"
      ],
      "metadata": {
        "id": "8XxXV3YetpT4"
      }
    },
    {
      "cell_type": "code",
      "source": [
        "# Настройки для фильтров\n",
        "{'PIL_BoxBlur':[0,10],                  # float\n",
        " 'PIL_GaussianBlur':[0,5],              # float\n",
        "}\n",
        "\n",
        "#   'PIL_UnsharpMask_radius':[],\n",
        "#   'PIL_UnsharpMask_percent':[],\n",
        "#   'PIL_UnsharpMask_threshold':[],"
      ],
      "metadata": {
        "id": "PPIvRt8nuCHi"
      },
      "execution_count": null,
      "outputs": []
    },
    {
      "cell_type": "markdown",
      "source": [
        "### Кастомные фильтры\n",
        "> Такие есть, но их долго тестировать и для теста нужно много данных генерировать"
      ],
      "metadata": {
        "id": "z-J4Rm3enDnz"
      }
    },
    {
      "cell_type": "markdown",
      "source": [
        "Класс ImageFilter.Kernel() создает ядро ​​свертки. Поддерживается только ядра 3x3 и 5x5 для целых чисел и ядер с плавающей запятой. Можно применять только к изображениям L и RGB.\n",
        "\n",
        "Аргументы:\n",
        "\n",
        "* size: Размер ядра в виде (width, height). Должно быть (3,3) или (5,5).\n",
        "* kernel: Последовательность, содержащая веса ядра.\n",
        "* scale: Масштаб. Если задано, то результат для каждого пикселя делится на это значение. По умолчанию используется сумма весов ядра.\n",
        "* offset: Смещение. Если задано, это значение добавляется к результату после того, как оно было разделено на scale."
      ],
      "metadata": {
        "id": "InkZ1qKRklqB"
      }
    },
    {
      "cell_type": "code",
      "source": [
        "ImageFilter.Kernel(size, kernel, scale=None, offset=0)\n",
        "\n",
        "from PIL import ImageGrab, ImageFilter\n",
        "\n",
        "# создание скриншота\n",
        "img_orig = ImageGrab.grab()\n",
        "img_orig.save('test_orig.png')\n",
        "\n",
        "# применяем фильтр `ImageFilter.Kernel`\n",
        "img = img_orig.filter(ImageFilter.Kernel((3, 3),\n",
        "       (-1, -1, -1, -1, 9, -1, -1, -1, -1), 1, 0))\n",
        "# сохраним для сравнения\n",
        "img.save('test_Filter_Kernel_9.png')\n",
        "\n",
        "# с другими весами ядра\n",
        "img = img_orig.filter(ImageFilter.Kernel((3, 3),\n",
        "       (-1, -1, -1, -1, 11, -2, -2, -2, -2), 1, 0))\n",
        "img.save('test_Filter_Kernel_11.png')"
      ],
      "metadata": {
        "id": "19jlaBgxkxE8"
      },
      "execution_count": null,
      "outputs": []
    },
    {
      "cell_type": "markdown",
      "source": [
        "Класс ImageFilter.RankFilter() создает ранговый фильтр. Ранговый фильтр сортирует все пиксели в окне заданного размера и возвращает ранговое значение.\n",
        "\n",
        "Аргументы:\n",
        "\n",
        "* size: Размер ядра, в пикселях.\n",
        "* rank: Какое значение пикселя выбрать. Используйте 0 для минимального фильтра, для медианного фильтра size * size / 2, для максимального фильтра size * size - 1 и т. д."
      ],
      "metadata": {
        "id": "FBqjZ_Lqk2ON"
      }
    },
    {
      "cell_type": "code",
      "source": [
        "ImageFilter.RankFilter(size, rank)"
      ],
      "metadata": {
        "id": "17FtKq87lAsD"
      },
      "execution_count": null,
      "outputs": []
    },
    {
      "cell_type": "markdown",
      "source": [
        "# **cv2**\n",
        "> Функции:\n",
        "* dilate (Расширение)\n",
        "* erode (Размывание)\n",
        "* GaussianBlur (Фильтр размытия по гауссу)\n",
        "* normalize (нормализация)\n",
        "* threshold (Пороговое значение)\n",
        "* adaptiveThreshold (Адаптивное пороговое значение)\n",
        "* fastNlMeansDenoising (Уменьшение шумов)"
      ],
      "metadata": {
        "id": "KWLmis_CUyvB"
      }
    },
    {
      "cell_type": "code",
      "source": [
        "def display_images_in_row(images, setting, setting_name='Unknown', cv2_type=True):\n",
        "    if cv2_type == True:\n",
        "        images = [cv2.cvtColor(i, cv2.COLOR_GRAY2RGB) for i in images]\n",
        "\n",
        "    fig, axs = plt.subplots(1, len(images), figsize=(6*len(images), 9))  # Создаем график с нужным количеством подграфиков в одном ряду\n",
        "\n",
        "    for i, img in enumerate(images):\n",
        "        axs[i].imshow(img)  # Отображаем изображение на соответствующем подграфике\n",
        "        axs[i].axis('off')  # Убираем оси координат\n",
        "        axs[i].set_title(f\"{setting_name} - {setting[i]}\")  # Устанавливаем заголовок для каждого изображения\n",
        "\n",
        "    plt.tight_layout()  # Для улучшения отображения графика\n",
        "    plt.show()\n",
        "\n",
        "img = cv2.imread(sample_dict['без ошибок'][0], cv2.IMREAD_UNCHANGED)"
      ],
      "metadata": {
        "id": "HZFjzqF035IO"
      },
      "execution_count": null,
      "outputs": []
    },
    {
      "cell_type": "code",
      "source": [
        "img.shape"
      ],
      "metadata": {
        "id": "YQI9rmn35CvZ"
      },
      "execution_count": null,
      "outputs": []
    },
    {
      "cell_type": "markdown",
      "source": [
        "## **thresholding**"
      ],
      "metadata": {
        "id": "-NqVAjqANvLT"
      }
    },
    {
      "cell_type": "code",
      "source": [
        "print(cv2.threshold.__doc__)"
      ],
      "metadata": {
        "id": "nqRXaLHvNvLa"
      },
      "execution_count": null,
      "outputs": []
    },
    {
      "cell_type": "code",
      "source": [
        "# enum ThresholdTypes\n",
        "# {\n",
        "#     THRESH_BINARY     = 0,\n",
        "#     THRESH_BINARY_INV = 1,\n",
        "#     THRESH_TRUNC      = 2,\n",
        "#     THRESH_TOZERO     = 3,\n",
        "#     THRESH_TOZERO_INV = 4,\n",
        "#     THRESH_MASK       = 7,\n",
        "#     THRESH_OTSU       = 8,\n",
        "#     THRESH_TRIANGLE   = 16,\n",
        "# };"
      ],
      "metadata": {
        "id": "TomNakRwOO5C"
      },
      "execution_count": null,
      "outputs": []
    },
    {
      "cell_type": "code",
      "source": [
        "cv2.threshold(img, thresh=50, maxval=255, type=cv2.THRESH_BINARY + cv2.THRESH_OTSU)"
      ],
      "metadata": {
        "id": "w8yL1KeVNvLa"
      },
      "execution_count": null,
      "outputs": []
    },
    {
      "cell_type": "markdown",
      "source": [
        "##### *Параметр thresh*"
      ],
      "metadata": {
        "id": "h9rotVlENvLa"
      }
    },
    {
      "cell_type": "code",
      "source": [
        "img_lists = [img]\n",
        "settings_list = ['orig', 0,5,10,25,50,100,150,200,250,255]\n",
        "\n",
        "for val in settings_list[1:]:\n",
        "    print(val)\n",
        "    with timex():\n",
        "        img_lists.append(cv2.threshold(img, thresh=val, maxval=255, type=cv2.THRESH_BINARY + cv2.THRESH_OTSU)[1])\n",
        "    print('-----------------')\n",
        "\n",
        "display_images_in_row(img_lists, settings_list, 'thresholding thresh')"
      ],
      "metadata": {
        "id": "xqotEQQrNvLa"
      },
      "execution_count": null,
      "outputs": []
    },
    {
      "cell_type": "markdown",
      "source": [
        "##### *Параметр maxval*"
      ],
      "metadata": {
        "id": "LrJ-bGLzNvLa"
      }
    },
    {
      "cell_type": "code",
      "source": [
        "img_lists = [img]\n",
        "settings_list = ['orig', 0,5,10,25,50,100,150,200,250,255]\n",
        "\n",
        "for val in settings_list[1:]:\n",
        "    print(val)\n",
        "    with timex():\n",
        "        img_lists.append(cv2.threshold(img, thresh=0, maxval=val, type=cv2.THRESH_BINARY + cv2.THRESH_OTSU)[1])\n",
        "    print('-----------------')\n",
        "\n",
        "display_images_in_row(img_lists, settings_list, 'thresholding maxval')"
      ],
      "metadata": {
        "id": "9fywpkVSNvLa"
      },
      "execution_count": null,
      "outputs": []
    },
    {
      "cell_type": "markdown",
      "source": [
        "##### *Параметр type*"
      ],
      "metadata": {
        "id": "LGJez6CNNvLb"
      }
    },
    {
      "cell_type": "code",
      "source": [
        "img_lists = [img]\n",
        "settings_list = ['orig'] + [i for i in range(17)]\n",
        "\n",
        "for val in settings_list[1:]:\n",
        "    print(val)\n",
        "    with timex():\n",
        "        img_lists.append(cv2.threshold(img, thresh=0, maxval=255, type=val)[1])\n",
        "    print('-----------------')\n",
        "\n",
        "display_images_in_row(img_lists, settings_list, 'thresholding type')"
      ],
      "metadata": {
        "id": "vbXJROuoNvLb"
      },
      "execution_count": null,
      "outputs": []
    },
    {
      "cell_type": "code",
      "source": [
        "img_lists = [img]\n",
        "settings_list = ['orig'] + [i for i in range(17)]\n",
        "\n",
        "for val in settings_list[1:]:\n",
        "    print(val)\n",
        "    with timex():\n",
        "        img_lists.append(cv2.threshold(img, thresh=50, maxval=200, type=val)[1])\n",
        "    print('-----------------')\n",
        "\n",
        "display_images_in_row(img_lists, settings_list, 'thresholding type')"
      ],
      "metadata": {
        "id": "Re8w6dVPSmWU"
      },
      "execution_count": null,
      "outputs": []
    },
    {
      "cell_type": "code",
      "source": [
        "img_lists = [img]\n",
        "settings_list = ['orig'] + [i for i in range(17)]\n",
        "\n",
        "for val in settings_list[1:]:\n",
        "    print(val)\n",
        "    with timex():\n",
        "        img_lists.append(cv2.threshold(img, thresh=255, maxval=0, type=val)[1])\n",
        "    print('-----------------')\n",
        "\n",
        "display_images_in_row(img_lists, settings_list, 'thresholding type')"
      ],
      "metadata": {
        "id": "MzhRaNS4S2Q4"
      },
      "execution_count": null,
      "outputs": []
    },
    {
      "cell_type": "markdown",
      "source": [
        "## **adaptiveThreshold**"
      ],
      "metadata": {
        "id": "2Q2COpBJTTGE"
      }
    },
    {
      "cell_type": "code",
      "source": [
        "print(cv2.adaptiveThreshold.__doc__)"
      ],
      "metadata": {
        "id": "47ruvkZ5TTGK"
      },
      "execution_count": null,
      "outputs": []
    },
    {
      "cell_type": "code",
      "source": [
        "cv2.adaptiveThreshold(img, 255, cv2.ADAPTIVE_THRESH_MEAN_C, cv2.THRESH_BINARY, 31, 10)"
      ],
      "metadata": {
        "id": "rchsIqpWVCVV"
      },
      "execution_count": null,
      "outputs": []
    },
    {
      "cell_type": "code",
      "source": [
        "cv2.adaptiveThreshold(img, maxValue=255, adaptiveMethod=cv2.ADAPTIVE_THRESH_MEAN_C, thresholdType=cv2.THRESH_BINARY, blockSize=31, C=10)"
      ],
      "metadata": {
        "id": "U2slywEITTGK"
      },
      "execution_count": null,
      "outputs": []
    },
    {
      "cell_type": "markdown",
      "source": [
        "##### *Параметр maxValue*"
      ],
      "metadata": {
        "id": "F_QVwHhDTTGK"
      }
    },
    {
      "cell_type": "code",
      "source": [
        "img_lists = [img]\n",
        "settings_list = ['orig', 0,5,10,25,50,100,150,200,250,255]\n",
        "\n",
        "for val in settings_list[1:]:\n",
        "    print(val)\n",
        "    with timex():\n",
        "        img_lists.append(cv2.adaptiveThreshold(img, maxValue=val, adaptiveMethod=cv2.ADAPTIVE_THRESH_MEAN_C, thresholdType=cv2.THRESH_BINARY, blockSize=31, C=10))\n",
        "    print('-----------------')\n",
        "\n",
        "display_images_in_row(img_lists, settings_list, 'thresholding maxValue')"
      ],
      "metadata": {
        "id": "baQiL7sOTTGL"
      },
      "execution_count": null,
      "outputs": []
    },
    {
      "cell_type": "markdown",
      "source": [
        "##### *Параметр adaptiveMethod*"
      ],
      "metadata": {
        "id": "ZnKQvO8wTTGL"
      }
    },
    {
      "cell_type": "code",
      "source": [
        "img_lists = [img]\n",
        "settings_list = ['orig', cv2.ADAPTIVE_THRESH_GAUSSIAN_C, cv2.ADAPTIVE_THRESH_MEAN_C]\n",
        "\n",
        "for val in settings_list[1:]:\n",
        "    print(val)\n",
        "    with timex():\n",
        "        img_lists.append(cv2.adaptiveThreshold(img, maxValue=255, adaptiveMethod=val, thresholdType=cv2.THRESH_BINARY, blockSize=31, C=10))\n",
        "    print('-----------------')\n",
        "\n",
        "display_images_in_row(img_lists, settings_list, 'thresholding adaptiveMethod')"
      ],
      "metadata": {
        "id": "t_01s3qHTTGL"
      },
      "execution_count": null,
      "outputs": []
    },
    {
      "cell_type": "markdown",
      "source": [
        "##### *Параметр thresholdType*"
      ],
      "metadata": {
        "id": "l7noMOp9TTGL"
      }
    },
    {
      "cell_type": "code",
      "source": [
        "img_lists = [img]\n",
        "settings_list = ['orig'] + [0,1]\n",
        "\n",
        "for val in settings_list[1:]:\n",
        "    print(val)\n",
        "    with timex():\n",
        "        img_lists.append(cv2.adaptiveThreshold(img, maxValue=255, adaptiveMethod=cv2.ADAPTIVE_THRESH_MEAN_C, thresholdType=val, blockSize=31, C=10))\n",
        "    print('-----------------')\n",
        "\n",
        "display_images_in_row(img_lists, settings_list, 'thresholding thresholdType')"
      ],
      "metadata": {
        "id": "JpNCwBkgTTGL"
      },
      "execution_count": null,
      "outputs": []
    },
    {
      "cell_type": "markdown",
      "source": [
        "##### *Параметр blockSize*"
      ],
      "metadata": {
        "id": "tXU_UIeYVfaK"
      }
    },
    {
      "cell_type": "code",
      "source": [
        "img_lists = [img]\n",
        "settings_list = ['orig',3,5,11,21,31,41,51,101,251,501,1001]\n",
        "\n",
        "for val in settings_list[1:]:\n",
        "    print(val)\n",
        "    with timex():\n",
        "        img_lists.append(cv2.adaptiveThreshold(img, maxValue=255, adaptiveMethod=cv2.ADAPTIVE_THRESH_MEAN_C, thresholdType=cv2.THRESH_BINARY, blockSize=val, C=10))\n",
        "    print('-----------------')\n",
        "\n",
        "display_images_in_row(img_lists, settings_list, 'thresholding blockSize')"
      ],
      "metadata": {
        "id": "OxuNDmBoVfaP"
      },
      "execution_count": null,
      "outputs": []
    },
    {
      "cell_type": "markdown",
      "source": [
        "##### *Параметр C*"
      ],
      "metadata": {
        "id": "6qVuHCxkVjCE"
      }
    },
    {
      "cell_type": "code",
      "source": [
        "img_lists = [img]\n",
        "settings_list = ['orig', 1,5,10,20,50,100,150,175,200,225,250]\n",
        "\n",
        "for val in settings_list[1:]:\n",
        "    print(val)\n",
        "    with timex():\n",
        "        img_lists.append(cv2.adaptiveThreshold(img, maxValue=255, adaptiveMethod=cv2.ADAPTIVE_THRESH_MEAN_C, thresholdType=cv2.THRESH_BINARY, blockSize=31, C=val))\n",
        "    print('-----------------')\n",
        "\n",
        "display_images_in_row(img_lists, settings_list, 'thresholding C')"
      ],
      "metadata": {
        "id": "hL-EeyWwVjCE"
      },
      "execution_count": null,
      "outputs": []
    },
    {
      "cell_type": "markdown",
      "source": [
        "## **normalize**"
      ],
      "metadata": {
        "id": "bbQowNqtYJHg"
      }
    },
    {
      "cell_type": "code",
      "source": [
        "print(cv2.normalize.__doc__)"
      ],
      "metadata": {
        "id": "CspWGrNIYJHh"
      },
      "execution_count": null,
      "outputs": []
    },
    {
      "cell_type": "code",
      "source": [
        "cv2.normalize(img, np.zeros((img.shape[0], img.shape[1])), 0, 255, cv2.NORM_MINMAX)"
      ],
      "metadata": {
        "id": "Ykb6WaPkYJHh"
      },
      "execution_count": null,
      "outputs": []
    },
    {
      "cell_type": "code",
      "source": [
        "cv2.normalize(img, dst=np.zeros((img.shape[0], img.shape[1])), alpha=0, beta=255, norm_type=cv2.NORM_MINMAX)"
      ],
      "metadata": {
        "id": "IoV-IMe0ZCnI"
      },
      "execution_count": null,
      "outputs": []
    },
    {
      "cell_type": "markdown",
      "source": [
        "##### *Параметр alpha*"
      ],
      "metadata": {
        "id": "hXY4ie1nYJHh"
      }
    },
    {
      "cell_type": "code",
      "source": [
        "img_lists = [img]\n",
        "settings_list = ['orig', 0, 5, 10, 25, 50, 75, 100, 150, 200, 225, 250]\n",
        "\n",
        "for val in settings_list[1:]:\n",
        "    print(val)\n",
        "    with timex():\n",
        "        img_lists.append(cv2.normalize(img, dst=np.zeros((img.shape[0], img.shape[1])), alpha=val, beta=255, norm_type=cv2.NORM_MINMAX))\n",
        "    print('-----------------')\n",
        "\n",
        "display_images_in_row(img_lists, settings_list, 'normalize alpha')"
      ],
      "metadata": {
        "id": "e8LrgPtEYJHh"
      },
      "execution_count": null,
      "outputs": []
    },
    {
      "cell_type": "markdown",
      "source": [
        "##### *Параметр beta*"
      ],
      "metadata": {
        "id": "EBnKvbZ1YJHh"
      }
    },
    {
      "cell_type": "code",
      "source": [
        "img_lists = [img]\n",
        "settings_list = ['orig', 0, 5, 10, 25, 50, 75, 100, 150, 200, 225, 250]\n",
        "\n",
        "for val in settings_list[1:]:\n",
        "    print(val)\n",
        "    with timex():\n",
        "        img_lists.append(cv2.normalize(img, dst=np.zeros((img.shape[0], img.shape[1])), alpha=0, beta=val, norm_type=cv2.NORM_MINMAX))\n",
        "    print('-----------------')\n",
        "\n",
        "display_images_in_row(img_lists, settings_list, 'normalize beta')"
      ],
      "metadata": {
        "id": "OQtgcoKBYJHh"
      },
      "execution_count": null,
      "outputs": []
    },
    {
      "cell_type": "markdown",
      "source": [
        "##### *Параметр norm_type*"
      ],
      "metadata": {
        "id": "AqsOfjeWYJHi"
      }
    },
    {
      "cell_type": "code",
      "source": [
        "img_lists = [img]\n",
        "settings_list = ['orig', cv2.NORM_INF, cv2.NORM_L1, cv2.NORM_L2,cv2.NORM_MINMAX]\n",
        "\n",
        "for val in settings_list[1:]:\n",
        "    print(val)\n",
        "    with timex():\n",
        "        img_lists.append(cv2.normalize(img, dst=np.zeros((img.shape[0], img.shape[1])), alpha=0, beta=255, norm_type=val))\n",
        "    print('-----------------')\n",
        "\n",
        "display_images_in_row(img_lists, settings_list, 'normalize norm_type')"
      ],
      "metadata": {
        "id": "g3vmB7bnYJHi"
      },
      "execution_count": null,
      "outputs": []
    },
    {
      "cell_type": "markdown",
      "source": [
        "## **dilate**"
      ],
      "metadata": {
        "id": "u-Gb6c2oFJ0i"
      }
    },
    {
      "cell_type": "code",
      "source": [
        "print(cv2.dilate.__doc__)"
      ],
      "metadata": {
        "id": "m7CVGVMRFJ0i"
      },
      "execution_count": null,
      "outputs": []
    },
    {
      "cell_type": "code",
      "source": [
        "cv2.dilate(img, kernel=(10, 10), iterations=3, anchor=(-1,-1))"
      ],
      "metadata": {
        "id": "DmodmibSFJ0i"
      },
      "execution_count": null,
      "outputs": []
    },
    {
      "cell_type": "markdown",
      "source": [
        "##### *Параметр kernel*"
      ],
      "metadata": {
        "id": "RHN4UwbiFJ0j"
      }
    },
    {
      "cell_type": "code",
      "source": [
        "img_lists = [img]\n",
        "settings_list = ['orig', (1,1), (3,3), (5,5), (8,8), (11,11), (21,21), (51,51), (100,100),\n",
        "                 (3,5), (3,11), (3,21), (3,51),\n",
        "                 (5,3), (11,3), (21,3), (51,3),]\n",
        "\n",
        "for val in settings_list[1:]:\n",
        "    print(val)\n",
        "    with timex():\n",
        "        img_lists.append(cv2.dilate(img, kernel=val, iterations=3, anchor=(-1,-1)))\n",
        "    print('-----------------')\n",
        "\n",
        "display_images_in_row(img_lists, settings_list, 'dilate kernel')"
      ],
      "metadata": {
        "id": "C93mXtYqFJ0j"
      },
      "execution_count": null,
      "outputs": []
    },
    {
      "cell_type": "markdown",
      "source": [
        "##### *Параметр anchor*"
      ],
      "metadata": {
        "id": "BOcbyRS9LJFo"
      }
    },
    {
      "cell_type": "code",
      "source": [
        "img_lists = [img]\n",
        "settings_list = ['orig', (0,0), (-1,0), (0,-1), (-1,-1)]\n",
        "\n",
        "for val in settings_list[1:]:\n",
        "    print(val)\n",
        "    with timex():\n",
        "        img_lists.append(cv2.dilate(img, kernel=(11,11), iterations=3, anchor=(-1,-1)))\n",
        "    print('-----------------')\n",
        "\n",
        "display_images_in_row(img_lists, settings_list, 'dilate kernel')"
      ],
      "metadata": {
        "id": "CdQuRI5cLJFu"
      },
      "execution_count": null,
      "outputs": []
    },
    {
      "cell_type": "markdown",
      "source": [
        "##### *Параметр iterations*"
      ],
      "metadata": {
        "id": "nM_vq34XJD1w"
      }
    },
    {
      "cell_type": "code",
      "source": [
        "img_lists = [img]\n",
        "settings_list = ['orig', 1,2,3,5,10,20,50,100,200,1000]\n",
        "\n",
        "for val in settings_list[1:]:\n",
        "    print(val)\n",
        "    with timex():\n",
        "        img_lists.append(cv2.dilate(img, kernel=(10,10), iterations=val, anchor=(-1,-1)))\n",
        "    print('-----------------')\n",
        "\n",
        "display_images_in_row(img_lists, settings_list, 'dilate iterations')"
      ],
      "metadata": {
        "id": "naL6A0OJJD12"
      },
      "execution_count": null,
      "outputs": []
    },
    {
      "cell_type": "markdown",
      "source": [
        "##### *Параметр BorderType*"
      ],
      "metadata": {
        "id": "I-OlCX4PIX5_"
      }
    },
    {
      "cell_type": "code",
      "source": [
        "img_lists = [img]\n",
        "settings_list = ['orig', cv2.BORDER_CONSTANT, cv2.BORDER_REPLICATE,\n",
        "                 cv2.BORDER_REFLECT, cv2.BORDER_REFLECT_101, cv2.BORDER_ISOLATED]\n",
        "\n",
        "for val in settings_list[1:]:\n",
        "    print(val)\n",
        "    with timex():\n",
        "        img_lists.append(cv2.dilate(img, kernel=(10, 10), iterations=3, anchor=(-1,-1), borderType=val))\n",
        "    print('-----------------')\n",
        "\n",
        "img_lists = [i for i in img_lists if type(i) != None]\n",
        "\n",
        "display_images_in_row(img_lists, settings_list, 'GaussianBlur borderType')"
      ],
      "metadata": {
        "id": "aQuYbUXUIX6A"
      },
      "execution_count": null,
      "outputs": []
    },
    {
      "cell_type": "markdown",
      "source": [
        "## **erode**"
      ],
      "metadata": {
        "id": "qCiNKMw-LpPO"
      }
    },
    {
      "cell_type": "code",
      "source": [
        "print(cv2.erode.__doc__)"
      ],
      "metadata": {
        "id": "ZWmD7i7dLpPU"
      },
      "execution_count": null,
      "outputs": []
    },
    {
      "cell_type": "code",
      "source": [
        "cv2.erode(img, kernel=(10, 10), iterations=3, anchor=(-1,-1))"
      ],
      "metadata": {
        "id": "RSjG9gNgLpPU"
      },
      "execution_count": null,
      "outputs": []
    },
    {
      "cell_type": "markdown",
      "source": [
        "##### *Параметр kernel*"
      ],
      "metadata": {
        "id": "7vHOnWLBLpPU"
      }
    },
    {
      "cell_type": "code",
      "source": [
        "img_lists = [img]\n",
        "settings_list = ['orig', (1,1), (3,3), (5,5), (8,8), (11,11), (21,21), (51,51), (100,100),\n",
        "                 (3,5), (3,11), (3,21), (3,51),\n",
        "                 (5,3), (11,3), (21,3), (51,3),]\n",
        "\n",
        "for val in settings_list[1:]:\n",
        "    print(val)\n",
        "    with timex():\n",
        "        img_lists.append(cv2.erode(img, kernel=val, iterations=3, anchor=(-1,-1)))\n",
        "    print('-----------------')\n",
        "\n",
        "display_images_in_row(img_lists, settings_list, 'erode kernel')"
      ],
      "metadata": {
        "id": "UFryJ4cOLpPU"
      },
      "execution_count": null,
      "outputs": []
    },
    {
      "cell_type": "markdown",
      "source": [
        "##### *Параметр anchor*"
      ],
      "metadata": {
        "id": "A0y1dG6ALpPU"
      }
    },
    {
      "cell_type": "code",
      "source": [
        "img_lists = [img]\n",
        "settings_list = ['orig', (0,0), (-1,0), (0,-1), (-1,-1)]\n",
        "\n",
        "for val in settings_list[1:]:\n",
        "    print(val)\n",
        "    with timex():\n",
        "        img_lists.append(cv2.erode(img, kernel=(11,11), iterations=3, anchor=(-1,-1)))\n",
        "    print('-----------------')\n",
        "\n",
        "display_images_in_row(img_lists, settings_list, 'erode anchor')"
      ],
      "metadata": {
        "id": "_6OGG6_FLpPU"
      },
      "execution_count": null,
      "outputs": []
    },
    {
      "cell_type": "markdown",
      "source": [
        "##### *Параметр iterations*"
      ],
      "metadata": {
        "id": "it17lZVdLpPU"
      }
    },
    {
      "cell_type": "code",
      "source": [
        "img_lists = [img]\n",
        "settings_list = ['orig', 1,2,3,5,10,20,50,100,200,1000]\n",
        "\n",
        "for val in settings_list[1:]:\n",
        "    print(val)\n",
        "    with timex():\n",
        "        img_lists.append(cv2.erode(img, kernel=(10,10), iterations=val, anchor=(-1,-1)))\n",
        "    print('-----------------')\n",
        "\n",
        "display_images_in_row(img_lists, settings_list, 'erode iterations')"
      ],
      "metadata": {
        "id": "i831zqUyLpPV"
      },
      "execution_count": null,
      "outputs": []
    },
    {
      "cell_type": "markdown",
      "source": [
        "##### *Параметр BorderType*"
      ],
      "metadata": {
        "id": "UAZ9ni_OLpPV"
      }
    },
    {
      "cell_type": "code",
      "source": [
        "print([cv2.BORDER_CONSTANT, cv2.BORDER_REPLICATE,cv2.BORDER_REFLECT, cv2.BORDER_REFLECT_101, cv2.BORDER_ISOLATED])"
      ],
      "metadata": {
        "id": "t1gVDUj-bRn6"
      },
      "execution_count": null,
      "outputs": []
    },
    {
      "cell_type": "code",
      "source": [
        "img_lists = [img]\n",
        "settings_list = ['orig', cv2.BORDER_CONSTANT, cv2.BORDER_REPLICATE,\n",
        "                 cv2.BORDER_REFLECT, cv2.BORDER_REFLECT_101, cv2.BORDER_ISOLATED]\n",
        "\n",
        "for val in settings_list[1:]:\n",
        "    print(val)\n",
        "    with timex():\n",
        "        img_lists.append(cv2.erode(img, kernel=(10, 10), iterations=3, anchor=(-1,-1), borderType=val))\n",
        "    print('-----------------')\n",
        "\n",
        "img_lists = [i for i in img_lists if type(i) != None]\n",
        "\n",
        "display_images_in_row(img_lists, settings_list, 'erode borderType')"
      ],
      "metadata": {
        "id": "ePWP04KbLpPV"
      },
      "execution_count": null,
      "outputs": []
    },
    {
      "cell_type": "markdown",
      "source": [
        "## **GaussianBlur**"
      ],
      "metadata": {
        "id": "-FN7-MxL-bGl"
      }
    },
    {
      "cell_type": "code",
      "source": [
        "print(cv2.GaussianBlur.__doc__)"
      ],
      "metadata": {
        "id": "OpXOQQK4BiRN"
      },
      "execution_count": null,
      "outputs": []
    },
    {
      "cell_type": "code",
      "source": [
        "cv2.GaussianBlur(img, ksize=(11, 11), sigmaX=0, sigmaY=0)"
      ],
      "metadata": {
        "id": "XRhDWECIBr_9"
      },
      "execution_count": null,
      "outputs": []
    },
    {
      "cell_type": "markdown",
      "source": [
        "##### *Параметр ksize*"
      ],
      "metadata": {
        "id": "Hdtyllf7B1dh"
      }
    },
    {
      "cell_type": "code",
      "source": [
        "img_lists = [img]\n",
        "settings_list = ['orig', (1,1), (3,3), (5,5), (11,11), (21,21), (51,51),\n",
        "                 (3,5), (3,11), (3,21), (3,51),\n",
        "                 (5,3), (11,3), (21,3), (51,3),]\n",
        "\n",
        "for val in settings_list[1:]:\n",
        "    print(val)\n",
        "    with timex():\n",
        "        img_lists.append(cv2.GaussianBlur(img, ksize=val, sigmaX=0, sigmaY=0)) # normType=cv2.NORM_L2\n",
        "    print('-----------------')\n",
        "\n",
        "display_images_in_row(img_lists, settings_list, 'GaussianBlur ksize')"
      ],
      "metadata": {
        "id": "a05RUyPZB1dh"
      },
      "execution_count": null,
      "outputs": []
    },
    {
      "cell_type": "markdown",
      "source": [
        "##### *Параметр sigmaX*"
      ],
      "metadata": {
        "id": "6O211f0SECSL"
      }
    },
    {
      "cell_type": "code",
      "source": [
        "img_lists = [img]\n",
        "settings_list = ['orig', 1,2,3,5,10,20,50,100,200,500]\n",
        "\n",
        "for val in settings_list[1:]:\n",
        "    print(val)\n",
        "    with timex():\n",
        "        img_lists.append(cv2.GaussianBlur(img, ksize=(11,11), sigmaX=val, sigmaY=0)) # normType=cv2.NORM_L2\n",
        "    print('-----------------')\n",
        "\n",
        "display_images_in_row(img_lists, settings_list, 'GaussianBlur sigmaX')"
      ],
      "metadata": {
        "id": "zbsceD9iECSR"
      },
      "execution_count": null,
      "outputs": []
    },
    {
      "cell_type": "markdown",
      "source": [
        "##### *Параметр sigmaY*"
      ],
      "metadata": {
        "id": "jJ5YdLxwEaTa"
      }
    },
    {
      "cell_type": "code",
      "source": [
        "img_lists = [img]\n",
        "settings_list = ['orig', 1,2,3,5,10,20,50,100,200,500]\n",
        "\n",
        "for val in settings_list[1:]:\n",
        "    print(val)\n",
        "    with timex():\n",
        "        img_lists.append(cv2.GaussianBlur(img, ksize=(11,11), sigmaX=0, sigmaY=val)) # normType=cv2.NORM_L2\n",
        "    print('-----------------')\n",
        "\n",
        "display_images_in_row(img_lists, settings_list, 'GaussianBlur sigmaY')"
      ],
      "metadata": {
        "id": "jigZ2LvSEaTg"
      },
      "execution_count": null,
      "outputs": []
    },
    {
      "cell_type": "markdown",
      "source": [
        "##### *Параметр BorderType*"
      ],
      "metadata": {
        "id": "-uYSuyvLFQFT"
      }
    },
    {
      "cell_type": "code",
      "source": [
        "img_lists = [img]\n",
        "settings_list = ['orig', cv2.BORDER_CONSTANT, cv2.BORDER_REPLICATE, cv2.BORDER_WRAP,\n",
        "                 cv2.BORDER_REFLECT, cv2.BORDER_REFLECT_101, cv2.BORDER_ISOLATED]\n",
        "\n",
        "for val in settings_list[1:]:\n",
        "    print(val)\n",
        "    with timex():\n",
        "        img_lists.append(cv2.GaussianBlur(img, ksize=(11,11), sigmaX=0, sigmaY=0, borderType=val)) # normType=cv2.NORM_L2\n",
        "    print('-----------------')\n",
        "\n",
        "display_images_in_row(img_lists, settings_list, 'GaussianBlur borderType')"
      ],
      "metadata": {
        "id": "zXmRzsXSFQFT"
      },
      "execution_count": null,
      "outputs": []
    },
    {
      "cell_type": "markdown",
      "source": [
        "## **fastNlMeansDenoising**\n",
        "> Долго работает"
      ],
      "metadata": {
        "id": "C0WSyj_Z3y0B"
      }
    },
    {
      "cell_type": "code",
      "source": [
        "print(cv2.fastNlMeansDenoising.__doc__)"
      ],
      "metadata": {
        "id": "KkVEivMF3UpW"
      },
      "execution_count": null,
      "outputs": []
    },
    {
      "cell_type": "code",
      "source": [
        "# Стандартные настройки\n",
        "cv2.fastNlMeansDenoising(img, h=3, templateWindowSize=7, searchWindowSize=21)"
      ],
      "metadata": {
        "id": "d0HP1J7o33nw"
      },
      "execution_count": null,
      "outputs": []
    },
    {
      "cell_type": "markdown",
      "source": [
        "##### *Параметр templateWindowSize*"
      ],
      "metadata": {
        "id": "EsvAjN_D5v0N"
      }
    },
    {
      "cell_type": "code",
      "source": [
        "img_lists = [img]\n",
        "settings_list = ['orig',3,5,7,10,15,25,50,100]\n",
        "\n",
        "for val in settings_list[1:]:\n",
        "    img_lists.append(cv2.fastNlMeansDenoising(img, h=3, templateWindowSize=val, searchWindowSize=21)) # normType=cv2.NORM_L2\n",
        "\n",
        "display_images_in_row(img_lists, settings_list, 'fastNlMeansDenoising templateWindowSize')"
      ],
      "metadata": {
        "id": "eRrN_PMS5l4h"
      },
      "execution_count": null,
      "outputs": []
    },
    {
      "cell_type": "markdown",
      "source": [
        "##### *Параметр h*"
      ],
      "metadata": {
        "id": "z5YRNNKd7ajW"
      }
    },
    {
      "cell_type": "code",
      "source": [
        "img_lists = [img]\n",
        "settings_list = ['orig',1,2,3,4,5,7,10,15,25,50,100]\n",
        "\n",
        "for val in settings_list[1:]:\n",
        "    img_lists.append(cv2.fastNlMeansDenoising(img, h=val, templateWindowSize=7, searchWindowSize=21))\n",
        "\n",
        "display_images_in_row(img_lists, settings_list, 'fastNlMeansDenoising h')"
      ],
      "metadata": {
        "id": "EHP8gCfD7ajc"
      },
      "execution_count": null,
      "outputs": []
    },
    {
      "cell_type": "markdown",
      "source": [
        "##### *Параметр searchWindowSize*"
      ],
      "metadata": {
        "id": "8lASnIXW71Tm"
      }
    },
    {
      "cell_type": "code",
      "source": [
        "img_lists = [img]\n",
        "settings_list = ['orig',3,5,10,15,21,30,50]\n",
        "\n",
        "for val in settings_list[1:]:\n",
        "    print(val)\n",
        "    with timex():\n",
        "        img_lists.append(cv2.fastNlMeansDenoising(img, h=3, templateWindowSize=7, searchWindowSize=val)) # normType=cv2.NORM_L2\n",
        "    print()\n",
        "\n",
        "display_images_in_row(img_lists, settings_list, 'fastNlMeansDenoising searchWindowSize')"
      ],
      "metadata": {
        "id": "QprOo1t771Tt"
      },
      "execution_count": null,
      "outputs": []
    },
    {
      "cell_type": "markdown",
      "source": [
        "##### *Доп тесты параметров*"
      ],
      "metadata": {
        "id": "mlFDCq_R9FrR"
      }
    },
    {
      "cell_type": "code",
      "source": [
        "img_lists = [img]\n",
        "settings_list = ['orig',3,5,7,10,15,25,50,100]\n",
        "\n",
        "for val in settings_list[1:]:\n",
        "    print(val)\n",
        "    with timex():\n",
        "        img_lists.append(cv2.fastNlMeansDenoising(img, h=val, templateWindowSize=5, searchWindowSize=5)) # normType=cv2.NORM_L2\n",
        "    print()\n",
        "\n",
        "display_images_in_row(img_lists, settings_list, 'fastNlMeansDenoising h')"
      ],
      "metadata": {
        "id": "TqeWqjjBAlyC"
      },
      "execution_count": null,
      "outputs": []
    },
    {
      "cell_type": "code",
      "source": [
        "img_lists = [img]\n",
        "settings_list = ['orig',3,5,7,10,15,25,50,100]\n",
        "\n",
        "for val in settings_list[1:]:\n",
        "    print(val)\n",
        "    with timex():\n",
        "        img_lists.append(cv2.fastNlMeansDenoising(img, h=3, templateWindowSize=val, searchWindowSize=5)) # normType=cv2.NORM_L2\n",
        "    print()\n",
        "\n",
        "display_images_in_row(img_lists, settings_list, 'fastNlMeansDenoising templateWindowSize')"
      ],
      "metadata": {
        "id": "Bz0BRwfgAvpx"
      },
      "execution_count": null,
      "outputs": []
    },
    {
      "cell_type": "markdown",
      "source": [
        "## **Настройки для функций по результатам тестирования**"
      ],
      "metadata": {
        "id": "4787jnML8DDT"
      }
    },
    {
      "cell_type": "code",
      "source": [
        "{'cv2_fastNlMeansDenoising_templateWindowSize':[0,100],     # только целые числа\n",
        " 'cv2_fastNlMeansDenoising_searchWindowSize':[0,21],        # Если большое значение, то сильно увеличивается время обработки\n",
        " 'cv2_fastNlMeansDenoising_h':[0,100],\n",
        "\n",
        " 'cv2_GaussianBlur_ksize_x':[1,51], # Только нечётные целые числа\n",
        " 'cv2_GaussianBlur_ksize_y':[1,51], # Только нечётные целые числа\n",
        " 'cv2_GaussianBlur_sigmaX':[0,10],\n",
        " 'cv2_GaussianBlur_sigmaY':[0,10],\n",
        " 'cv2_GaussianBlur_borderType':[0,1,2,3,4,16], # Выбор из списка\n",
        "\n",
        " 'cv2_erode_kernel_x':[1,51],               # только целые числа\n",
        " 'cv2_erode_kernel_y':[1,51],               # только целые числа\n",
        " 'cv2_erode_anchor':[(0,0), (-1,0), (0,-1), (-1,-1)], # Выбор из списка\n",
        " 'cv2_erode_iterations':[0,20],             # только целые числа\n",
        " 'cv2_erode_BorderType':[0, 1, 2, 4, 16],   # Выбор из списка\n",
        "\n",
        " 'cv2_dilate_kernel_x':[1,51],              # только целые числа\n",
        " 'cv2_dilate_kernel_y':[1,51],              # только целые числа\n",
        " 'cv2_dilate_anchor':[(0,0), (-1,0), (0,-1), (-1,-1)], # Выбор из списка\n",
        " 'cv2_dilate_iterations':[0,20],            # только целые числа\n",
        " 'cv2_dilate_BorderType':[0, 1, 2, 4, 16],  # Выбор из списка\n",
        "\n",
        " 'cv2_normalize_alpha':[0,255], # только целые числа\n",
        " 'cv2_normalize_beta':[0,255],  # только целые числа\n",
        " 'cv2_normalize_norm_type':[1, 2, 4, 32], # Выбор из списка\n",
        "\n",
        " 'cv2_thresholding_thresh':[0,255], # только целые числа\n",
        " 'cv2_thresholding_maxval':[0,255], # только целые числа\n",
        " 'cv2_thresholding_type':[i for i in range(17)], # Выбор из списка / или только целые числа в диапазоне [0,16]\n",
        "\n",
        " 'cv2_adaptiveThreshold_maxValue':[0,255],  # только целые числа\n",
        " 'cv2_adaptiveThreshold_adaptiveMethod':[0,1], # Выбор из списка\n",
        " 'cv2_adaptiveThreshold_thresholdType':[0,1], # Выбор из списка\n",
        " 'cv2_adaptiveThreshold_blockSize':[3,101], # только нечётные целые числа больше или равные 3\n",
        " 'cv2_adaptiveThreshold_C':[0,255],         # только целые числа\n",
        "\n",
        " }"
      ],
      "metadata": {
        "id": "GAA7MNcH8JFO"
      },
      "execution_count": null,
      "outputs": []
    },
    {
      "cell_type": "markdown",
      "source": [
        "# **Все настройки для всех методов (cv2, PIL)**"
      ],
      "metadata": {
        "id": "-8sw90cwfAee"
      }
    },
    {
      "cell_type": "code",
      "source": [
        "################################################################################\n",
        "#                               cv2                                            #\n",
        "################################################################################\n",
        "\n",
        "# Функции\n",
        "cv2.threshold(img, thresh=50, maxval=255, type=cv2.THRESH_BINARY + cv2.THRESH_OTSU)\n",
        "cv2.adaptiveThreshold(img, maxValue=255, adaptiveMethod=cv2.ADAPTIVE_THRESH_MEAN_C, thresholdType=cv2.THRESH_BINARY, blockSize=31, C=10)\n",
        "cv2.normalize(img, dst=np.zeros((img.shape[0], img.shape[1])), alpha=0, beta=255, norm_type=cv2.NORM_MINMAX)\n",
        "cv2.dilate(img, kernel=(10, 10), iterations=3, anchor=(-1,-1))\n",
        "cv2.erode(img, kernel=(10, 10), iterations=3, anchor=(-1,-1))\n",
        "cv2.GaussianBlur(img, ksize=(11, 11), sigmaX=0, sigmaY=0)\n",
        "cv2.fastNlMeansDenoising(img, h=3, templateWindowSize=7, searchWindowSize=21)\n",
        "\n",
        "# Настройки параметров\n",
        "# Если написано только 2 числа в списке - [0,10], то это значит, что для этого\n",
        "# параметра подходит любое число (float) в данном диапазоне.\n",
        "# Остальные пояснения, думаю, понятны.\n",
        "\n",
        "{'cv2_fastNlMeansDenoising_templateWindowSize':[0,100],     # только целые числа\n",
        " 'cv2_fastNlMeansDenoising_searchWindowSize':[0,21],        # Если большое значение, то сильно увеличивается время обработки\n",
        " 'cv2_fastNlMeansDenoising_h':[0,100],\n",
        "\n",
        " 'cv2_GaussianBlur_ksize_x':[1,51], # Только нечётные целые числа\n",
        " 'cv2_GaussianBlur_ksize_y':[1,51], # Только нечётные целые числа\n",
        " 'cv2_GaussianBlur_sigmaX':[0,10],\n",
        " 'cv2_GaussianBlur_sigmaY':[0,10],\n",
        " 'cv2_GaussianBlur_borderType':[0,1,2,3,4,16], # Выбор из списка\n",
        "\n",
        " 'cv2_erode_kernel_x':[1,51],               # только целые числа\n",
        " 'cv2_erode_kernel_y':[1,51],               # только целые числа\n",
        " 'cv2_erode_anchor':[(0,0), (-1,0), (0,-1), (-1,-1)], # Выбор из списка\n",
        " 'cv2_erode_iterations':[0,20],             # только целые числа\n",
        " 'cv2_erode_BorderType':[0, 1, 2, 4, 16],   # Выбор из списка\n",
        "\n",
        " 'cv2_dilate_kernel_x':[1,51],              # только целые числа\n",
        " 'cv2_dilate_kernel_y':[1,51],              # только целые числа\n",
        " 'cv2_dilate_anchor':[(0,0), (-1,0), (0,-1), (-1,-1)], # Выбор из списка\n",
        " 'cv2_dilate_iterations':[0,20],            # только целые числа\n",
        " 'cv2_dilate_BorderType':[0, 1, 2, 4, 16],  # Выбор из списка\n",
        "\n",
        " 'cv2_normalize_alpha':[0,255], # только целые числа\n",
        " 'cv2_normalize_beta':[0,255],  # только целые числа\n",
        " 'cv2_normalize_norm_type':[1, 2, 4, 32], # Выбор из списка\n",
        "\n",
        " 'cv2_thresholding_thresh':[0,255], # только целые числа\n",
        " 'cv2_thresholding_maxval':[0,255], # только целые числа\n",
        " 'cv2_thresholding_type':[i for i in range(17)], # Выбор из списка / или только целые числа в диапазоне [0,16]\n",
        "\n",
        " 'cv2_adaptiveThreshold_maxValue':[0,255],  # только целые числа\n",
        " 'cv2_adaptiveThreshold_adaptiveMethod':[0,1], # Выбор из списка\n",
        " 'cv2_adaptiveThreshold_thresholdType':[0,1], # Выбор из списка\n",
        " 'cv2_adaptiveThreshold_blockSize':[3,101], # только нечётные целые числа больше или равные 3\n",
        " 'cv2_adaptiveThreshold_C':[0,255],         # только целые числа\n",
        " }\n",
        "\n",
        "################################################################################\n",
        "#                               PIL                                            #\n",
        "################################################################################\n",
        "\n",
        "# Функции\n",
        "ImageEnhance.Sharpness(img).enhance(factor)\n",
        "ImageEnhance.Brightness(img).enhance(factor)\n",
        "ImageEnhance.Contrast(img).enhance(factor)\n",
        "\n",
        "# Список простых фильтров\n",
        "ImageFilter.BLUR\n",
        "ImageFilter.DETAIL\n",
        "ImageFilter.EDGE_ENHANCE\n",
        "ImageFilter.EDGE_ENHANCE_MORE\n",
        "ImageFilter.EMBOSS\n",
        "ImageFilter.SHARPEN\n",
        "ImageFilter.SMOOTH\n",
        "ImageFilter.SMOOTH_MORE\n",
        "\n",
        "# Нахождение контуров (можно попробовать использовать)\n",
        "ImageFilter.CONTOUR\n",
        "ImageFilter.FIND_EDGES\n",
        "\n",
        "# Список фильтров с параметром\n",
        "ImageFilter.BoxBlur(factor)\n",
        "ImageFilter.GaussianBlur(factor)\n",
        "\n",
        "# Использование фильтров\n",
        "img.filter(ImageFilter.EDGE_ENHANCE_MORE)\n",
        "img.filter(ImageFilter.BoxBlur(factor))\n",
        "img.filter(ImageFilter.GaussianBlur(factor))\n",
        "\n",
        "# Настройки для фильтров\n",
        "{'PIL_BoxBlur':[0,10],\n",
        " 'PIL_GaussianBlur':[0,5],}\n",
        "\n",
        "# Примерный предел фактора, в котором происходят изменения изображения (больше или меньше ставить смысла нет)\n",
        "{'PIL_Sharpness':[-500,100],\n",
        " 'PIL_Brightness':[0,100],\n",
        " 'PIL_Contrast':[-100,5],}\n",
        "\n",
        "# Диапазон, где изображение не ухудшается значительно для тестирования\n",
        "{'PIL_Sharpness':[-10,100],\n",
        " 'PIL_Brightness':[0,100],\n",
        " 'PIL_Contrast':[0,5],}"
      ],
      "metadata": {
        "id": "38F0O-qLfJJt"
      },
      "execution_count": null,
      "outputs": []
    },
    {
      "cell_type": "code",
      "source": [
        "# Полезно для перевода из PIL в cv2\n",
        "def to_numpy(im):\n",
        "    im.load()\n",
        "    # unpack data\n",
        "    e = Image._getencoder(im.mode, 'raw', im.mode)\n",
        "    e.setimage(im.im)\n",
        "\n",
        "    # NumPy buffer for the result\n",
        "    shape, typestr = Image._conv_type_shape(im)\n",
        "    data = np.empty(shape, dtype=np.dtype(typestr))\n",
        "    mem = data.data.cast('B', (data.data.nbytes,))\n",
        "\n",
        "    bufsize, s, offset = 65536, 0, 0\n",
        "    while not s:\n",
        "        l, s, d = e.encode(bufsize)\n",
        "        mem[offset:offset + len(d)] = d\n",
        "        offset += len(d)\n",
        "    if s < 0:\n",
        "        raise RuntimeError(\"encoder error %d in tobytes\" % s)\n",
        "    return data\n",
        "\n",
        "# Открыть файл cv2\n",
        "img_cv2 = cv2.imread('путь_к_файлу.png', cv2.IMREAD_UNCHANGED)\n",
        "\n",
        "# Открыть файл PIL\n",
        "img_PIL = Image.open('путь_к_файлу.png').convert('RGB')\n",
        "\n",
        "# Быстрый перевод изображения PIL в массив для использования библиотеки cv2\n",
        "img_cv2 = to_numpy(img_PIL)"
      ],
      "metadata": {
        "id": "AvugagaMgPDI"
      },
      "execution_count": null,
      "outputs": []
    }
  ]
}