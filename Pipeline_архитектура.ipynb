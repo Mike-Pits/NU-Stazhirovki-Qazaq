{
  "nbformat": 4,
  "nbformat_minor": 0,
  "metadata": {
    "colab": {
      "provenance": [],
      "include_colab_link": true
    },
    "kernelspec": {
      "name": "python3",
      "display_name": "Python 3"
    },
    "language_info": {
      "name": "python"
    }
  },
  "cells": [
    {
      "cell_type": "markdown",
      "metadata": {
        "id": "view-in-github",
        "colab_type": "text"
      },
      "source": [
        "<a href=\"https://colab.research.google.com/github/Mike-Pits/NU-Stazhirovki-Qazaq/blob/main/Pipeline_%D0%B0%D1%80%D1%85%D0%B8%D1%82%D0%B5%D0%BA%D1%82%D1%83%D1%80%D0%B0.ipynb\" target=\"_parent\"><img src=\"https://colab.research.google.com/assets/colab-badge.svg\" alt=\"Open In Colab\"/></a>"
      ]
    },
    {
      "cell_type": "markdown",
      "source": [
        "## Инициализация моделей"
      ],
      "metadata": {
        "id": "Gch2aJRk1vRd"
      }
    },
    {
      "cell_type": "code",
      "source": [
        "# тут код для скачивания моделей в папку колаба"
      ],
      "metadata": {
        "id": "g5NYP4V03P1k"
      },
      "execution_count": null,
      "outputs": []
    },
    {
      "cell_type": "code",
      "source": [
        "import os\n",
        "\n",
        "# Установка переменной окружения\n",
        "os.environ['MY_VAR'] = 'some_value'"
      ],
      "metadata": {
        "id": "M6YBy1_1QoNr"
      },
      "execution_count": null,
      "outputs": []
    },
    {
      "cell_type": "code",
      "source": [
        "# Синглтон для однократной загрузки моделей\n",
        "# Данный класс будет инициироваться при старте приложения\n",
        "# И далее не будет требоваться время на загрузку моделей\n",
        "# Каждый раз при создании экземпляра класса возвращается один объект\n",
        "# Можно расширять, сколько надо, подгружая модели\n",
        "# open–closed principle, OCP\n",
        "class ModelsHub:\n",
        "    _instance = None\n",
        "\n",
        "    def __new__(cls):\n",
        "        if cls._instance is None:\n",
        "            cls._instance = super(ModelsHub, cls).__new__(cls)\n",
        "            # Инициализация моделей здесь\n",
        "            cls._instance.rotate_model = cls.load_rotate_model()\n",
        "            cls._instance.model_b = cls.load_b_model()\n",
        "        return cls._instance\n",
        "\n",
        "    @staticmethod\n",
        "    def load_rotate_model():\n",
        "        # при желании пути до моделей можно брать из ENV\n",
        "        # my_var_value = os.environ.get('MY_VAR')\n",
        "        # model_path = '/app/model_files/rotation_model.h5'\n",
        "        # return tf.keras.models.load_model(path, custom_objects=CUSTOM_OBJECTS)\n",
        "        return 'Rotate model'\n",
        "\n",
        "    @staticmethod\n",
        "    def load_b_model():\n",
        "        # model_path = \"\"\n",
        "        # return YOLO(model_path)\n",
        "        return 'modelb'"
      ],
      "metadata": {
        "id": "w8uxtwpR7A7m"
      },
      "execution_count": null,
      "outputs": []
    },
    {
      "cell_type": "code",
      "source": [
        "# Пример использования\n",
        "models = ModelsHub()\n",
        "print(models.rotate_model)\n",
        "print(models.model_b)"
      ],
      "metadata": {
        "colab": {
          "base_uri": "https://localhost:8080/"
        },
        "id": "SgSH4Ima58EX",
        "outputId": "5b34cdc7-6c78-4d3e-ddb7-a2893f3446a5"
      },
      "execution_count": null,
      "outputs": [
        {
          "output_type": "stream",
          "name": "stdout",
          "text": [
            "Rotate model\n",
            "modelb\n"
          ]
        }
      ]
    },
    {
      "cell_type": "code",
      "source": [
        "# Контекст является объектом хранящим данных и конфигурации\n",
        "# И изменяемым в процессе прохождения через пайплайн\n",
        "class Context:\n",
        "  def __init__(self, models, images, processing_params = {}, metadata = {}):\n",
        "  # def __init__(self, models: ModelsHub, images: List[ImageDTO], processing_params: dict = {}, metadata: dict = {}):\n",
        "    self.images = images\n",
        "    self.models = models\n",
        "    self.processing_params = processing_params\n",
        "    self.metadata = metadata\n",
        "  # может содержать методы сигнализирующие об ошибке обработки\n",
        "  # а также методы агрегирующие разультат\n",
        "  # напириер конечный результат после завершения обработки"
      ],
      "metadata": {
        "id": "Vp8MlARd2vy1"
      },
      "execution_count": null,
      "outputs": []
    },
    {
      "cell_type": "code",
      "source": [
        "# пример использования хаба моделей и контекста\n",
        "models = ModelsHub()\n",
        "context = Context(models, [])\n",
        "print(context.models.rotate_model)\n",
        "\n",
        "# в любом месте где доступен контекст может быть вызвана модель AI"
      ],
      "metadata": {
        "colab": {
          "base_uri": "https://localhost:8080/"
        },
        "id": "IzuQmFjv7u8K",
        "outputId": "7a2332fe-4bed-4b2e-e50f-226256937eca"
      },
      "execution_count": null,
      "outputs": [
        {
          "output_type": "stream",
          "name": "stdout",
          "text": [
            "Rotate model\n"
          ]
        }
      ]
    },
    {
      "cell_type": "code",
      "source": [
        "# Класс ячейки таблицы\n",
        "# подобные классы можно создать\n",
        "# для любого объекта с логикой поддержки консистентности\n",
        "class TableRow:\n",
        "    def __init__(self, item, unit, quantity, price, amount):\n",
        "        self.item = item\n",
        "        self.unit = unit\n",
        "        self.quantity = quantity\n",
        "        self.price = price\n",
        "        self.amount = amount\n",
        "\n",
        "    @classmethod\n",
        "    def create_from_dict(cls, row_data):\n",
        "        required_keys = [\"item\", \"unit\", \"quantity\", \"price\", \"amount\"]\n",
        "        if isinstance(row_data, dict) and all(key in row_data for key in required_keys):\n",
        "            return cls(row_data[\"item\"], row_data[\"unit\"], row_data[\"quantity\"], row_data[\"price\"], row_data[\"amount\"])\n",
        "        else:\n",
        "            print(\"Некорректные данные для строки таблицы\")\n",
        "            return None\n",
        "\n",
        "    def to_json(self):\n",
        "        return {\n",
        "            \"10-01 Item\": self.item,\n",
        "            \"10-02 Unit\": self.unit,\n",
        "            \"10-03 Quantity\": self.quantity,\n",
        "            \"10-04 Price\": self.price,\n",
        "            \"10-05 Amount\": self.amount\n",
        "        }"
      ],
      "metadata": {
        "id": "i35V3Id5Dvf6"
      },
      "execution_count": null,
      "outputs": []
    },
    {
      "cell_type": "code",
      "source": [
        "# Data Transfer Object (DTO)\n",
        "# Объект изображения включающий все методы по работе с изображением\n",
        "class ImageDTO:\n",
        "    # переменные которые нельзя менять через set_attr\n",
        "    PROTECTED_ATTRIBUTES = ['path', 'name', 'prepared_img']\n",
        "\n",
        "    def __init__(self, path, name):\n",
        "        self.path = path\n",
        "        self.name = name\n",
        "        # salt.raw - может быть например numpy объект чтобы не загрудать повторно\n",
        "        self.prepared_img = None\n",
        "        self.receipt_number = ''\n",
        "        self.receipt_date = ''\n",
        "        self.items_table = []\n",
        "\n",
        "    def _create_items_table_json(self):\n",
        "        return [row.to_json() for row in self.items_table]\n",
        "\n",
        "    # Пример метода сохраняющего путь до файла после предобработки\n",
        "    def set_prepared_img(self, img_path):\n",
        "       self.prepared_img = img_path\n",
        "\n",
        "    # метод установки значения отрибутов\n",
        "    def set_attr(self, attribute_name, value):\n",
        "        if attribute_name in ImageDTO.PROTECTED_ATTRIBUTES:\n",
        "            print(f\"Ошибка: Нельзя изменять атрибут '{attribute_name}'.\")\n",
        "            return\n",
        "        setattr(self, attribute_name, value)\n",
        "\n",
        "    def add_table_row(self, row_data):\n",
        "        row = TableRow.create_from_dict(row_data)\n",
        "        if row is not None:\n",
        "            self.items_table.append(row)\n",
        "\n",
        "    # Пример метода возвращающего информацию\n",
        "    # о изображении в виде json объекта\n",
        "    # необходим для выводе\n",
        "    def to_json(self):\n",
        "       example = {\n",
        "          \"File Name\": self.name,\n",
        "          \"01 Receipt Number\": self.receipt_number,\n",
        "          \"02 Receipt Date\": self.receipt_date,\n",
        "          \"10 Items Table\": self._create_items_table_json(),\n",
        "       }\n",
        "       return example"
      ],
      "metadata": {
        "id": "j7pp9PbT8duZ"
      },
      "execution_count": null,
      "outputs": []
    },
    {
      "cell_type": "code",
      "source": [
        "import json\n",
        "# Пример использования\n",
        "image = ImageDTO('/tmp/adfasdf', '0123.png')\n",
        "\n",
        "print(image.path)\n",
        "print(image.name)\n",
        "print(image.to_json())\n",
        "\n",
        "# добавление в объект значений переменных\n",
        "image.set_attr('receipt_number', '0987')\n",
        "\n",
        "# добавление ячеек таблицы\n",
        "image.add_table_row({\"item\": \"Item1\", \"unit\": \"pcs\", \"quantity\": 10, \"price\": 5.0, \"amount\": 50.0})\n",
        "image.add_table_row({\"item\": \"Item1\", \"unit\": \"pcs\", \"quantity\": 20, \"price\": 2.0, \"amount\": 40.0})\n",
        "\n",
        "# Форматированный вывод JSON\n",
        "formatted_json = json.dumps(image.to_json(), indent=2)\n",
        "print(formatted_json)"
      ],
      "metadata": {
        "colab": {
          "base_uri": "https://localhost:8080/"
        },
        "id": "2FhSsh5x91we",
        "outputId": "cc0f8a9a-cb71-43e9-a55c-8eb98e6213c8"
      },
      "execution_count": null,
      "outputs": [
        {
          "output_type": "stream",
          "name": "stdout",
          "text": [
            "/tmp/adfasdf\n",
            "0123.png\n",
            "{'File Name': '0123.png', '01 Receipt Number': '', '02 Receipt Date': '', '10 Items Table': []}\n",
            "{\n",
            "  \"File Name\": \"0123.png\",\n",
            "  \"01 Receipt Number\": \"0987\",\n",
            "  \"02 Receipt Date\": \"\",\n",
            "  \"10 Items Table\": [\n",
            "    {\n",
            "      \"10-01 Item\": \"Item1\",\n",
            "      \"10-02 Unit\": \"pcs\",\n",
            "      \"10-03 Quantity\": 10,\n",
            "      \"10-04 Price\": 5.0,\n",
            "      \"10-05 Amount\": 50.0\n",
            "    },\n",
            "    {\n",
            "      \"10-01 Item\": \"Item1\",\n",
            "      \"10-02 Unit\": \"pcs\",\n",
            "      \"10-03 Quantity\": 20,\n",
            "      \"10-04 Price\": 2.0,\n",
            "      \"10-05 Amount\": 40.0\n",
            "    }\n",
            "  ]\n",
            "}\n"
          ]
        }
      ]
    },
    {
      "cell_type": "markdown",
      "source": [
        "## Пример использования хаба моделей и контекста и ImageDTO"
      ],
      "metadata": {
        "id": "reKGre1rK-sU"
      }
    },
    {
      "cell_type": "code",
      "source": [
        "# пример использования хаба моделей и контекста и ImageDTO\n",
        "models = ModelsHub()\n",
        "image = ImageDTO('/tmp/adfasdf', '0123.png')\n",
        "context = Context(models, [image])\n",
        "\n",
        "print(context.models.rotate_model)\n",
        "print(context.images[0].to_json())\n"
      ],
      "metadata": {
        "colab": {
          "base_uri": "https://localhost:8080/"
        },
        "id": "27g5k4e-FWXN",
        "outputId": "4f68a17b-9aac-4d89-9b8d-e715efc5f3bb"
      },
      "execution_count": null,
      "outputs": [
        {
          "output_type": "stream",
          "name": "stdout",
          "text": [
            "Rotate model\n",
            "{'File Name': '0123.png', '01 Receipt Number': '', '02 Receipt Date': '', '10 Items Table': []}\n"
          ]
        }
      ]
    },
    {
      "cell_type": "markdown",
      "source": [
        "##  Пайплайн"
      ],
      "metadata": {
        "id": "JfbhdJzzLZOi"
      }
    },
    {
      "cell_type": "markdown",
      "source": [
        "Класс Pipeline представляет собой последовательность обработчиков (процессоров), каждый из которых выполняет определенную задачу обработки. Эти обработчики должны быть наследниками класса BaseProcessor и реализовывать метод process. В конструкторе класса Pipeline создается список self.pipeline, содержащий экземпляры обработчиков: ImagePreprocessor, NeuralNetworkPredictor, и PostProcessor.\n",
        "\n",
        "Метод run класса Pipeline последовательно применяет каждый процессор из списка к контексту. Каждый процессор может модифицировать ImageDTO в контексте, добавляя в него результаты своей работы или изменяя его текущее состояние. После прохождения через все процессоры, модифицированный контекст возвращается как результат работы всего пайплайна.\n",
        "\n",
        "Эта архитектура позволяет гибко управлять процессом обработки данных, комбинируя различные процессоры и передавая контекст между ними для обмена информацией и результатами обработки.\n",
        "\n",
        "\n",
        "\n",
        "\n",
        "\n",
        "\n"
      ],
      "metadata": {
        "id": "FoaXCby3Ms5W"
      }
    },
    {
      "cell_type": "code",
      "source": [
        "# Класс BaseProcessor служит в качестве абстрактного базового класса для всех процессоров\n",
        "# в системе обработки данных.\n",
        "# Он определяет обязательный метод process, который должен быть реализован во всех классах-наследниках.\n",
        "# Этот метод принимает объект context, который содержит все необходимые данные и состояния, передаваемые между процессорами.\n",
        "class BaseProcessor:\n",
        "    def process(self, context):\n",
        "        raise NotImplementedError(\"Each processor must implement the 'process' method.\")"
      ],
      "metadata": {
        "id": "_NvB4gF0MEA8"
      },
      "execution_count": null,
      "outputs": []
    },
    {
      "cell_type": "code",
      "source": [
        "class PostProcessor(BaseProcessor):\n",
        "    def process(self, context):\n",
        "        # Всегда принимает и возвращает контекст\n",
        "        # внутри контекста есть все данные необходимые для обработаки\n",
        "        # context.models - загруженнные модели AI\n",
        "        # context.images - массив изображений ImageDTO\n",
        "        return context"
      ],
      "metadata": {
        "id": "ka1r2hlBOUFE"
      },
      "execution_count": null,
      "outputs": []
    },
    {
      "cell_type": "code",
      "source": [
        "#\n",
        "class Pipeline:\n",
        "    def __init__(self):\n",
        "        self.pipeline = [\n",
        "            # ImagePreprocessor(),\n",
        "            # NeuralNetworkPredictor(),\n",
        "            PostProcessor()\n",
        "        ]\n",
        "\n",
        "    def run(self, context):\n",
        "        for processor in self.pipeline:\n",
        "            context = processor.process(context)\n",
        "        return context"
      ],
      "metadata": {
        "id": "KU1NZRDDLYp6"
      },
      "execution_count": null,
      "outputs": []
    }
  ]
}