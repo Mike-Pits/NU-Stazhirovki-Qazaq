{
 "cells": [
  {
   "cell_type": "code",
   "execution_count": 2,
   "metadata": {},
   "outputs": [],
   "source": [
    "import os\n",
    "import shutil\n",
    "from pathlib import Path\n",
    "from sklearn.model_selection import train_test_split\n",
    "\n",
    "# Define the base paths\n",
    "dataset_path = Path('/Users/pheonix/Desktop/AIU-qs-project/dataset')\n",
    "images_path = dataset_path / 'images'\n",
    "labels_path = dataset_path / 'labels'\n",
    "\n",
    "# Create train and validation directories\n",
    "train_dir = dataset_path / 'train'\n",
    "val_dir = dataset_path / 'val'\n",
    "train_dir_images = train_dir / 'images'\n",
    "train_dir_labels = train_dir / 'labels'\n",
    "val_dir_images = val_dir / 'images'\n",
    "val_dir_labels = val_dir / 'labels'\n",
    "\n",
    "for path in [train_dir_images, train_dir_labels, val_dir_images, val_dir_labels]:\n",
    "    path.mkdir(parents=True, exist_ok=True)\n",
    "\n",
    "# Get list of image files\n",
    "image_files = [f for f in images_path.glob('*.png')]\n",
    "\n",
    "# Split files into train and validation sets\n",
    "train_files, val_files = train_test_split(image_files, test_size=0.2, random_state=42)\n",
    "\n",
    "# Function to copy files\n",
    "def copy_files(files, src_folder, dest_folder):\n",
    "    for file in files:\n",
    "        label_file = labels_path / (file.stem + '.txt')\n",
    "        shutil.copy(file, dest_folder / file.name)\n",
    "        shutil.copy(label_file, dest_folder.parent / 'labels' / label_file.name)\n",
    "\n",
    "# Copy files to their respective directories\n",
    "copy_files(train_files, images_path, train_dir_images)\n",
    "copy_files(val_files, images_path, val_dir_images)\n"
   ]
  },
  {
   "cell_type": "code",
   "execution_count": 3,
   "metadata": {},
   "outputs": [],
   "source": [
    "import os\n",
    "from pathlib import Path\n",
    "\n",
    "# Paths for images and labels\n",
    "dataset_path = Path('/Users/pheonix/Desktop/AIU-qs-project/dataset')\n",
    "train_images = dataset_path / 'train/images'\n",
    "train_labels = dataset_path / 'train/labels'\n",
    "val_images = dataset_path / 'val/images'\n",
    "val_labels = dataset_path / 'val/labels'\n",
    "\n",
    "# Update the data.yaml file\n",
    "data_yaml = dataset_path / 'data.yaml'\n",
    "with data_yaml.open('w') as file:\n",
    "    file.write(\n",
    "        f'path: {dataset_path}\\n'\n",
    "        f'train: {train_images}\\n'\n",
    "        f'val: {val_images}\\n'\n",
    "        f'nc: 3\\n'  # Number of classes\n",
    "        f\"names: ['20 Top Block', '21 Middle Block', '22 Bottom Block']\\n\"  # List of class names\n",
    "    )\n"
   ]
  }
 ],
 "metadata": {
  "kernelspec": {
   "display_name": "iai_ct_project",
   "language": "python",
   "name": "python3"
  },
  "language_info": {
   "codemirror_mode": {
    "name": "ipython",
    "version": 3
   },
   "file_extension": ".py",
   "mimetype": "text/x-python",
   "name": "python",
   "nbconvert_exporter": "python",
   "pygments_lexer": "ipython3",
   "version": "3.10.11"
  }
 },
 "nbformat": 4,
 "nbformat_minor": 2
}
